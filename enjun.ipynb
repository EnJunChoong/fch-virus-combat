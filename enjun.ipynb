{
 "cells": [
  {
   "cell_type": "code",
   "execution_count": 74,
   "metadata": {},
   "outputs": [],
   "source": [
    "import re\n",
    "import json\n",
    "import pandas as pd\n",
    "import numpy as np\n",
    "import requests\n",
    "from bs4 import BeautifulSoup\n",
    "import collections"
   ]
  },
  {
   "cell_type": "code",
   "execution_count": 159,
   "metadata": {},
   "outputs": [
    {
     "name": "stdout",
     "output_type": "stream",
     "text": [
      "['thestar_v1', 'thestar_v1_covid', 'sebenarnya_v2_proccessed2', 'sebenarnya_v2_proccessed1', 'sebenarnya_v2_test1', 'sebenarnya_v1_test2']\n"
     ]
    }
   ],
   "source": [
    "import pymongo\n",
    "import json\n",
    "from Processing.Processing import Processing\n",
    "\n",
    "client = pymongo.MongoClient()\n",
    "db = client[\"news\"]\n",
    "print(client['news'].list_collection_names())\n",
    "coll_raw = db['thestar_v1_covid']\n",
    "coll_processed = db['sebenarnya_v2_proccessed1']"
   ]
  },
  {
   "cell_type": "code",
   "execution_count": 170,
   "metadata": {},
   "outputs": [
    {
     "data": {
      "text/plain": [
       "300"
      ]
     },
     "execution_count": 170,
     "metadata": {},
     "output_type": "execute_result"
    }
   ],
   "source": [
    "# coll_raw.delete_many({})\n",
    "len(list(coll_raw.find()))"
   ]
  },
  {
   "cell_type": "code",
   "execution_count": 171,
   "metadata": {},
   "outputs": [
    {
     "data": {
      "text/plain": [
       "{'_id': ObjectId('5e8b5d1f81ef25576e5b1672'),\n",
       " 'full_html': '<div class=\"articleDetails focus-wrapper \" href=\"https://www.thestar.com.my/news/nation/2020/04/06/83-million-households-singles-to-receive-bpn-aid-from-monday-april-6\" data-widget-id=\"1341\" data-articleid=\"3115188\" data-articletitle=\"8.3 million households, singles to receive BPN aid from Monday (April 6)\">\\n    <div id=\"pb\" data-cms_article_id=\"3115188\" data-np_article_id=\"253148\"></div>\\n    \\n        <div class=\"headline story-pg\">\\n        <h1>\\n            8.3 million households, singles to receive BPN aid from Monday (April 6)\\n        </h1>\\n        <hr>\\n    </div>\\n    \\n    <style type=\"text/css\">\\n        @media  only screen and (max-width: 960px){\\n        #sideNote {\\n        position: initial !important;\\n        }\\n        }\\n        .story-wrapper {\\n            padding-top: 0 !important;\\n        }\\n\\n        .story-set-gallery img {\\n            position: absolute;\\n            height: 100%;\\n            width: 100%;\\n            -o-object-fit: cover;\\n            object-fit: cover;\\n            -o-object-position: 0% 10%;\\n            object-position: 50% 50%;\\n        }\\n\\n        .thumb__head {\\n            background-color: #eeeeee;\\n            width: 100%;\\n            overflow: hidden;\\n            position: relative;\\n            padding-bottom: 100%;\\n        }\\n\\n    </style>\\n    <div class=\"row content-holder story-wrapper\">\\n        <ul class=\"col-xs-12 col-sm-12 col-md-3 side-note\" id=\"sideNote\">\\n                        <li>\\n                                                    <a href=\"/news/nation/\" class=\"kicker\" data-list-type=\"Article\" data-content-type=\"Navigation\" data-content-title=\"Nation\" data-content-id=\"https://www.thestar.com.my/news/nation/\">Nation\\n                        </a>\\n                            \\n                        <span class=\"labels labels--free\" data-toggle=\"tooltip\" title=\"\" data-original-title=\"This is a Free article\"><i class=\"fa fa-unlock\"></i></span>\\n                        </li>\\n            <li>\\n                <p class=\"date\">\\n                    Monday, 06 Apr 2020\\n                </p>\\n                                                <time class=\"timestamp\">11:26 PM MYT\\n                </time>\\n                                                            </li>\\n            <li>\\n                <ul class=\"social\">\\n                    <!--StaticHtml-->\\n                    <div class=\"service-panel\" style=\" margin-top: 10px; width: 85%; float: left;\">\\n                        <!-- Remove po.st social share\\n                        <div class=\"post-Wiz-Custom-Items\" data-id=\"wid-47r2u0p7\" ></div>\\n                        -->\\n                        <!-- Go to www.addthis.com/dashboard to customize your tools -->\\n                        <script type=\"text/javascript\" src=\"//s7.addthis.com/js/300/addthis_widget.js#pubid=ra-5dfaeb0face4ad17\"></script>\\n                        <div class=\"addthis_inline_share_toolbox\" data-url=\"https://www.thestar.com.my/news/nation/2020/04/06/83-million-households-singles-to-receive-bpn-aid-from-monday-april-6\" data-title=\"8.3 million households, singles to receive BPN aid from Monday (April 6)\" data-description=\"KUALA LUMPUR (Bernama): About 8.3 million households and singles are set to enjoy the first phase of the Bantuan Prihatin Nasional (BPN) aid in stages beginning Monday (April 6).\" style=\"clear: both;\"><div id=\"atstbx2\" class=\"at-resp-share-element at-style-responsive addthis-smartlayers addthis-animated at4-show\" aria-labelledby=\"at-14611748-b007-4858-a8f1-51824b982683\" role=\"region\"><span id=\"at-14611748-b007-4858-a8f1-51824b982683\" class=\"at4-visually-hidden\">AddThis Sharing Buttons</span><div class=\"at-share-btn-elements\"><a role=\"button\" tabindex=\"0\" class=\"at-icon-wrapper at-share-btn at-svc-facebook\" style=\"background-color: rgb(59, 89, 152); border-top-left-radius: 16px; border-top-right-radius: 16px; border-bottom-right-radius: 16px; border-bottom-left-radius: 16px;\"><span class=\"at4-visually-hidden\">Share to Facebook</span><span class=\"at-icon-wrapper\" style=\"line-height: 20px; height: 20px; width: 20px;\"><svg xmlns=\"http://www.w3.org/2000/svg\" xmlns:xlink=\"http://www.w3.org/1999/xlink\" viewbox=\"0 0 32 32\" version=\"1.1\" role=\"img\" aria-labelledby=\"at-svg-facebook-1\" class=\"at-icon at-icon-facebook\" style=\"fill: rgb(255, 255, 255); width: 20px; height: 20px;\"><title id=\"at-svg-facebook-1\">Facebook</title><g><path d=\"M22 5.16c-.406-.054-1.806-.16-3.43-.16-3.4 0-5.733 1.825-5.733 5.17v2.882H9v3.913h3.837V27h4.604V16.965h3.823l.587-3.913h-4.41v-2.5c0-1.123.347-1.903 2.198-1.903H22V5.16z\" fill-rule=\"evenodd\"></path></g></svg></span></a><a role=\"button\" tabindex=\"0\" class=\"at-icon-wrapper at-share-btn at-svc-twitter\" style=\"background-color: rgb(29, 161, 242); border-top-left-radius: 16px; border-top-right-radius: 16px; border-bottom-right-radius: 16px; border-bottom-left-radius: 16px;\"><span class=\"at4-visually-hidden\">Share to Twitter</span><span class=\"at-icon-wrapper\" style=\"line-height: 20px; height: 20px; width: 20px;\"><svg xmlns=\"http://www.w3.org/2000/svg\" xmlns:xlink=\"http://www.w3.org/1999/xlink\" viewbox=\"0 0 32 32\" version=\"1.1\" role=\"img\" aria-labelledby=\"at-svg-twitter-2\" class=\"at-icon at-icon-twitter\" style=\"fill: rgb(255, 255, 255); width: 20px; height: 20px;\"><title id=\"at-svg-twitter-2\">Twitter</title><g><path d=\"M27.996 10.116c-.81.36-1.68.602-2.592.71a4.526 4.526 0 0 0 1.984-2.496 9.037 9.037 0 0 1-2.866 1.095 4.513 4.513 0 0 0-7.69 4.116 12.81 12.81 0 0 1-9.3-4.715 4.49 4.49 0 0 0-.612 2.27 4.51 4.51 0 0 0 2.008 3.755 4.495 4.495 0 0 1-2.044-.564v.057a4.515 4.515 0 0 0 3.62 4.425 4.52 4.52 0 0 1-2.04.077 4.517 4.517 0 0 0 4.217 3.134 9.055 9.055 0 0 1-5.604 1.93A9.18 9.18 0 0 1 6 23.85a12.773 12.773 0 0 0 6.918 2.027c8.3 0 12.84-6.876 12.84-12.84 0-.195-.005-.39-.014-.583a9.172 9.172 0 0 0 2.252-2.336\" fill-rule=\"evenodd\"></path></g></svg></span></a><a role=\"button\" tabindex=\"0\" class=\"at-icon-wrapper at-share-btn at-svc-linkedin\" style=\"background-color: rgb(0, 119, 181); border-top-left-radius: 16px; border-top-right-radius: 16px; border-bottom-right-radius: 16px; border-bottom-left-radius: 16px;\"><span class=\"at4-visually-hidden\">Share to LinkedIn</span><span class=\"at-icon-wrapper\" style=\"line-height: 20px; height: 20px; width: 20px;\"><svg xmlns=\"http://www.w3.org/2000/svg\" xmlns:xlink=\"http://www.w3.org/1999/xlink\" viewbox=\"0 0 32 32\" version=\"1.1\" role=\"img\" aria-labelledby=\"at-svg-linkedin-3\" class=\"at-icon at-icon-linkedin\" style=\"fill: rgb(255, 255, 255); width: 20px; height: 20px;\"><title id=\"at-svg-linkedin-3\">LinkedIn</title><g><path d=\"M26 25.963h-4.185v-6.55c0-1.56-.027-3.57-2.175-3.57-2.18 0-2.51 1.7-2.51 3.46v6.66h-4.182V12.495h4.012v1.84h.058c.558-1.058 1.924-2.174 3.96-2.174 4.24 0 5.022 2.79 5.022 6.417v7.386zM8.23 10.655a2.426 2.426 0 0 1 0-4.855 2.427 2.427 0 0 1 0 4.855zm-2.098 1.84h4.19v13.468h-4.19V12.495z\" fill-rule=\"evenodd\"></path></g></svg></span></a><a role=\"button\" tabindex=\"0\" class=\"at-icon-wrapper at-share-btn at-svc-reddit\" style=\"background-color: rgb(255, 87, 0); border-top-left-radius: 16px; border-top-right-radius: 16px; border-bottom-right-radius: 16px; border-bottom-left-radius: 16px;\"><span class=\"at4-visually-hidden\">Share to Reddit</span><span class=\"at-icon-wrapper\" style=\"line-height: 20px; height: 20px; width: 20px;\"><svg xmlns=\"http://www.w3.org/2000/svg\" xmlns:xlink=\"http://www.w3.org/1999/xlink\" viewbox=\"0 0 32 32\" version=\"1.1\" role=\"img\" aria-labelledby=\"at-svg-reddit-4\" class=\"at-icon at-icon-reddit\" style=\"fill: rgb(255, 255, 255); width: 20px; height: 20px;\"><title id=\"at-svg-reddit-4\">Reddit</title><g><path d=\"M27 15.5a2.452 2.452 0 0 1-1.338 2.21c.098.38.147.777.147 1.19 0 1.283-.437 2.47-1.308 3.563-.872 1.092-2.06 1.955-3.567 2.588-1.506.634-3.143.95-4.91.95-1.768 0-3.403-.316-4.905-.95-1.502-.632-2.69-1.495-3.56-2.587-.872-1.092-1.308-2.28-1.308-3.562 0-.388.045-.777.135-1.166a2.47 2.47 0 0 1-1.006-.912c-.253-.4-.38-.842-.38-1.322 0-.678.237-1.26.712-1.744a2.334 2.334 0 0 1 1.73-.726c.697 0 1.29.26 1.78.782 1.785-1.258 3.893-1.928 6.324-2.01l1.424-6.467a.42.42 0 0 1 .184-.26.4.4 0 0 1 .32-.063l4.53 1.006c.147-.306.368-.553.662-.74a1.78 1.78 0 0 1 .97-.278c.508 0 .94.18 1.302.54.36.36.54.796.54 1.31 0 .512-.18.95-.54 1.315-.36.364-.794.546-1.302.546-.507 0-.94-.18-1.295-.54a1.793 1.793 0 0 1-.533-1.308l-4.1-.92-1.277 5.86c2.455.074 4.58.736 6.37 1.985a2.315 2.315 0 0 1 1.757-.757c.68 0 1.256.242 1.73.726.476.484.713 1.066.713 1.744zm-16.868 2.47c0 .513.178.95.534 1.315.356.365.787.547 1.295.547.508 0 .942-.182 1.302-.547.36-.364.54-.802.54-1.315 0-.513-.18-.95-.54-1.31-.36-.36-.794-.54-1.3-.54-.5 0-.93.183-1.29.547a1.79 1.79 0 0 0-.54 1.303zm9.944 4.406c.09-.09.135-.2.135-.323a.444.444 0 0 0-.44-.447c-.124 0-.23.042-.32.124-.336.348-.83.605-1.486.77a7.99 7.99 0 0 1-1.964.248 7.99 7.99 0 0 1-1.964-.248c-.655-.165-1.15-.422-1.486-.77a.456.456 0 0 0-.32-.124.414.414 0 0 0-.306.124.41.41 0 0 0-.135.317.45.45 0 0 0 .134.33c.352.355.837.636 1.455.843.617.207 1.118.33 1.503.366a11.6 11.6 0 0 0 1.117.056c.36 0 .733-.02 1.117-.056.385-.037.886-.16 1.504-.366.62-.207 1.104-.488 1.456-.844zm-.037-2.544c.507 0 .938-.182 1.294-.547.356-.364.534-.802.534-1.315 0-.505-.18-.94-.54-1.303a1.75 1.75 0 0 0-1.29-.546c-.506 0-.94.18-1.3.54-.36.36-.54.797-.54 1.31s.18.95.54 1.315c.36.365.794.547 1.3.547z\" fill-rule=\"evenodd\"></path></g></svg></span></a><a role=\"button\" tabindex=\"0\" class=\"at-icon-wrapper at-share-btn at-svc-print\" style=\"background-color: rgb(115, 138, 141); border-top-left-radius: 16px; border-top-right-radius: 16px; border-bottom-right-radius: 16px; border-bottom-left-radius: 16px;\"><span class=\"at4-visually-hidden\">Share to Print</span><span class=\"at-icon-wrapper\" style=\"line-height: 20px; height: 20px; width: 20px;\"><svg xmlns=\"http://www.w3.org/2000/svg\" xmlns:xlink=\"http://www.w3.org/1999/xlink\" viewbox=\"0 0 32 32\" version=\"1.1\" role=\"img\" aria-labelledby=\"at-svg-print-5\" class=\"at-icon at-icon-print\" style=\"fill: rgb(255, 255, 255); width: 20px; height: 20px;\"><title id=\"at-svg-print-5\">Print</title><g><path d=\"M24.67 10.62h-2.86V7.49H10.82v3.12H7.95c-.5 0-.9.4-.9.9v7.66h3.77v1.31L15 24.66h6.81v-5.44h3.77v-7.7c-.01-.5-.41-.9-.91-.9zM11.88 8.56h8.86v2.06h-8.86V8.56zm10.98 9.18h-1.05v-2.1h-1.06v7.96H16.4c-1.58 0-.82-3.74-.82-3.74s-3.65.89-3.69-.78v-3.43h-1.06v2.06H9.77v-3.58h13.09v3.61zm.75-4.91c-.4 0-.72-.32-.72-.72s.32-.72.72-.72c.4 0 .72.32.72.72s-.32.72-.72.72zm-4.12 2.96h-6.1v1.06h6.1v-1.06zm-6.11 3.15h6.1v-1.06h-6.1v1.06z\"></path></g></svg></span></a><a role=\"button\" tabindex=\"0\" class=\"at-icon-wrapper at-share-btn at-svc-email\" style=\"background-color: rgb(132, 132, 132); border-top-left-radius: 16px; border-top-right-radius: 16px; border-bottom-right-radius: 16px; border-bottom-left-radius: 16px;\"><span class=\"at4-visually-hidden\">Share to Email</span><span class=\"at-icon-wrapper\" style=\"line-height: 20px; height: 20px; width: 20px;\"><svg xmlns=\"http://www.w3.org/2000/svg\" xmlns:xlink=\"http://www.w3.org/1999/xlink\" viewbox=\"0 0 32 32\" version=\"1.1\" role=\"img\" aria-labelledby=\"at-svg-email-6\" class=\"at-icon at-icon-email\" style=\"fill: rgb(255, 255, 255); width: 20px; height: 20px;\"><title id=\"at-svg-email-6\">Email</title><g><g fill-rule=\"evenodd\"></g><path d=\"M27 22.757c0 1.24-.988 2.243-2.19 2.243H7.19C5.98 25 5 23.994 5 22.757V13.67c0-.556.39-.773.855-.496l8.78 5.238c.782.467 1.95.467 2.73 0l8.78-5.238c.472-.28.855-.063.855.495v9.087z\"></path><path d=\"M27 9.243C27 8.006 26.02 7 24.81 7H7.19C5.988 7 5 8.004 5 9.243v.465c0 .554.385 1.232.857 1.514l9.61 5.733c.267.16.8.16 1.067 0l9.61-5.733c.473-.283.856-.96.856-1.514v-.465z\"></path></g></svg></span></a></div></div></div>\\n                        <div class=\"addthis_inline_share_toolbox_qyx1\"></div>\\n                    </div>\\n                    <!--/StaticHtml-->\\n                                                                        <div id=\"bookmark_mobile\" class=\"btn--bookmark visible-sm visible-xs pull-right\">\\n                                <i class=\"fa fa-bookmark-o\"></i>\\n                            </div>\\n                                                            </ul>\\n            </li>\\n            <!--BookmarkButton-->\\n                        <li>\\n                    \\n\\n\\n\\n\\n\\n\\n\\n\\n\\n\\n\\n                                    <div id=\"bookmark_web\" class=\"btn--bookmark bookmark-hidden-sm hidden-xs\">\\n                        <i class=\"fa fa-bookmark-o\"></i>\\n                    </div>\\n                                <input type=\"hidden\" value=\"\">\\n                <input type=\"hidden\" id=\"bmRedirect\" name=\"bmRedirect\" value=\"https://sso.thestar.com.my/?lng=en&amp;channel=1&amp;bm=PfkLjx7hHrA3Xtd698X9qw==&amp;ru=HNQ8Auw31qgZZU47ZjHUhHKJStkK3H51/pPcFdJ1gQ9cFgPiSalasDvF6DeumuZwrPFzdYjofJj9eX1n44olyqGHD3HJYujVJKnBGSMMB/zA6HmS6Peb+QLDjEsW3FU2RH1gQmS4tsTNEFqJo3FYMrDUyic26C6T/KW70CapKD98mO4DkD9Yyqk9RYH96eHb7/EVbwojiVhpRnQUDFqvGSemtUdZoaz2uIgOOxxrjnTs6bH07XddnfjzF9skVjSy40RxiBp6IMkNcyM5k6BgdRHimQ8k/2nY+R5xvtWhKjjcFAMVXjjuddn2EyFdEuQj\">\\n                <script>\\n                    $(\\'.btn--bookmark\\').click(function(e) {\\n                        var redirectURL = $(\"#bmRedirect\").attr(\"value\");\\n                        var isLoggedIn = parseInt($(\\'#isBookmarkLoggedIn\\').val());\\n                        if (isLoggedIn) { // logged in\\n                            var vToAPI = $(\"#enbm\").attr(\"value\");\\n                            var bookmarkApiUrl = location.origin + \"/api/v1/bookmark/update/\" + vToAPI;\\n                            console.log(\\'bookmarkApiUrl: \\', bookmarkApiUrl);\\n                            $.get(bookmarkApiUrl, function () {})\\n                                .done(function (data) {\\n                                    console.log(\\'data: \\', data);\\n                                    // updates the bookmark button css\\n                                    $(\\'.btn--bookmark\\').toggleClass(\\'active\\');\\n                                })\\n                                .fail(function (data) {\\n                                    console.log(\\'fail: \\', data);\\n                                });\\n                        }\\n                        else { // not logged in, so we need to redirect to login page\\n                            console.log(\\'redirectURL: \\', redirectURL);\\n                            window.location.href = redirectURL;\\n                        }\\n                    });\\n                </script>\\n                <!--/BookmarkButton-->\\n            </li>\\n                    </ul>\\n        <article class=\"col-xs-12 col-sm-12 col-md-9 story-content\" id=\"story-Article\">\\n                            <div class=\"inline-img\">\\n                    <div class=\"story-image\">\\n                                                                                                                                                                                            <script type=\"text/javascript\"> GenerateMediaTag({\"cms_image_id\":206889,\"np_image_id\":634029,\"image_caption\":\"\",\"np_related_article_id\":253148,\"cms_type\":\"live\",\"image_description\":\"\",\"image_path\":\"uploads\\\\/images\\\\/2020\\\\/04\\\\/06\\\\/634029.jpg\",\"media_type\":0,\"is_old_image\":0,\"small_image\":\"\",\"is_updated\":0,\"image_cropping\":\"{\\\\\"original_image\\\\\":{\\\\\"image_original_width\\\\\":null,\\\\\"image_original_height\\\\\":null,\\\\\"icd_image_type\\\\\":\\\\\"original_image\\\\\"}}\",\"media_order\":0,\"is_copied\":0,\"image_is_deleted\":0,\"image_alt_text\":\"\"},false,true); </script><img data-source=\"uploads/images/2020/04/06/634029.jpg\" src=\"https://apicms.thestar.com.my/uploads/images/2020/04/06/634029.jpg\" alt=\"\" onerror=\"this.src=\\'https://cdn.thestar.com.my/Themes/img/tsol-default-image2017.png\\'\">\\n                                                                                                                                                                                                                                                            </div>\\n                </div>\\n                                        <div id=\"story-body\" class=\"story bot-15 relative\">\\n                <!-- Content data -->\\n                                                \\n                <p>KUALA LUMPUR (Bernama): About 8.3 million households and singles are set to enjoy the first phase of the Bantuan Prihatin Nasional (BPN) aid in stages beginning Monday (April 6).</p>  <p>The aid will surely be a relief for many, especially those who are self-employed with daily earnings, B40 group and those with monthly pay issues.</p><div class=\"sasStoryRectPos\"></div>  <p>On March 27, the government announced the RM9.24bil BPN aid under the Prihatin Rakyat Economic Stimulus Package (Prihatin) to ensure no one is left out.</p>  <p>The BPN payment breakdown is as follows: RM1,600 to households earning RM4,000 and below; RM1,000 to households earning RM4,001 to RM8,000; RM800 to singles earning RM2,000 and below; and RM500 to singles earning RM2,001 to RM4,000.</p><div class=\"inlineAd\" style=\"clear:both; width:100%;\">\\n<script>\\nif (sascalcsize() != \"mobile\") {\\ndocument.write(\"<div id=\\'div-gpt-ad-Desktop_TSOL_News_SP_Mid_OSV\\'>\");\\ndocument.write(\"<scr\");\\ndocument.write(\"ipt>\");\\ndocument.write(\"cX.callQueue.push([\\'invoke\\', function() { \");\\ndocument.write(\"googletag.cmd.push(function() { googletag.display(\\'div-gpt-ad-Desktop_TSOL_News_SP_Mid_OSV\\'); });\");\\ndocument.write(\"refreshBid(\\'div-gpt-ad-Desktop_TSOL_News_SP_Mid_OSV\\', 10);\");\\ndocument.write(\"}]);\");\\ndocument.write(\"</scr\");\\ndocument.write(\"ipt>\");\\ndocument.write(\"</div>\");\\n} else {\\ndocument.write(\"<div id=\\'div-gpt-ad-Mobile_TSOL_News_SP_Mid_OSV\\'>\");\\ndocument.write(\"<scr\");\\ndocument.write(\"ipt>\");\\ndocument.write(\"cX.callQueue.push([\\'invoke\\', function() { \");\\ndocument.write(\"googletag.cmd.push(function() { googletag.display(\\'div-gpt-ad-Mobile_TSOL_News_SP_Mid_OSV\\'); });\");\\ndocument.write(\"refreshBid(\\'div-gpt-ad-Mobile_TSOL_News_SP_Mid_OSV\\', 9);\");\\ndocument.write(\"}]);\");\\ndocument.write(\"</scr\");\\ndocument.write(\"ipt>\");\\ndocument.write(\"</div>\");\\n}\\n</script><div id=\"div-gpt-ad-Desktop_TSOL_News_SP_Mid_OSV\" data-google-query-id=\"CO7t6Kig1OgCFTsOtwAd7uQCSA\"><div id=\"google_ads_iframe_/21764785206/Desktop/Desktop_TSOL/Desktop_TSOL_News/Desktop_TSOL_News_SP_Mid/Desktop_TSOL_News_SP_Mid_OSV_0__container__\" style=\"border: 0pt none;\"><iframe id=\"google_ads_iframe_/21764785206/Desktop/Desktop_TSOL/Desktop_TSOL_News/Desktop_TSOL_News_SP_Mid/Desktop_TSOL_News_SP_Mid_OSV_0\" title=\"3rd party ad content\" name=\"google_ads_iframe_/21764785206/Desktop/Desktop_TSOL/Desktop_TSOL_News/Desktop_TSOL_News_SP_Mid/Desktop_TSOL_News_SP_Mid_OSV_0\" width=\"1\" height=\"1\" scrolling=\"no\" marginwidth=\"0\" marginheight=\"0\" frameborder=\"0\" srcdoc=\"\" data-google-container-id=\"5\" style=\"border: 0px; vertical-align: bottom;\" data-load-complete=\"true\"></iframe></div></div>\\n</div>  <p>Customer service officer Osborne Panis Jatan, 29, who is eligible for the singles aid, said the initiative was timely as the movement control order (MCO) had interrupted all daily operations, causing many workers and traders to have trouble making ends meet.</p>  <p>\"Whether the aid is sufficient or not depends on how they use it, ” said Osborne, who hails from Miri, Sarawak.</p>  <p>D. Dharsheeni, 20, a fourth semester Nilai Polytechnic student, was grateful to the government for the RM200 aid given to students from institutions of higher learning.</p>  <p>\"I’m the eldest of five siblings. My father is a lorry driver and my mother is a housewife. Before studying at the polytechnic, I used to work part-time at a hair salon for some extra income... I can now use the RM200 aid for my last project, ” she said.</p>  <p>Bridal boutique owner Nor Azian Mat@Harun, 37, also heaved a huge sigh of relief after finding out that she was on the list of recipients for households earning less than RM4,000, especially since 13 of her customers postponed their wedding dates due to the MCO despite her having spent her capital.</p>  <p>\"Alhamdulillah, after the PM (Tan Sri Muhyiddin Yassin) announced the BPN, I felt grateful and relieved to recover my capital... to spend on my children, ” said Nor Azian, who now only accepts online orders from customers from Pahang, Terengganu and Kelantan.</p>  <p>A private sector employee, Nurul Yaqira Deraman, 31, said she would put to good use the RM800 aid she’ll be getting after being forced to take unpaid leave by her company, which was facing financial difficulties due to the MCO.</p>  <p>\"Earlier, I was at a loss thinking how to pay the house rent and buy food as my savings had dwindled. But now, I am thankful for the aid, ” she said.</p>  <p>Meanwhile, many netizens, including those on Facebook, Instagram and Twitter expressed relief in their postings about the aid today.</p>  <p>Facebook user Tyaa Aziz wrote: \"Alhamdulillah, grateful. Thank you for easing the burden of unpaid workers like us.”</p>  <p>Another Facebook use, Wana Nana II wrote: \"Alhamdulillah, at least it’s a boon for families in need... there’s food on the table for the whole family.” - Bernama</p>  <p> </p>  <p> </p>  <p> </p>\\n                \\n                </div>\\n                        \\n            <div style=\"display: none;border: 1px solid red;padding: 5px;margin-bottom: 10px;\">\\n                <div>Article type: free</div>\\n                                <div>User access status: </div>\\n            </div>\\n                    \\n                \\t\\t\\t\\n            <!-- /Review data -->\\n            \\n<!-- /GSC Weekly Top 10 data -->\\n             \\n<!-- /Pagination -->\\n            \\n            <!-- Related stories -->\\n            <div class=\"row\">\\n                <div class=\"col-xs-12\">\\n                    <div id=\"related-stories-links\" class=\"story\">\\n                        \\n                    </div>\\n                </div>\\n            </div>\\n            <!-- /Related stories -->\\n\\n            <!-- /Content data -->\\n                                       \\n                  <div class=\"row\">\\n                        <div class=\"col-xs-12 tags\">\\n                            <!-- Tagging Keywords-->\\n                            <p class=\"tags\">\\n                                <label>Tags / Keywords:</label>\\n                                                                                                <a href=\"/search?q=BPN\" data-list-type=\"Article\" data-content-type=\"Navigation\" data-content-title=\"BPN\" data-content-id=\"https://www.thestar.com.my/search?q=BPN\">BPN</a>\\n                                                                ,\\n                                                                                                <a href=\"/search?q=MCO\" data-list-type=\"Article\" data-content-type=\"Navigation\" data-content-title=\"MCO\" data-content-id=\"https://www.thestar.com.my/search?q=MCO\">MCO</a>\\n                                                                ,\\n                                                                                                <a href=\"/search?q=aid\" data-list-type=\"Article\" data-content-type=\"Navigation\" data-content-title=\"aid\" data-content-id=\"https://www.thestar.com.my/search?q=aid\">aid</a>\\n                                                                ,\\n                                                                                                <a href=\"/search?q=movement%20control%20order\" data-list-type=\"Article\" data-content-type=\"Navigation\" data-content-title=\"movement control order\" data-content-id=\"https://www.thestar.com.my/search?q=movement control order\">movement control order</a>\\n                                                                                            </p>\\n                            <!-- /Tagging Keywords-->\\n                        </div>\\n                    </div>\\n                                 \\n                             \\n                               \\n              \\n                                    \\xa0\\xa0\\xa0\\n\\n            \\n                            <style type=\"text/css\">\\n                    .reactions {\\n                        background-color: #efefef;\\n                        padding: 20px 15px;\\n                    }\\n                    .reactions h4 {\\n                        font-size: 18px;\\n                        font-weight: bold;\\n                        margin-bottom: 20px;\\n                    }\\n                    .reactions__buttons {\\n                        margin-bottom: 15px;\\n                        display: table;\\n                    }\\n                    .reactions__button.selected, .reactions__button:hover, .reactions__button:focus, .reactions__button:active {\\n                        background-color: #bb0000;\\n                        color: #ffffff;\\n                    }\\n                    .reactions__button {\\n                        color: #bb0000;\\n                        border: 2px solid #bb0000;\\n                        border-radius: 5px;\\n                        padding: 7px 20px;\\n                        display: inline-block;\\n                        float: left;\\n                        margin-right: 10px;\\n                        font-weight: 600;\\n                        cursor: pointer;\\n                    }\\n                    .selected {\\n                        background: #666;\\n                        color: #fff;\\n                    }\\n                    .reactions__button {\\n                        color: #bb0000;\\n                        border: 2px solid #bb0000;\\n                        border-radius: 5px;\\n                        padding: 7px 20px;\\n                        display: inline-block;\\n                        float: left;\\n                        margin-right: 10px;\\n                        font-weight: 600;\\n                        cursor: pointer;\\n                    }\\n                    .reactions .reactions__desc {\\n                        clear: both;\\n                        color: #666666;\\n                        font-size: 14px;\\n                        line-height: 14px;\\n                        margin-bottom: 0;\\n                    }\\n                    @media (max-width: 767px){\\n                        .reactions__button {\\n                            margin-bottom: 8px;\\n                            font-size: 15px;\\n                        }\\n                    }\\n                    .reactions__button.disabled {\\n                        color: #bb0000;\\n                        background-color: #efefef;\\n                        cursor: default;\\n                    }\\n                    .reactions__button.selected.disabled {\\n                        background-color: #bb0000;\\n                        color: #ffffff;\\n                        cursor: default;\\n                    }\\n                </style>\\n                <div class=\"row bot-20\">\\n                    <div class=\"col-sm-12\">\\n                        <div class=\"reactions\">\\n                            <h4>Did you find this article insightful?</h4>\\n                            <div class=\"reactions__buttons\">\\n                                                                    <div class=\"reactions__button \" data-answer=\"1\" data-id=\"\">\\n                                        Yes\\n                                    </div>\\n                                                                    <div class=\"reactions__button \" data-answer=\"2\" data-id=\"\">\\n                                        No\\n                                    </div>\\n                                                            </div>\\n                                                           <p class=\"reactions__desc\">\\n                                    <span id=\"reaction_perc\">74%</span> \\n                                    <span id=\"reaction_text\">readers found this article insightful</span>\\n                                </p>                         \\n                                                    </div>\\n                    </div>\\n                </div>\\n                        \\n            <div id=\"cx_7d16282009342b0871d43a5a62c8dda11b28cfef\">\\n<div class=\"related-sect\" id=\"related-stories-div\" style=\"\">\\n  <div class=\"headline\">\\n    <h1 class=\"left title-02\">Related News</h1>\\n    <hr>\\n  </div>\\n  <div class=\"row\">\\n    <div class=\"story-set\" id=\"related-stories-list\">\\n\\n<div class=\"story-set-group\">\\n\\n<div class=\"col-xs-12 col-sm-4 in-sec-story\">\\n\\t<div class=\"row\">\\n\\t\\t<div class=\"col-xs-5 right col-sm-12\">\\n\\t\\t\\t<div class=\"img-sticker\">\\n\\t\\t\\t\\t<a onclick=\"ga(\\'send\\', \\'event\\' , \\'Related\\' , \\'click\\' , \\'https://www.thestar.com.my/tech/tech-news/2020/04/03/lhdn-warns-of-sms-scam-targeting-bantuan-prihatin-nasional-recipients\\'); \" id=\"cXLinkIdk8opjp1ag4dtgcha\" href=\"https://www.thestar.com.my/tech/tech-news/2020/04/03/lhdn-warns-of-sms-scam-targeting-bantuan-prihatin-nasional-recipients\" target=\"_top\">\\n                    <img src=\"https://apicms.thestar.com.my/uploads/images/2020/04/03/thumbs/small/630563.jpg\" alt=\"LHDN warns of SMS scam targeting Bantuan Prihatin Nasional recipients\">\\n                </a>\\n\\t\\t\\t</div>\\n\\t\\t</div>\\n\\t\\t<div class=\"col-xs-7 left col-sm-12\">\\n\\t\\t\\t<a class=\"kicker\" href=\"/tag/Facebook\">Facebook</a>\\n\\t\\t\\t<span class=\"timestamp\">03 Apr 2020</span>\\n            \\n            <span class=\"labels labels--free\" data-toggle=\"tooltip\" title=\"\" data-original-title=\"This is a Free article\"><i class=\"fa fa-unlock\"></i></span>\\n            \\n\\t\\t\\t<h2><a onclick=\"ga(\\'send\\', \\'event\\' , \\'Related\\' , \\'click\\' , \\'https://www.thestar.com.my/tech/tech-news/2020/04/03/lhdn-warns-of-sms-scam-targeting-bantuan-prihatin-nasional-recipients\\'); \" id=\"cXLinkIdk8opjp1br5a281uy\" href=\"https://www.thestar.com.my/tech/tech-news/2020/04/03/lhdn-warns-of-sms-scam-targeting-bantuan-prihatin-nasional-recipients\" target=\"_top\">LHDN warns of SMS scam targeting Bantuan Prihatin Nasional recipients</a></h2>\\n\\t\\t</div>\\n\\t</div>\\n</div>\\n\\n<div class=\"col-xs-12 col-sm-4 in-sec-story\">\\n\\t<div class=\"row\">\\n\\t\\t<div class=\"col-xs-5 right col-sm-12\">\\n\\t\\t\\t<div class=\"img-sticker\">\\n\\t\\t\\t\\t<a onclick=\"ga(\\'send\\', \\'event\\' , \\'Related\\' , \\'click\\' , \\'https://www.thestar.com.my/news/nation/2020/04/05/83-million-households-to-get-cash-aid-from-april-6\\'); \" id=\"cXLinkIdk8opjp1bch1n7268\" href=\"https://www.thestar.com.my/news/nation/2020/04/05/83-million-households-to-get-cash-aid-from-april-6\" target=\"_top\">\\n                    <img src=\"https://apicms.thestar.com.my/uploads/images/2020/04/05/thumbs/small/632260.jpg\" alt=\"8.3 million households to get cash aid from April 6\">\\n                </a>\\n\\t\\t\\t</div>\\n\\t\\t</div>\\n\\t\\t<div class=\"col-xs-7 left col-sm-12\">\\n\\t\\t\\t<a class=\"kicker\" href=\"/news/nation\">Nation</a>\\n\\t\\t\\t<span class=\"timestamp\">04 Apr 2020</span>\\n            \\n            <span class=\"labels labels--free\" data-toggle=\"tooltip\" title=\"\" data-original-title=\"This is a Free article\"><i class=\"fa fa-unlock\"></i></span>\\n            \\n\\t\\t\\t<h2><a onclick=\"ga(\\'send\\', \\'event\\' , \\'Related\\' , \\'click\\' , \\'https://www.thestar.com.my/news/nation/2020/04/05/83-million-households-to-get-cash-aid-from-april-6\\'); \" id=\"cXLinkIdk8opjp1b4kzxc37r\" href=\"https://www.thestar.com.my/news/nation/2020/04/05/83-million-households-to-get-cash-aid-from-april-6\" target=\"_top\">8.3 million households to get cash aid from April 6</a></h2>\\n\\t\\t</div>\\n\\t</div>\\n</div>\\n\\n<div class=\"col-xs-12 col-sm-4 in-sec-story\">\\n\\t<div class=\"row\">\\n\\t\\t<div class=\"col-xs-5 right col-sm-12\">\\n\\t\\t\\t<div class=\"img-sticker\">\\n\\t\\t\\t\\t<a onclick=\"ga(\\'send\\', \\'event\\' , \\'Related\\' , \\'click\\' , \\'https://www.thestar.com.my/news/nation/2020/03/31/faqs-relating-to-the-bantuan-prihatin-nasional-bpn-2020\\'); \" id=\"cXLinkIdk8opjp1blc9frc7b\" href=\"https://www.thestar.com.my/news/nation/2020/03/31/faqs-relating-to-the-bantuan-prihatin-nasional-bpn-2020\" target=\"_top\">\\n                    <img src=\"https://apicms.thestar.com.my/uploads/images/2020/03/31/thumbs/small/626243.jpg\" alt=\"Calculate if you‘re eligible for Bantuan Prihatin Nasional, plus the FAQ\">\\n                </a>\\n\\t\\t\\t</div>\\n\\t\\t</div>\\n\\t\\t<div class=\"col-xs-7 left col-sm-12\">\\n\\t\\t\\t<a class=\"kicker\" href=\"/news/nation\">Nation</a>\\n\\t\\t\\t<span class=\"timestamp\">30 Mar 2020</span>\\n            \\n            <span class=\"labels labels--free\" data-toggle=\"tooltip\" title=\"\" data-original-title=\"This is a Free article\"><i class=\"fa fa-unlock\"></i></span>\\n            \\n\\t\\t\\t<h2><a onclick=\"ga(\\'send\\', \\'event\\' , \\'Related\\' , \\'click\\' , \\'https://www.thestar.com.my/news/nation/2020/03/31/faqs-relating-to-the-bantuan-prihatin-nasional-bpn-2020\\'); \" id=\"cXLinkIdk8opjp1b4vctgbob\" href=\"https://www.thestar.com.my/news/nation/2020/03/31/faqs-relating-to-the-bantuan-prihatin-nasional-bpn-2020\" target=\"_top\">Calculate if you‘re eligible for Bantuan Prihatin Nasional, plus the FAQ</a></h2>\\n\\t\\t</div>\\n\\t</div>\\n</div>\\n\\n    </div>\\n      </div>\\n    </div>\\n</div>\\n</div>\\n\\n            <div id=\"cx_temp_7d16282009342b0871d43a5a62c8dda11b28cfef\" style=\"display: none;\"><!--%\\n  \\nfunction replaceLetter(str) {\\n    return str.replace(/[\\\\s\\\\|]+/g,\"/\");\\n\\n}\\n\\nfunction toUpper(str) {\\n\\treturn str\\n    \\t.toLowerCase()\\n    \\t.split(\\' \\')\\n    \\t.map(function(word) {\\n        \\treturn word[0].toUpperCase() + word.substr(1);\\n    \\t})\\n    \\t.join(\\' \\');\\n}\\n\\nconst NOW = new Date()\\nconst times = [[\"s\", 1], [\"m\", 60], [\"h\", 3600], [\"d\", 86400]]\\nconst ceiling = [[\"s\", 60], [\"m\", 3600], [\"h\", 86400], [\"d\", 172800]]\\n\\nfunction month(a){\\nvar mNames = [ \"Jan\", \"Feb\", \"Mar\", \"Apr\", \"May\", \"Jun\", \"Jul\", \"Aug\", \"Sep\", \"Oct\", \"Nov\", \"Dec\" ];\\nreturn mNames[a-1];\\n}\\n\\nfunction timeAgo(pubtime) {\\n    var d = new Date(Date.parse(pubtime))\\n    var diff = Math.round((NOW - d)/1000)   \\n      for (var t = 0; t < times.length; t++) {\\n       if (diff < ceiling[t][1]) {\\n           \\n                diff = Math.round(diff / times[t][1]) \\t\\n\\t\\t\\t\\tif (diff < 1) {\\n\\t\\t\\t\\t\\treturn \"1s ago\"\\t               \\n\\t\\t\\t\\t}else {\\t\\t\\n                \\treturn diff + ceiling[t][0] + \" ago\"\\n                }  \\n\\n      }          \\n\\t  else if (diff > 172800){\\n \\t\\treturn (\\'0\\'+ d.getDate()).slice(-2) + \\' \\' + month(d.getMonth() + 1) + \\' \\' + d.getFullYear()\\n\\t  }        \\n    }\\n}\\n\\nfunction getThumbnail(image) {\\n\\tvar img = image.indexOf(\\'newTsol_logo_socmedia.png\\');\\n    var img1 = image.indexOf(\\'tsol-default-image2017.png\\');\\n    if (img > 0 || img1 > 0) {\\n\\t\\treturn \\'https://cdn.thestar.com.my/Themes/img/tsol-default-image2017.png\\'\\n\\t}\\n    else {\\n\\t\\tvar imagename = image.substr(image.lastIndexOf(\\'/\\')+1);\\n\\t\\tvar imagepath = image.substr(0,image.lastIndexOf(\\'/\\')+1);\\n\\t\\timage = imagepath + \"thumbs/small/\" + imagename;\\n        return image;\\n\\t}\\n\\n}\\n\\nfunction getBizKeyword(tags) {\\n\\n\\tvar blacklist = [\"Business\", \"Business News\", \"Premium\", \"Political\", \"PA\", \"PB\", \"PI\", \"Commodities\"];\\n    var taglist = [\"Corporate News\", \"Stock on the Move\", \"Advertising & Media\", \"Auto\", \"Aviation\", \"Analyst Reports\", \"Banking\", \"Commodities\", \"Construction\", \"Cryptocurrency\", \"e-Commerce\", \"Economy\", \"Fintech\", \"Forex\", \"Insurance\", \"Investment\", \"Short Position\", \"Support Line\", \"Markets\", \"M & A\", \"Energy\", \"Personal Finance\", \"Plantations\", \"Property\", \"Retail\", \"SME\", \"Stock Analysis\", \"Taxation\", \"Technology\", \"Telcos\", \"Perspectives\", \"Consumer\", \"Logistics\"];\\n\\tvar block = 0;\\t\\n\\tvar found = 0;\\n\\tif (tags.length > 0) {\\t\\t\\n\\t\\tif(tags.constructor === Array) {\\t\\t\\t\\n            for(var i=0; i<tags.length;i++) {\\n\\t\\t\\t\\tblock = 0;\\n                found = 0;\\t\\t\\t\\n                for(var j=0; j< blacklist.length;j++) {\\n                    if (tags[i] === blacklist[j]) {\\n                        block = 1;\\n                        break;\\n                    }\\n                }\\n                if (!block) {\\n\\t\\t\\t\\t\\tfor (var k=0; k< taglist.length; k++) {\\n\\t\\t\\t\\t\\t\\tif (tags[i] === taglist[k]) {\\n\\t\\t\\t\\t\\t\\t\\tfound = 1;\\n\\t\\t\\t\\t\\t\\t\\tbreak;\\n\\t\\t\\t\\t\\t\\t}\\n\\t\\t\\t\\t\\t}\\n\\t\\t\\t\\t\\tif (found) {\\n                    \\treturn tags[i];\\n\\t\\t\\t\\t\\t}\\n                }\\n            }\\n\\t\\t}\\n\\t\\telse {\\n\\t\\t\\t for(var j=0; j< blacklist.length;j++) {\\n                    if (tags === blacklist[j]) {\\n                        block = 1;\\n                        break;\\n                    }\\n              } \\n\\t\\t\\t  if (!block) {\\n\\t\\t\\t\\t\\tfor (var k=0; k< taglist.length; k++) {\\n\\t\\t\\t\\t\\t\\tif (tags === taglist[k]) {\\n\\t\\t\\t\\t\\t\\t\\tfound = 1;\\n\\t\\t\\t\\t\\t\\t\\tbreak;\\n\\t\\t\\t\\t\\t\\t}\\n\\t\\t\\t\\t\\t}\\n\\t\\t\\t\\t\\tif (found) {\\n                    \\treturn tags;\\n\\t\\t\\t\\t\\t}\\n                }\\n\\t\\t}\\n\\t}\\n\\treturn \"\";\\n}\\n\\n\\nfunction getAseanKeyword(tags) {\\n\\t\\n    var taglist = [\"Thailand\", \"Brunei\", \"Singapore\", \"Indonesia\", \"Philippines\", \"Laos\", \"Myanmar\", \"Cambodia\", \"Vietnam\", \"China\", \"India\", \"South Korea\", \"North Korea\", \"Japan\", \"Pakistan\", \"Bangladesh\", \"Sri Lanka\"];\\t\\t\\n\\tvar found = 0;\\n\\tif (tags.length > 0) {\\t\\t\\n\\t\\tif(tags.constructor === Array) {\\t\\t\\t\\n            for(var i=0; i<tags.length;i++) {\\n\\t\\t\\t\\t\\n                found = 0;\\t\\n                              \\n\\t\\t\\t\\tfor (var j=0; j< taglist.length; j++) {\\n\\t\\t\\t\\t\\tif (tags[i] === taglist[j]) {\\n\\t\\t\\t\\t\\t\\tfound = 1;\\n\\t\\t\\t\\t\\t\\tbreak;\\n\\t\\t\\t\\t\\t}\\n\\t\\t\\t\\t}\\n\\t\\t\\t\\tif (found) {\\n                   \\treturn tags[i];\\n\\t\\t\\t\\t}\\n               \\n            }\\n\\t\\t}\\n\\t\\telse {\\t\\t\\t \\n\\t\\t \\n\\t\\t\\t\\tfor (var j=0; j< taglist.length; j++) {\\n\\t\\t\\t\\t\\tif (tags === taglist[j]) {\\n\\t\\t\\t\\t\\t\\tfound = 1;\\n\\t\\t\\t\\t\\t\\tbreak;\\n\\t\\t\\t\\t\\t}\\n\\t\\t\\t\\t}\\n\\t\\t\\t\\tif (found) {\\n                   \\treturn tags;\\n\\t\\t\\t\\t}               \\n\\t\\t}\\n\\t}\\n\\treturn \"\";\\n}\\n\\nfunction getTechKeyword(tags) {\\n\\t\\n    var taglist = [\"Operating systems\", \"iOS\", \"Android\", \"HarmonyOS\", \"Windows\", \"MacOS\", \"Gadgets\", \"Smartphones\", \"Tablets\", \"Huawei\", \"Samsung\", \"Xiaomi\", \"Oppo\", \"Vivo\", \"Microsoft\", \"OnePlus\", \"Nokia\", \"Asus\", \"Alcatel\", \"Apple\", \"Facebook\", \"Google\", \"Sony\", \"Uber\", \"Amazon\", \"Tencent\", \"Alibaba\", \"Grab\", \"LG\", \"Lenovo\", \"Panasonic\", \"Social media\", \"Instagram\", \"Snapchat\", \"Twitter\", \"Telegram\", \"WhatsApp\", \"WeChat\", \"TikTok\", \"Line\", \"Twitch\", \"YouTube\", \"Mixer\", \"CES\", \"MWC\", \"E3\", \"IFA\", \"Video games\", \"Console\", \"PlayStation\", \"Switch\", \"Xbox\", \"Stadia\", \"Internet\", \"Unifi\", \"Telekom Malaysia\", \"Maxis\", \"Celcom\", \"Digi\", \"UMobile\", \"Tune Talk\", \"Yes\", \"Yoodo\", \"Ookyo\", \"NFCP\", \"MCMC\", \"CyberSecurity Malaysia\", \"5G\", \"Camera\", \"Home entertainment\", \"Smart home\", \"Startups\", \"eWallet\", \"e-Hailing\", \"Driverless vehicle\", \"Mobile apps\", \"Wearables\", \"Smartwatch\", \"Cybersecurity\", \"eSports\", \"AI\", \"VR\", \"Streaming\", \"Netflix\", \"iflix\", \"viu\", \"dimsum\", \"Apple TV+\", \"Spotify\", \"Airbnb\", \"Robotics\", \"eScooters\", \"Gig economy\", \"Pinterest\", \"Disney+\", \"Drones\", \"Data breach\", \"The Week That Was\", \"Technical Inadvisory\", \"Nintendo\", \"Honor\", \"Get In Gear\", \"Yesterday Once More\", \"Facial Recognition\"];\\n\\tvar found = 0;\\n\\tif (tags.length > 0) {\\t\\t\\n\\t\\tif(tags.constructor === Array) {\\t\\t\\t\\n            for(var i=0; i<tags.length;i++) {\\n\\t\\t\\t\\t\\n                found = 0;\\t\\n                              \\n\\t\\t\\t\\tfor (var j=0; j< taglist.length; j++) {\\n\\t\\t\\t\\t\\tif (tags[i] === taglist[j]) {\\n\\t\\t\\t\\t\\t\\tfound = 1;\\n\\t\\t\\t\\t\\t\\tbreak;\\n\\t\\t\\t\\t\\t}\\n\\t\\t\\t\\t}\\n\\t\\t\\t\\tif (found) {\\n                   \\treturn tags[i];\\n\\t\\t\\t\\t}\\n               \\n            }\\n\\t\\t}\\n\\t\\telse {\\t\\t\\t \\n\\t\\t \\n\\t\\t\\t\\tfor (var j=0; j< taglist.length; j++) {\\n\\t\\t\\t\\t\\tif (tags === taglist[j]) {\\n\\t\\t\\t\\t\\t\\tfound = 1;\\n\\t\\t\\t\\t\\t\\tbreak;\\n\\t\\t\\t\\t\\t}\\n\\t\\t\\t\\t}\\n\\t\\t\\t\\tif (found) {\\n                   \\treturn tags;\\n\\t\\t\\t\\t}               \\n\\t\\t}\\n\\t}\\n\\treturn \"\";\\n}\\n\\nfunction getOtherSportUrl(cat) {\\n\\n if (cat === \"Archery\") return \"/sport/other-sport/?bycat=ED86A43A\";\\n if (cat === \"Athletics\") return \"/sport/other-sport/?bycat=D78CF9BF\";\\n if (cat === \"Basketball\") return \"/sport/other-sport/?bycat=93661518\";\\n if (cat === \"Bowling\") return \"/sport/other-sport/?bycat=73EA1467\";\\n if (cat === \"Boxing\") return \"/sport/other-sport/?bycat=74CCCF64\";\\n if (cat === \"Cricket\") return \"/sport/other-sport/?bycat=72B596C2\";\\n if (cat === \"Cycling\") return \"/sport/other-sport/?bycat=6D5F6230\";\\n if (cat === \"Diving\") return \"/sport/other-sport/?bycat=7D5B8E7E\";\\n if (cat === \"Gymnastics\") return \"/sport/other-sport/?bycat=039AA06B\";\\n if (cat === \"Hockey\") return \"/sport/other-sport/?bycat=3807F520\";\\n if (cat === \"Rugby\") return \"/sport/other-sport/?bycat=4E7BCA99\";\\n if (cat === \"Shooting\") return \"/sport/other-sport/?bycat=6B8BDF92\";\\n if (cat === \"Squash\") return \"/sport/other-sport/?bycat=CE90DF41\";\\n if (cat === \"Swimming\") return \"/sport/other-sport/?bycat=652F293F\";\\n if (cat === \"Wrestling\") return \"/sport/other-sport/?bycat=2F2C9787\";\\n if (cat === \"Others\") return \"/sport/other-sport/?bycat=41\";\\n\\n return \"\";\\n\\n}\\n\\nvar items = data.response.items;\\nvar taxonomy;\\nvar count = 0;\\nvar access;\\n\\nif (items.length > 0) {\\n%-->\\n<div class=\"related-sect\" id=\"related-stories-div\" style=\"\">\\n  <div class=\"headline\">\\n    <h1 class=\"left title-02\">Related News</h1>\\n    <hr>\\n  </div>\\n  <div class=\"row\">\\n    <div class=\"story-set\" id=\"related-stories-list\">\\n\\n<div class=\"story-set-group\">\\n<!--%\\nfor (var i = 0; i < items.length; i++) {\\n  \\t  var item = items[i];\\n \\n      if (typeof (item.category2) != \"undefined\") {\\n       if (item.category2.indexOf(\"columnists\") > -1) {\\n        taxonomy = replaceLetter(item.category2); \\t\\n       }\\n       else {\\n        taxonomy = replaceLetter(item.category1);\\n       }\\n      } \\n      else {\\n        if (typeof (item.category1) != \"undefined\") {\\n            taxonomy = replaceLetter(item.category1); \\n        }\\n\\n        else {\\n            taxonomy = replaceLetter(item.category0); \\n        }\\n      }\\n  \\n      var category = toUpper(taxonomy.substr(taxonomy.lastIndexOf(\\'/\\')+1));\\n      category = category.replace(/[\\\\s\\\\-]+/g,\" \");\\n      category = toUpper(category.substr(category.indexOf(\\'-\\')+1));  \\n      if (category === \"Regional\" ) {\\n            category = \"Asean+\";\\n      }\\n\\n      taxonomy = \\'/\\' + taxonomy;\\n      var title = item.title.replace(category + \": \",\"\").replace(\" - \"+category, \"\").replace(\" | The Star Online\",\"\").replace(\"&lsquo;\",\"\\'\").replace(\"&rsquo;\",\"\\'\").replace(\"&ldquo;\",\"\\'\").replace(\"&rdquo;\",\"\\'\").replace(\"&nbsp;\",\" \");\\n\\t  title = title.replace(\" | Star2.com\",\"\");\\n\\t  title = title.replace(/(039)/g,\"\\'\");\\n      var img = getThumbnail(item[\\'og-image\\']);\\n      var time = timeAgo(item.publishtime);\\n      if (category === \"Business News\") {\\n      var keywords = item[\\'smg-keywords\\']; \\n      if (typeof (keywords) != \"undefined\") { \\t \\t \\n          keywords = getBizKeyword(keywords);\\n          if (keywords.length > 0) {\\t\\t\\n            category = keywords;\\n            if (keywords.indexOf(\" \") != -1) {\\n                keywords = keywords.replace(/\\\\s+/g, \\'+\\');\\n            }\\n            taxonomy = \"/tag/\" + keywords;\\n            keywords = \\'\\';\\n          }\\n        }\\n      }\\n\\t  else if (category === \"Asean+\") {\\n         var keywords = item[\\'smg-keywords\\']; \\n         if (typeof (keywords) != \"undefined\") { \\t\\n            keywords = getAseanKeyword(keywords);\\n             if (keywords.length > 0) {\\t\\t\\n                category = keywords;\\n                if (keywords.indexOf(\" \") != -1) {\\n                    keywords = keywords.replace(/\\\\s+/g, \\'+\\');\\n                }\\n                taxonomy = \"/tag/\" + keywords;\\n                keywords = \\'\\';\\n             }\\n         }\\n      }\\n\\t  else if (category === \"Tech News\") {\\n         var keywords = item[\\'smg-keywords\\']; \\n         if (typeof (keywords) != \"undefined\") { \\t\\n            keywords = getTechKeyword(keywords);\\n             if (keywords.length > 0) {\\t\\t\\n                category = keywords;\\n                if (keywords.indexOf(\" \") != -1) {\\n                    keywords = keywords.replace(/\\\\s+/g, \\'+\\');\\n                }\\n                taxonomy = \"/tag/\" + keywords;\\n                keywords = \\'\\';\\n             }\\n         }\\n      }\\n\\n      if (taxonomy.indexOf(\"sport\") > -1) {\\n\\n         var cat = getOtherSportUrl(category);\\n         if (cat.length > 0) taxonomy = cat;\\n\\n\\t\\t if (category === \"Others\") {\\n         \\tcategory = \"Other Sports\";\\n      \\t }\\n      }\\n\\n\\t  access = item[\\'smg-accesstype\\'];\\n%-->\\n<div class=\"col-xs-12 col-sm-4 in-sec-story\">\\n\\t<div class=\"row\">\\n\\t\\t<div class=\"col-xs-5 right col-sm-12\">\\n\\t\\t\\t<div class=\"img-sticker\">\\n\\t\\t\\t\\t<a tmp:id=\"{{cX.clickTracker(item.click_url)}}\" tmp:href=\"{{item[\\'og-url\\']}}\" tmp:target=\"_top\" onclick=\"ga(\\'send\\', \\'event\\' , \\'Related\\' , \\'click\\' , \\'{{item[\\'og-url\\']}}\\'); \">\\n                    <img tmp:data-thumb-img=\"{{img}}\" tmp:src=\"{{img}}\" tmp:alt=\"{{title}}\">\\n                </a>\\n\\t\\t\\t</div>\\n\\t\\t</div>\\n\\t\\t<div class=\"col-xs-7 left col-sm-12\">\\n\\t\\t\\t<a tmp:href=\"{{taxonomy}}\" class=\"kicker\">{{category}}</a>\\n\\t\\t\\t<span class=\"timestamp\">{{time}}</span>\\n            <!--%\\n            if (access === \"free\") {\\n            %-->\\n            <span class=\"labels labels--free\" data-toggle=\"tooltip\" title=\"\" data-original-title=\"This is a Free article\"><i class=\"fa fa-unlock\"></i></span>\\n            <!--%\\n             }\\n            else if (access === \"premium\") {\\n            %-->\\n            <span class=\"biz-icon\" data-toggle=\"tooltip\" title=\"\" id=\"sbp-tip\" data-original-title=\"Premium\">Premium</span>\\n            <!--%    \\n            }\\n            %-->\\n\\t\\t\\t<h2><a tmp:id=\"{{cX.clickTracker(item.click_url)}}\" tmp:href=\"{{item[\\'og-url\\']}}\" tmp:target=\"_top\" onclick=\"ga(\\'send\\', \\'event\\' , \\'Related\\' , \\'click\\' , \\'{{item[\\'og-url\\']}}\\'); \">{{title}}</a></h2>\\n\\t\\t</div>\\n\\t</div>\\n</div>\\n<!--%\\n }\\n%-->\\n    </div>\\n      </div>\\n    </div>\\n</div>\\n<!--%\\n }\\n%-->  </div>\\n            <script type=\"text/javascript\">\\n                var cX = cX || {}; cX.callQueue = cX.callQueue || [];\\n                var cxwid = \\'7d16282009342b0871d43a5a62c8dda11b28cfef\\';\\n                cX.callQueue.push([\\'insertWidget\\',{\\n                    widgetId: cxwid, renderFunction: function(data, context) {\\n                        document.getElementById(\\'cx_temp_\\'+context.widgetId).innerHTML = data.response.template;\\n                        cX.renderTemplate(\\'cx_temp_\\'+context.widgetId, \\'cx_\\'+context.widgetId, data, context);\\n                    }\\n                }]);\\n            </script>\\n\\n<!--StarBiz Premium More Stories-->\\n<script type=\"text/javascript\">\\n(function ($) {\\n    function GetCookieForLogin(loginCookieName) {\\n        var theLoginCookieName = loginCookieName + \"=\";\\n        var lcn = document.cookie.split(\\';\\');\\n        for(var i=0; i<lcn.length; i++) {\\n        var c1 = lcn[i];\\n        while (c1.charAt(0)==\\' \\') c1 = c1.substring(1);\\n            if (c1.indexOf(theLoginCookieName) == 0) return c1.substring(theLoginCookieName.length,c1.length);\\n        }\\n        return \"\";\\n    }\\n\\n    $(document).ready(function () {\\n        var showLock = true;\\n        var loginCookieVal = GetCookieForLogin(\"pwu\");\\n        if (loginCookieVal != undefined && loginCookieVal.length > 1) {\\n            var patt = /(&eed=\\\\w+)/;\\n            var result = patt.test(loginCookieVal);\\n            if (result)\\n            {showLock = false;}\\n        }\\n        var ct = $(\"meta[name=content_tier]\").attr(\"content\");\\n        var ct_section = $(\\'meta[name=article_section_name]\\').attr(\"content\");\\n        if (!(ct === \\'Premium\\' && ct_section === \\'Business\\')) { $(\\'#related-sbp-stories-div\\').hide(); } // show only when business and premium\\n        else {\\n            $.ajax({\\n                type: \\'GET\\',\\n                url: \\'https://cdn.thestar.com.my/Components/StarBizPremium/starBizPremium.json\\',\\n                jsonpCallback: \\'starbizPremiumJsonCallback\\',\\n                contentType: \"application/json\",\\n                dataType: \\'jsonp\\',\\n                success: function (jobj) {\\n                    if (jobj.items && jobj.items.length === 0) { return; } // no need to continue processing below if jobj is empty\\n                    var strBizPreHead = \\'<h1 class=\"left title-02\"><a href=\"/business/premium/\">More Stories</a></h1><hr>\\';\\n                    $(\\'#bizpremorestories\\').append(strBizPreHead);\\n                    var skip = 0;\\n                    var rowCounter = 0;\\n                    var curTitle = $(\"meta[name=content_title]\").attr(\"content\");\\n                    for (var x = 0; x < 4; x++) {\\n                        if (rowCounter == 3) { break; }\\n                        if (curTitle.indexOf(jobj.items[x].headline) !== -1) {\\n                            skip = 1;\\n                        } else {\\n                            rowCounter++;\\n                            var strBldr = \\'<div class=\"col-xs-12 col-sm-4 in-sec-story\">\\' +\\n                                \\'<div class=\"row\"><div class=\"col-xs-5 right col-sm-12\">\\' +\\n                                \\'<div class=\"img-sticker\">\\' +\\n                                \\'<a href=\"\\' + jobj.items[x].link + \\'\">\\' +\\n                                \\'<img data-thumb-img=\"\\' + jobj.items[x].image + \\'\" src=\"\\' + jobj.items[x].image + \\'\" alt=\"\\' + jobj.items[x].headline + \\'\"></a></div></div><div class=\"col-xs-7 left col-sm-12\">\\' +\\n                                \\'<a href=\"\\' + jobj.items[x].kickerurl + \\'\" class=\"kicker\">\\' + jobj.items[x].kickername + \\'</a>\\' +\\n                                \\'<span class=\"timestamp\">\\' + jobj.items[x].pubDate + \\'</span><span class=\"biz-icon\"><i class=\"fa \\' + (showLock ? \\'fa-lock\\' : \\'fa-unlock\\') + \\'\"></i></span><h2>\\' +\\n                                \\'<a href=\"\\' + jobj.items[x].link + \\'\">\\' + jobj.items[x].headline + \\'</a></h2></div></div></div>\\';\\n                            $(\\'#related-sbp-stories-list\\').append(strBldr);\\n                        }\\n                    }\\n                    rowCounter = 0;\\n                    for (var x = 3+skip; x < 7+skip; x++) {\\n                        if (rowCounter == 3) { break; }\\n                        if (curTitle.indexOf(jobj.items[x].headline) !== -1) {\\n                            continue;\\n                        } else {\\n                            rowCounter++;\\n                            var strBldr2 = \\'<div class=\"col-xs-12 col-sm-4 in-sec-story\">\\' +\\n                                \\'<div class=\"row\"><div class=\"col-xs-5 right col-sm-12\">\\' +\\n                                \\'<div class=\"img-sticker\">\\' +\\n                                \\'<a href=\"\\' + jobj.items[x].link + \\'\">\\' +\\n                                \\'<img data-thumb-img=\"\\' + jobj.items[x].image + \\'\" src=\"\\' + jobj.items[x].image + \\'\" alt=\"\\' + jobj.items[x].headline + \\'\"></a></div></div><div class=\"col-xs-7 left col-sm-12\">\\' +\\n                                \\'<a href=\"\\' + jobj.items[x].kickerurl + \\'\" class=\"kicker\">\\' + jobj.items[x].kickername + \\'</a>\\' +\\n                                \\'<span class=\"timestamp\">\\' + jobj.items[x].pubDate + \\'</span><span class=\"biz-icon\"><i class=\"fa \\' + (showLock ? \\'fa-lock\\' : \\'fa-unlock\\') + \\'\"></i></span><h2>\\' +\\n                                \\'<a href=\"\\' + jobj.items[x].link + \\'\">\\' + jobj.items[x].headline + \\'</a></h2></div></div></div>\\';\\n                            $(\\'#related-sbp-stories-list2\\').append(strBldr2);\\n                        }\\n                    }\\n                },\\n                error: function () {\\n                    console.log(\"An error occur at StarBiz Premium More Stories component\");\\n                },\\n                timeout: 15000\\n            });\\n        }\\n    });\\n})(jQuery);\\n</script>\\n\\n<div class=\"related-sect\" id=\"related-sbp-stories-div\" style=\"display: none;\">\\n  <div class=\"headline\" id=\"bizpremorestories\">\\n  </div>\\n  <div class=\"row\">\\n    <div class=\"story-set\" id=\"related-sbp-stories-list\">\\n    </div>\\n  </div>\\n  <div class=\"row\">\\n    <div class=\"story-set\" id=\"related-sbp-stories-list2\">\\n    </div>\\n  </div>\\n</div>\\n<!--/StarBiz Premium More Stories-->\\n\\n        </article>\\n    </div>\\n</div>',\n",
       " 'url': 'https://www.thestar.com.my/news/nation/2020/04/06/83-million-households-singles-to-receive-bpn-aid-from-monday-april-6'}"
      ]
     },
     "execution_count": 171,
     "metadata": {},
     "output_type": "execute_result"
    }
   ],
   "source": [
    "list(coll_raw.find())[299]"
   ]
  },
  {
   "cell_type": "code",
   "execution_count": 58,
   "metadata": {},
   "outputs": [
    {
     "data": {
      "text/plain": [
       "786"
      ]
     },
     "execution_count": 58,
     "metadata": {},
     "output_type": "execute_result"
    }
   ],
   "source": [
    "#with audio\n",
    "https://sebenarnya.my/dakwaan-nota-suara-anggota-atm-pukul-individu-yang-keluar-rumah-ketika-pkp-adalah-palsu/\n",
    "    \n",
    "#with caption\n",
    "https://sebenarnya.my/kilang-assb-di-taman-perindustrian-malaysia-china-kuantan-mckip-terbakar/"
   ]
  },
  {
   "cell_type": "code",
   "execution_count": 73,
   "metadata": {},
   "outputs": [
    {
     "name": "stdout",
     "output_type": "stream",
     "text": [
      "['sebenarnya_v2_proccessed2', 'sebenarnya_v2_proccessed1', 'sebenarnya_v2_test1', 'sebenarnya_v1_test2']\n"
     ]
    }
   ],
   "source": [
    "import pymongo\n",
    "import json\n",
    "from Processing.Processing import Processing\n",
    "\n",
    "client = pymongo.MongoClient()\n",
    "db = client[\"news\"]\n",
    "print(client['news'].list_collection_names())\n",
    "coll_raw = db['sebenarnya_v2_test1']\n",
    "coll_processed = db['sebenarnya_v2_proccessed1']"
   ]
  },
  {
   "cell_type": "code",
   "execution_count": null,
   "metadata": {},
   "outputs": [],
   "source": [
    "# coll_processed.delete_many({})\n",
    "list(coll_processed.find())[111]\n"
   ]
  },
  {
   "cell_type": "code",
   "execution_count": 8,
   "metadata": {},
   "outputs": [],
   "source": [
    "for raw_dict in list(coll_raw.find())[1:]:\n",
    "    cls = Processing(raw_dict)\n",
    "    coll_processed.insert_one(cls.json_file)"
   ]
  },
  {
   "cell_type": "code",
   "execution_count": null,
   "metadata": {},
   "outputs": [],
   "source": []
  },
  {
   "cell_type": "code",
   "execution_count": null,
   "metadata": {},
   "outputs": [],
   "source": []
  },
  {
   "cell_type": "code",
   "execution_count": 3,
   "metadata": {},
   "outputs": [
    {
     "data": {
      "text/plain": [
       "'https://sebenarnya.my/4-nota-suara-yang-menggunakan-nama-mkn-dakwa-darurat-akan-diisytihar-adalah-palsu/'"
      ]
     },
     "execution_count": 3,
     "metadata": {},
     "output_type": "execute_result"
    }
   ],
   "source": [
    "x = coll_raw.find_one({'title':'4 Nota Suara Yang Menggunakan Nama MKN Dakwa Darurat Akan Diisytihar Adalah Palsu'})\n",
    "x['url']"
   ]
  },
  {
   "cell_type": "code",
   "execution_count": null,
   "metadata": {},
   "outputs": [],
   "source": []
  },
  {
   "cell_type": "code",
   "execution_count": 7,
   "metadata": {},
   "outputs": [],
   "source": [
    "db_dict = raw_dict\n",
    "\n",
    "title = db_dict['title']\n",
    "content = db_dict['content_html']\n",
    "soup = BeautifulSoup(content[0], 'html.parser')\n",
    "rm_index = soup.text.find(soup.find('div',{'class':'awac-wrapper'}).text) if soup.find('div',{'class':'awac-wrapper'}) else len(soup.text)\n",
    "all_text = soup.text[:rm_index]\n",
    "lines = [line.strip() for line in all_text.split('\\n') if line.strip() != '']"
   ]
  },
  {
   "cell_type": "code",
   "execution_count": 10,
   "metadata": {},
   "outputs": [
    {
     "name": "stdout",
     "output_type": "stream",
     "text": [
      "['SEBENARNYA:', 'SUMBER:'] 4 Nota Suara Yang Menggunakan Nama MKN Dakwa Darurat Akan Diisytihar Adalah Palsu\n"
     ]
    }
   ],
   "source": [
    "cls = Processing(db_dict)"
   ]
  },
  {
   "cell_type": "code",
   "execution_count": 12,
   "metadata": {},
   "outputs": [
    {
     "data": {
      "text/plain": [
       "'4 Nota Suara Yang Menggunakan Nama MKN Dakwa Darurat Akan Diisytihar Adalah Palsu'"
      ]
     },
     "execution_count": 12,
     "metadata": {},
     "output_type": "execute_result"
    }
   ],
   "source": [
    "cls.title"
   ]
  },
  {
   "cell_type": "code",
   "execution_count": 10,
   "metadata": {},
   "outputs": [
    {
     "data": {
      "text/plain": [
       "'SEBENARNYA: Jabatan Kesihatan Negeri Terengganu ingin merujuk kepada satu kenyataan yang tular di aplikasi WhatsApp berkenaan kononnya terdapat 30 kes COVID-19 di Durian Burung, Kuala Terengganu berpunca daripada majlis tahlil kematian dan 30 orang ahli keluarga telah dikuarantin di Chendering. Pihak jabatan ini menafikan sepenuhnya kenyataan tersebut. Sehingga 3 April 2020, tiada kes COVID-19 yang dikesan di Kg Durian Burung, Kuala Terengganu. SUMBER: Facebook Rasmi JKNT'"
      ]
     },
     "execution_count": 10,
     "metadata": {},
     "output_type": "execute_result"
    }
   ],
   "source": [
    "' '.join(all_text.split('\\n')).strip()"
   ]
  },
  {
   "cell_type": "code",
   "execution_count": 43,
   "metadata": {},
   "outputs": [],
   "source": [
    "import requests\n",
    "from bs4 import BeautifulSoup"
   ]
  },
  {
   "cell_type": "code",
   "execution_count": 44,
   "metadata": {},
   "outputs": [],
   "source": [
    "\n",
    "url = \"https://www.thestar.com.my/news/true-or-not/\"\n",
    "getreq = requests.get(url)\n",
    "firstsoup = BeautifulSoup(getreq.text,\"html.parser\")\n",
    "# ## find the viewstate & event validation that is required for extracting POST REQUEST FOR page >2\n",
    "# VIEWSTATE = firstsoup.find('input',{'id':'__VIEWSTATE'}).get('value')\n",
    "# EVENTVALIDATION = firstsoup.find('input',{'id':'__EVENTVALIDATION'}).get('value')\n",
    "# ## function to get the details of the other pages (page>2)\n",
    "# def get_each_page(input_page):\n",
    "#     data = {\n",
    "#         \"__EVENTTARGET\": \"ctl00$MainContent$gvReport\",\n",
    "#         \"__EVENTARGUMENT\": input_page,\n",
    "#         \"__EVENTVALIDATION\":EVENTVALIDATION,\n",
    "#         \"__VIEWSTATE\":VIEWSTATE,\n",
    "#            }\n",
    "#     r = requests.post(url,data=data)\n",
    "#     soup=BeautifulSoup(r.text,\"html.parser\")\n",
    "#     return soup"
   ]
  },
  {
   "cell_type": "code",
   "execution_count": 71,
   "metadata": {},
   "outputs": [
    {
     "data": {
      "text/plain": [
       "<div class=\"button-view btnLoadMore\" style=\"margin: 10px auto 15px;\">\n",
       "<a id=\"loadMorestories\">Load more </a>\n",
       "</div>"
      ]
     },
     "execution_count": 71,
     "metadata": {},
     "output_type": "execute_result"
    }
   ],
   "source": [
    "firstsoup.find('div', {'class': 'button-view btnLoadMore'})"
   ]
  },
  {
   "cell_type": "code",
   "execution_count": null,
   "metadata": {},
   "outputs": [],
   "source": [
    "data = {\n",
    "    \"__EVENTTARGET\": \"ctl00$MainContent$gvReport\",\n",
    "    \"__EVENTARGUMENT\": input_page,\n",
    "    \"__EVENTVALIDATION\":EVENTVALIDATION,\n",
    "    \"__VIEWSTATE\":VIEWSTATE,\n",
    "       }"
   ]
  },
  {
   "cell_type": "code",
   "execution_count": 72,
   "metadata": {},
   "outputs": [
    {
     "name": "stdout",
     "output_type": "stream",
     "text": [
      "Collecting scrapy-splash\n",
      "  Downloading scrapy_splash-0.7.2-py2.py3-none-any.whl (34 kB)\n",
      "Installing collected packages: scrapy-splash\n",
      "Successfully installed scrapy-splash-0.7.2\n"
     ]
    }
   ],
   "source": [
    "!pip install scrapy-splash"
   ]
  },
  {
   "cell_type": "code",
   "execution_count": 64,
   "metadata": {},
   "outputs": [
    {
     "ename": "AttributeError",
     "evalue": "'NoneType' object has no attribute 'get'",
     "output_type": "error",
     "traceback": [
      "\u001b[0;31m---------------------------------------------------------------------------\u001b[0m",
      "\u001b[0;31mAttributeError\u001b[0m                            Traceback (most recent call last)",
      "\u001b[0;32m<ipython-input-64-2884c6586cc6>\u001b[0m in \u001b[0;36m<module>\u001b[0;34m\u001b[0m\n\u001b[0;32m----> 1\u001b[0;31m \u001b[0mfirstsoup\u001b[0m\u001b[0;34m.\u001b[0m\u001b[0mfind\u001b[0m\u001b[0;34m(\u001b[0m\u001b[0;34m'input'\u001b[0m\u001b[0;34m,\u001b[0m\u001b[0;34m{\u001b[0m\u001b[0;34m'id'\u001b[0m\u001b[0;34m:\u001b[0m\u001b[0;34m'__VIEWSTATE'\u001b[0m\u001b[0;34m}\u001b[0m\u001b[0;34m)\u001b[0m\u001b[0;34m.\u001b[0m\u001b[0mget\u001b[0m\u001b[0;34m(\u001b[0m\u001b[0;34m'value'\u001b[0m\u001b[0;34m)\u001b[0m\u001b[0;34m\u001b[0m\u001b[0;34m\u001b[0m\u001b[0m\n\u001b[0m",
      "\u001b[0;31mAttributeError\u001b[0m: 'NoneType' object has no attribute 'get'"
     ]
    }
   ],
   "source": [
    "firstsoup.find('input',{'id':'__VIEWSTATE'}).get('value')"
   ]
  },
  {
   "cell_type": "code",
   "execution_count": null,
   "metadata": {},
   "outputs": [],
   "source": []
  }
 ],
 "metadata": {
  "kernelspec": {
   "display_name": "Python 3",
   "language": "python",
   "name": "python3"
  },
  "language_info": {
   "codemirror_mode": {
    "name": "ipython",
    "version": 3
   },
   "file_extension": ".py",
   "mimetype": "text/x-python",
   "name": "python",
   "nbconvert_exporter": "python",
   "pygments_lexer": "ipython3",
   "version": "3.7.7"
  }
 },
 "nbformat": 4,
 "nbformat_minor": 4
}
