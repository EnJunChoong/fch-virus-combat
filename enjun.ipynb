{
 "cells": [
  {
   "cell_type": "code",
   "execution_count": 1,
   "metadata": {},
   "outputs": [],
   "source": [
    "import re\n",
    "import pandas as pd\n",
    "import numpy as np\n",
    "import requests\n",
    "from bs4 import BeautifulSoup\n",
    "import collections"
   ]
  },
  {
   "cell_type": "code",
   "execution_count": 2,
   "metadata": {},
   "outputs": [],
   "source": [
    "import scrapy\n",
    "from scrapy.selector import Selector"
   ]
  },
  {
   "cell_type": "code",
   "execution_count": null,
   "metadata": {},
   "outputs": [],
   "source": [
    "url='https://sebenarnya.my/dakwaan-kerajaan-usir-migran-indonesia-secara-besar-besaran-sepanjang-tempoh-pkp-adalah-tidak-benar/'\n",
    "page = requests.get(url)"
   ]
  },
  {
   "cell_type": "code",
   "execution_count": 32,
   "metadata": {},
   "outputs": [
    {
     "data": {
      "text/plain": [
       "['SEBENARNYA:',\n",
       " 'Menurut kenyataan rasmi Menteri Luar:',\n",
       " 'Kenyataan Migrant Care (Perhimpunan Indonesia Untuk Buruh Migran Berdaulat) yang mendakwa kononnya Kerajaan Malaysia mengusir rakyat Indonesia secara besar-besaran sepanjang tempoh Perintah Kawalan Pergerakan (PKP) adalah tidak benar dan tidak bertanggungjawab.',\n",
       " 'Kenyataan ini bukan sahaja disangkal oleh Malaysia, malah turut dinafikan pihak berkepentingan Indonesia sendiri;',\n",
       " 'i. Menteri Luar Indonesia, Ibu Retno Marsudi sebelum ini menyatakan memang akan ada sekumpulan rakyat Indonesia pulang, tetapi beliau tidak menyebut kerana pengusiran.',\n",
       " 'ii. Jurucakap Kementerian Luar Indonesia, Teuku Faizasyah menegaskan rakyat Indonesia pulang bukan kerana diusir sebaliknya dihantar pulang kerana masuk ke Malaysia tanpa izin sebelum krisis Covid-19.',\n",
       " 'iii. Kedutaan Besar Indonesia di Kuala Lumpur turut menafikan berlakunya pengusiran.',\n",
       " 'iv. Koordinator Fungsi Pensosbud Konsulat Jenderal Republik Indonesia di Johor Bahru, Anang Fauzi Firdaus turut mengakui rakyat Indonesia pulang atas beberapa sebab iaitu tamat tempoh kebenaran menetap dan tiada kerja sepanjang tempoh PKP di Malaysia.',\n",
       " 'SUMBER:',\n",
       " 'Facebook Rasmi Menteri Luar',\n",
       " 'MAINKAN PERANAN ANDA!',\n",
       " 'Sekiranya anda mempunyai maklumat mengenai berita tidak ditentusah yang melibatkan kepentingan awam mahupun negara,',\n",
       " 'Salurkan Kepada Kami',\n",
       " 'TIDAK PASTI JANGAN KONGSI']"
      ]
     },
     "execution_count": 32,
     "metadata": {},
     "output_type": "execute_result"
    }
   ],
   "source": [
    "soup = BeautifulSoup(page.text, 'html.parser')\n",
    "x = soup.find('div',{'class':'td-post-content'})\n",
    "cleanLine = [line.strip() for line in x.text.split('\\n') if line.strip() != '']\n",
    "cleanLine"
   ]
  },
  {
   "cell_type": "code",
   "execution_count": 58,
   "metadata": {},
   "outputs": [
    {
     "data": {
      "text/plain": [
       "786"
      ]
     },
     "execution_count": 58,
     "metadata": {},
     "output_type": "execute_result"
    }
   ],
   "source": [
    "#with audio\n",
    "https://sebenarnya.my/dakwaan-nota-suara-anggota-atm-pukul-individu-yang-keluar-rumah-ketika-pkp-adalah-palsu/\n",
    "    \n",
    "#with caption\n",
    "https://sebenarnya.my/kilang-assb-di-taman-perindustrian-malaysia-china-kuantan-mckip-terbakar/"
   ]
  },
  {
   "cell_type": "code",
   "execution_count": 77,
   "metadata": {},
   "outputs": [],
   "source": [
    "# 'img_src': response.css('div.td-post-content img::attr(src)').getall(),\n",
    "import pymongo\n",
    "\n",
    "client = pymongo.MongoClient()\n",
    "db = client[\"news\"]\n",
    "coll = db[\"sebenarnya_v1\"]\n"
   ]
  },
  {
   "cell_type": "code",
   "execution_count": null,
   "metadata": {},
   "outputs": [],
   "source": [
    "list(coll.find({'title':'4 Nota Suara Yang Menggunakan Nama MKN Dakwa Darurat Akan Diisytihar Adalah Palsu'}))[0]"
   ]
  },
  {
   "cell_type": "code",
   "execution_count": 99,
   "metadata": {},
   "outputs": [],
   "source": [
    "db_dict = list(coll.find({'title':'4 Nota Suara Yang Menggunakan Nama MKN Dakwa Darurat Akan Diisytihar Adalah Palsu'}))[0]\n",
    "\n",
    "title = db_dict['title']\n",
    "content = db_dict['content_html']\n",
    "soup = BeautifulSoup(content[0], 'html.parser')\n",
    "rm_index = soup.text.find(soup.find('div',{'class':'awac-wrapper'}).text) if soup.find('div',{'class':'awac-wrapper'}) else len(soup.text)\n",
    "all_text = soup.text[:rm_index]\n",
    "lines = [line.strip() for line in all_text.split('\\n') if line.strip() != '']"
   ]
  },
  {
   "cell_type": "code",
   "execution_count": 100,
   "metadata": {},
   "outputs": [
    {
     "data": {
      "text/plain": [
       "dict_keys(['_id', 'date', 'title', 'content_html', 'url', 'label', 'confidence', 'category', 'meta_full_html', 'dep_content_text', 'dep_img_src'])"
      ]
     },
     "execution_count": 100,
     "metadata": {},
     "output_type": "execute_result"
    }
   ],
   "source": [
    "db_dict.keys()"
   ]
  },
  {
   "cell_type": "code",
   "execution_count": 101,
   "metadata": {},
   "outputs": [
    {
     "data": {
      "text/plain": [
       "['https://i0.wp.com/sebenarnya.my/wp-content/uploads/2020/03/total-lockdown-from-MKN.png?fit=640%2C360&ssl=1']"
      ]
     },
     "execution_count": 101,
     "metadata": {},
     "output_type": "execute_result"
    }
   ],
   "source": [
    " db_dict['dep_img_src']"
   ]
  },
  {
   "cell_type": "code",
   "execution_count": 57,
   "metadata": {},
   "outputs": [
    {
     "name": "stdout",
     "output_type": "stream",
     "text": [
      "Stok Beras Negara Hanya Mampu Bertahan Selama 2.5 Bulan Adalah Tidak Benar\n",
      "1\n",
      "COVID-19\n",
      "{'SEBENARNYA:': '', 'Menurut kenyataan rasmi Menteri Pertanian dan Industri Makanan:': 'Kementerian ingin menafikan laporan media yang menyatakan bahawa jumlah stok beras negara hanya mampu bertahan selaman 2.5 bulan.\\nStok semasa beras tempatan yang berada di peringkat kilang, pemborong dan peruncit adalah sebanyak 523,000 tan metrik. Ini tidak mengambil kira stok pengeluaran beras tempatan dan beras import yang berada dalam negara.\\nBuat masa ini, import beras juga tidak terjejas dan berjalan seperti sedia kala. Selain negara Vietnam, beras turut diimport dari negara-negara pengeluar lain seperti Thailand, Pakistan, Myanmar, India, Cambodia dan lain-lain. Syarikat Padiberas Nasional Bhd (BERNAS) juga diarahkan oleh Kerajaan untuk memastikan dan mempertingkatkan bekalan beras import dalam negara. Walau bagaimanapun, kebergantungan kepada beras import hanya 30% daripada keseluruhan keperluan dalam negara.\\nSehubungan dengan itu, jumlah stok semasa beras dengan mengambil kira pengeluaran tempatan dan import adalah stabil, terkawal dan konsisten bagi menampung keperluan dalam negara yang berterusan.\\nKementerian juga akan terus memantau bagi memastikan bekalan beras sentiasa mencukupi untuk menampung keperluan bulanan negara sebanyak 200,000 tan metrik.', 'SUMBER:': 'Sehubungan dengan itu, jumlah stok semasa beras dengan mengambil kira pengeluaran tempatan dan import adalah stabil, terkawal dan konsisten bagi menampung keperluan dalam negara yang berterusan.\\nKementerian juga akan terus memantau bagi memastikan bekalan beras sentiasa mencukupi untuk menampung keperluan bulanan negara sebanyak 200,000 tan metrik.\\nSUMBER:\\nKenyataan Media Menteri Pertanian Dan Industri Makanan'}\n",
      "Stok Beras Negara Hanya Mampu Bertahan Selama 2.5 Bulan Adalah Tidak Benar\n",
      "Stok Beras Negara Hanya Mampu Bertahan Selama 2.5 Bulan Adalah Tidak Benar\n",
      "Stok Beras Negara Hanya Mampu Bertahan Selama 2.5 Bulan Adalah Tidak Benar\n"
     ]
    }
   ],
   "source": [
    "cls = Processing(db_dict)\n",
    "print(cls.title)\n",
    "print(cls.label)\n",
    "print(cls.category)\n",
    "print(cls.content_text)\n",
    "print(cls.title)\n",
    "print(cls.title)\n",
    "print(cls.title)"
   ]
  },
  {
   "cell_type": "code",
   "execution_count": 94,
   "metadata": {},
   "outputs": [],
   "source": [
    "class Processing:\n",
    "    def __init__(self, db_dict:dict):\n",
    "        '''take input of dict retrieved from mongoDB\n",
    "        '''\n",
    "        self.raw = db_dict \n",
    "        self.date = db_dict['date']\n",
    "        self.url =  db_dict['url']\n",
    "        self.title = self.raw['title']\n",
    "        self.category = 'COVID-19'\n",
    "        self.content_text, self.content_lines, self.content_html = self.parse_content()\n",
    "        self.label_map = self.get_label_map()\n",
    "        self.label, self.confidence = self.get_label_n_confidence()\n",
    "        self.audio_srcs, self.image_scrs = self.get_figures()\n",
    "        \n",
    "    def get_label_map(self):\n",
    "        label_map = {\n",
    "            '1' : ['tidak benar(:|.|$)', 'palsu(:|.|$)'],\n",
    "            '2' : ['^waspada'],\n",
    "            '3' : ['penjelasan(:|.|$)', '^makluman', '\\smenjelaskan\\s'],\n",
    "        }\n",
    "        return label_map\n",
    "        \n",
    "        \n",
    "    def parse_content(self):\n",
    "        content = self.raw['content_html']\n",
    "        soup = BeautifulSoup(content[0], 'html.parser')\n",
    "        rm_index = (soup.text.find(soup.find('div',{'class':'awac-wrapper'}).text) \n",
    "                    if soup.find('div',{'class':'awac-wrapper'}) else len(soup.text))\n",
    "        all_text = soup.text[:rm_index]\n",
    "        lines = [line.strip() for line in all_text.split('\\n') if line.strip() != '']\n",
    "\n",
    "        r = re.compile(\".*:$\")\n",
    "        keys = list(filter(r.match, lines))\n",
    "        keys_gen = iter(keys)\n",
    "        text_dict = {}\n",
    "        old_key_index = 0\n",
    "        for i, key in enumerate(keys):\n",
    "            try:\n",
    "                new_key_index = lines.index(next(keys_gen))\n",
    "            except Exception as e:\n",
    "                new_key_index = len(keys)+1\n",
    "            if i == 0:\n",
    "                if new_key_index == 0:\n",
    "                    try:\n",
    "                        new_key_index = lines.index(next(keys_gen))\n",
    "                    except Exception as e:\n",
    "                        new_key_index = len(keys)+1\n",
    "                    text_dict[key] = '\\n'.join(lines[1:new_key_index])\n",
    "                else:\n",
    "                    text_dict['free_text'] = '\\n'.join(lines[:new_key_index])\n",
    "                    try:\n",
    "                        new_key_index = lines.index(next(keys_gen))\n",
    "                    except Exception as e:\n",
    "                        new_key_index = len(keys)+1\n",
    "            else:\n",
    "                text_dict[key] = '\\n'.join(lines[old_key_index+1:new_key_index])\n",
    "                try:\n",
    "                    new_key_index = lines.index(next(keys_gen))\n",
    "                except Exception as e:\n",
    "                    new_key_index = len(keys)+1\n",
    "            old_key_index = new_key_index\n",
    "\n",
    "        text_dict[key] = '\\n'.join(lines[old_key_index+1:])\n",
    "\n",
    "        return text_dict, lines, soup\n",
    "    \n",
    "    def get_label_n_confidence(self):\n",
    "        keyword_found = []\n",
    "        for key in self.label_map.keys():\n",
    "            for regex in self.label_map[key]:\n",
    "                if re.search(regex, self.title.lower()):\n",
    "                    keyword_found.append(key)\n",
    "                for line in self.content_lines:\n",
    "                    if re.search(regex, line):\n",
    "                        keyword_found.append(key)\n",
    "\n",
    "        if len(keyword_found)==0:\n",
    "            label = 1    # default label is 1\n",
    "            confidence = 3 # if nothing is found give lowest confidence\n",
    "        counter = collections.Counter(keyword_found)\n",
    "        label = int(counter.most_common(1)[0][0])\n",
    "        confidence = 1 if len(np.unique(keyword_found))==1 else 2\n",
    "        return (label, confidence)\n",
    "    \n",
    "    def get_figures(self):\n",
    "        audio_srcs = []\n",
    "        image_srcs = []\n",
    "        for figure in soup.find_all('figure'):\n",
    "            if figure.find('audio') is not None:\n",
    "                audio_srcs.append(figure.find('audio').get('src'))\n",
    "            if figure.find('img') is not None:\n",
    "                image_srcs.append(figure.find('img').get('src'))\n",
    "        return audio_srcs, image_scrs\n"
   ]
  },
  {
   "cell_type": "code",
   "execution_count": 58,
   "metadata": {},
   "outputs": [],
   "source": [
    "for img_block in soup.find_all('img'):\n",
    "\n",
    "    img_block.get('src')"
   ]
  },
  {
   "cell_type": "code",
   "execution_count": 59,
   "metadata": {},
   "outputs": [
    {
     "data": {
      "text/plain": [
       "[<img alt=\"\" class=\"wp-image-62414\" sizes=\"(max-width: 640px) 100vw, 640px\" src=\"https://i0.wp.com/sebenarnya.my/wp-content/uploads/2020/03/stok-beras.png?fit=640%2C360&amp;ssl=1\" srcset=\"https://i0.wp.com/sebenarnya.my/wp-content/uploads/2020/03/stok-beras.png?w=1920&amp;ssl=1 1920w, https://i0.wp.com/sebenarnya.my/wp-content/uploads/2020/03/stok-beras.png?resize=300%2C169&amp;ssl=1 300w, https://i0.wp.com/sebenarnya.my/wp-content/uploads/2020/03/stok-beras.png?resize=1024%2C576&amp;ssl=1 1024w, https://i0.wp.com/sebenarnya.my/wp-content/uploads/2020/03/stok-beras.png?resize=249%2C140&amp;ssl=1 249w, https://i0.wp.com/sebenarnya.my/wp-content/uploads/2020/03/stok-beras.png?resize=768%2C432&amp;ssl=1 768w, https://i0.wp.com/sebenarnya.my/wp-content/uploads/2020/03/stok-beras.png?resize=1536%2C864&amp;ssl=1 1536w, https://i0.wp.com/sebenarnya.my/wp-content/uploads/2020/03/stok-beras.png?resize=747%2C420&amp;ssl=1 747w, https://i0.wp.com/sebenarnya.my/wp-content/uploads/2020/03/stok-beras.png?resize=640%2C360&amp;ssl=1 640w, https://i0.wp.com/sebenarnya.my/wp-content/uploads/2020/03/stok-beras.png?resize=681%2C383&amp;ssl=1 681w, https://i0.wp.com/sebenarnya.my/wp-content/uploads/2020/03/stok-beras.png?w=1280&amp;ssl=1 1280w\"/>]"
      ]
     },
     "execution_count": 59,
     "metadata": {},
     "output_type": "execute_result"
    }
   ],
   "source": [
    "soup.find_all('img')"
   ]
  },
  {
   "cell_type": "code",
   "execution_count": 102,
   "metadata": {},
   "outputs": [],
   "source": [
    "audio_srcs = []\n",
    "image_srcs = []\n",
    "for figure in soup.find_all('figure'):\n",
    "    if figure.find('audio') is not None:\n",
    "        audio.append(\n",
    "            figure.find('audio').get('src'))\n",
    "        audio_cap\n",
    "    if figure.find('img') is not None:\n",
    "        image_srcs.append(figure.find('img').get('src'))\n",
    "        \n",
    "    "
   ]
  },
  {
   "cell_type": "code",
   "execution_count": 91,
   "metadata": {},
   "outputs": [
    {
     "data": {
      "text/plain": [
       "['https://sebenarnya.my/wp-content/uploads/2020/03/WhatsApp-Audio-2020-03-28-Dr-Christopher-Lee.ogg']"
      ]
     },
     "execution_count": 91,
     "metadata": {},
     "output_type": "execute_result"
    }
   ],
   "source": [
    "audio_srcs"
   ]
  },
  {
   "cell_type": "code",
   "execution_count": 93,
   "metadata": {},
   "outputs": [
    {
     "data": {
      "text/plain": [
       "['https://i0.wp.com/sebenarnya.my/wp-content/uploads/2020/03/chris-lee-1.png?fit=640%2C360&ssl=1']"
      ]
     },
     "execution_count": 93,
     "metadata": {},
     "output_type": "execute_result"
    }
   ],
   "source": [
    "image_srcs"
   ]
  },
  {
   "cell_type": "code",
   "execution_count": null,
   "metadata": {},
   "outputs": [],
   "source": []
  }
 ],
 "metadata": {
  "kernelspec": {
   "display_name": "Python 3",
   "language": "python",
   "name": "python3"
  },
  "language_info": {
   "codemirror_mode": {
    "name": "ipython",
    "version": 3
   },
   "file_extension": ".py",
   "mimetype": "text/x-python",
   "name": "python",
   "nbconvert_exporter": "python",
   "pygments_lexer": "ipython3",
   "version": "3.7.7"
  }
 },
 "nbformat": 4,
 "nbformat_minor": 4
}
