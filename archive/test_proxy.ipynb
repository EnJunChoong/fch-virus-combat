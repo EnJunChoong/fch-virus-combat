{
 "cells": [
  {
   "cell_type": "code",
   "execution_count": 1,
   "metadata": {},
   "outputs": [],
   "source": [
    "import requests\n",
    "# url = 'https://httpbin.org/ip'\n",
    "# proxies = {\n",
    "#     \"http\": 'http://209.50.52.162:9050', \n",
    "#     \"https\": 'http://209.50.52.162:9050'\n",
    "# }\n",
    "# response = requests.get(url,proxies=proxies)\n",
    "# print(response.json())"
   ]
  },
  {
   "cell_type": "code",
   "execution_count": 2,
   "metadata": {},
   "outputs": [],
   "source": [
    "# import requests\n",
    "# from lxml.html import fromstring\n",
    "# def get_proxies():\n",
    "#     url = 'https://free-proxy-list.net/'\n",
    "#     response = requests.get(url)\n",
    "#     parser = fromstring(response.text)\n",
    "#     proxies = []\n",
    "# #     proxies = set()\n",
    "#     for i in parser.xpath('//tbody/tr')[:10]:\n",
    "#         if i.xpath('.//td[7][contains(text(),\"yes\")]'):\n",
    "#             #Grabbing IP and corresponding PORT\n",
    "#             proxy = \":\".join([i.xpath('.//td[1]/text()')[0], i.xpath('.//td[2]/text()')[0]])\n",
    "#             proxies.append(proxy)\n",
    "#     return proxies"
   ]
  },
  {
   "cell_type": "code",
   "execution_count": 3,
   "metadata": {},
   "outputs": [],
   "source": [
    "# free_proxies = get_proxies()\n",
    "# print(free_proxies)"
   ]
  },
  {
   "cell_type": "code",
   "execution_count": 4,
   "metadata": {},
   "outputs": [],
   "source": [
    "# x = free_proxies[1]\n",
    "# proxies = {\n",
    "# #     \"http\": x, \n",
    "#     \"https\": x\n",
    "# }"
   ]
  },
  {
   "cell_type": "code",
   "execution_count": null,
   "metadata": {},
   "outputs": [],
   "source": []
  },
  {
   "cell_type": "code",
   "execution_count": 5,
   "metadata": {},
   "outputs": [
    {
     "ename": "NameError",
     "evalue": "name 'response' is not defined",
     "output_type": "error",
     "traceback": [
      "\u001b[0;31m---------------------------------------------------------------------------\u001b[0m",
      "\u001b[0;31mNameError\u001b[0m                                 Traceback (most recent call last)",
      "\u001b[0;32m<ipython-input-5-dc9435647132>\u001b[0m in \u001b[0;36m<module>\u001b[0;34m\u001b[0m\n\u001b[0;32m----> 1\u001b[0;31m \u001b[0mresponse\u001b[0m\u001b[0;34m.\u001b[0m\u001b[0mclose\u001b[0m\u001b[0;34m(\u001b[0m\u001b[0;34m)\u001b[0m\u001b[0;34m\u001b[0m\u001b[0;34m\u001b[0m\u001b[0m\n\u001b[0m",
      "\u001b[0;31mNameError\u001b[0m: name 'response' is not defined"
     ]
    }
   ],
   "source": [
    "response.close()"
   ]
  },
  {
   "cell_type": "code",
   "execution_count": 6,
   "metadata": {},
   "outputs": [],
   "source": [
    "# !pip install -U requests[socks]\n",
    "#!pip install pysocks"
   ]
  },
  {
   "cell_type": "code",
   "execution_count": 20,
   "metadata": {},
   "outputs": [],
   "source": [
    "# x = free_proxies[1]\n",
    "x = \"128.199.245.98:44344\"\n",
    "# x = \"206.189.36.13:47503\"\n",
    "# x = \"128.199.245.99:44344\"\n",
    "# x = \"103.21.163.70:6667\"\n",
    "# x = \"103.236.161.249:41345\"\n",
    "# x = \"36.89.10.51:34115\"\n",
    "x = \"socks4://120.50.56.137:40553\"\n",
    "proxies = {\n",
    "    \"http\": x, \n",
    "    \"https\": x\n",
    "}\n",
    "# response.close()\n",
    "url = \"https://www.thestar.com.my/tag/covid-19+watch\"\n",
    "url = \"https://www.malaysiakini.com/stories/covid19\"\n",
    "# url = 'https://httpbin.org/ip'\n",
    "# url = \"https://github.com\"\n",
    "response = requests.get(url,proxies={\"socks4\": \"120.50.56.137:40553\"})\n",
    "# print(response.content)\n",
    "c = response.content\n",
    "response.close()\n"
   ]
  },
  {
   "cell_type": "code",
   "execution_count": 16,
   "metadata": {},
   "outputs": [],
   "source": [
    "# response.close()"
   ]
  },
  {
   "cell_type": "code",
   "execution_count": 21,
   "metadata": {},
   "outputs": [],
   "source": [
    "from bs4 import BeautifulSoup\n",
    "soup = BeautifulSoup(c, 'html.parser')"
   ]
  },
  {
   "cell_type": "code",
   "execution_count": 18,
   "metadata": {},
   "outputs": [
    {
     "ename": "AttributeError",
     "evalue": "'NoneType' object has no attribute 'find_all'",
     "output_type": "error",
     "traceback": [
      "\u001b[0;31m---------------------------------------------------------------------------\u001b[0m",
      "\u001b[0;31mAttributeError\u001b[0m                            Traceback (most recent call last)",
      "\u001b[0;32m<ipython-input-18-cf884f38f09e>\u001b[0m in \u001b[0;36m<module>\u001b[0;34m\u001b[0m\n\u001b[0;32m----> 1\u001b[0;31m \u001b[0mloaded_news\u001b[0m \u001b[0;34m=\u001b[0m \u001b[0msoup\u001b[0m\u001b[0;34m.\u001b[0m\u001b[0mfind\u001b[0m\u001b[0;34m(\u001b[0m\u001b[0;34m\"section\"\u001b[0m\u001b[0;34m,\u001b[0m \u001b[0mattrs\u001b[0m \u001b[0;34m=\u001b[0m \u001b[0;34m{\u001b[0m\u001b[0;34m\"class\"\u001b[0m\u001b[0;34m:\u001b[0m\u001b[0;34m\"latest-news\"\u001b[0m\u001b[0;34m}\u001b[0m\u001b[0;34m)\u001b[0m\u001b[0;34m.\u001b[0m\u001b[0mfind_all\u001b[0m\u001b[0;34m(\u001b[0m\u001b[0;34m\"h2\"\u001b[0m\u001b[0;34m,\u001b[0m \u001b[0mattrs\u001b[0m \u001b[0;34m=\u001b[0m \u001b[0;34m{\u001b[0m\u001b[0;34m\"class\"\u001b[0m\u001b[0;34m:\u001b[0m \u001b[0;34m\"f18\"\u001b[0m\u001b[0;34m}\u001b[0m\u001b[0;34m)\u001b[0m\u001b[0;34m\u001b[0m\u001b[0;34m\u001b[0m\u001b[0m\n\u001b[0m\u001b[1;32m      2\u001b[0m \u001b[0mprint\u001b[0m\u001b[0;34m(\u001b[0m\u001b[0mlen\u001b[0m\u001b[0;34m(\u001b[0m\u001b[0mloaded_news\u001b[0m\u001b[0;34m)\u001b[0m\u001b[0;34m)\u001b[0m \u001b[0;31m# loaded news titles\u001b[0m\u001b[0;34m\u001b[0m\u001b[0;34m\u001b[0m\u001b[0m\n",
      "\u001b[0;31mAttributeError\u001b[0m: 'NoneType' object has no attribute 'find_all'"
     ]
    }
   ],
   "source": [
    "loaded_news = soup.find(\"section\", attrs = {\"class\":\"latest-news\"}).find_all(\"h2\", attrs = {\"class\": \"f18\"})\n",
    "print(len(loaded_news)) # loaded news titles"
   ]
  },
  {
   "cell_type": "code",
   "execution_count": 13,
   "metadata": {},
   "outputs": [],
   "source": [
    "# soup.find(\"section\", attrs = {\"class\":\"latest-news\"})"
   ]
  },
  {
   "cell_type": "code",
   "execution_count": 22,
   "metadata": {},
   "outputs": [
    {
     "data": {
      "text/plain": [
       "<!DOCTYPE html>\n",
       "\n",
       "<!--[if lt IE 7]> <html class=\"no-js ie6 oldie\" lang=\"en-US\"> <![endif]-->\n",
       "<!--[if IE 7]>    <html class=\"no-js ie7 oldie\" lang=\"en-US\"> <![endif]-->\n",
       "<!--[if IE 8]>    <html class=\"no-js ie8 oldie\" lang=\"en-US\"> <![endif]-->\n",
       "<!--[if gt IE 8]><!--> <html class=\"no-js\" lang=\"en-US\"> <!--<![endif]-->\n",
       "<head>\n",
       "<title>Access denied | www.malaysiakini.com used Cloudflare to restrict access</title>\n",
       "<meta charset=\"utf-8\"/>\n",
       "<meta content=\"text/html; charset=utf-8\" http-equiv=\"Content-Type\"/>\n",
       "<meta content=\"IE=Edge,chrome=1\" http-equiv=\"X-UA-Compatible\"/>\n",
       "<meta content=\"noindex, nofollow\" name=\"robots\"/>\n",
       "<meta content=\"width=device-width,initial-scale=1,maximum-scale=1\" name=\"viewport\"/>\n",
       "<link href=\"/cdn-cgi/styles/cf.errors.css\" id=\"cf_styles-css\" media=\"screen,projection\" rel=\"stylesheet\" type=\"text/css\"/>\n",
       "<!--[if lt IE 9]><link rel=\"stylesheet\" id='cf_styles-ie-css' href=\"/cdn-cgi/styles/cf.errors.ie.css\" type=\"text/css\" media=\"screen,projection\" /><![endif]-->\n",
       "<style type=\"text/css\">body{margin:0;padding:0}</style>\n",
       "<!--[if gte IE 10]><!--><script src=\"/cdn-cgi/scripts/zepto.min.js\" type=\"text/javascript\"></script><!--<![endif]-->\n",
       "<!--[if gte IE 10]><!--><script src=\"/cdn-cgi/scripts/cf.common.js\" type=\"text/javascript\"></script><!--<![endif]-->\n",
       "</head>\n",
       "<body>\n",
       "<div id=\"cf-wrapper\">\n",
       "<div class=\"cf-alert cf-alert-error cf-cookie-error\" data-translate=\"enable_cookies\" id=\"cookie-alert\">Please enable cookies.</div>\n",
       "<div class=\"cf-error-details-wrapper\" id=\"cf-error-details\">\n",
       "<div class=\"cf-wrapper cf-header cf-error-overview\">\n",
       "<h1>\n",
       "<span class=\"cf-error-type\" data-translate=\"error\">Error</span>\n",
       "<span class=\"cf-error-code\">1008</span>\n",
       "<small class=\"heading-ray-id\">Ray ID: 57fd76d599e2ddc3 • 2020-04-06 18:10:11 UTC</small>\n",
       "</h1>\n",
       "<h2 class=\"cf-subheadline\">Access denied</h2>\n",
       "</div><!-- /.header -->\n",
       "<section></section><!-- spacer -->\n",
       "<div class=\"cf-section cf-wrapper\">\n",
       "<div class=\"cf-columns two\">\n",
       "<div class=\"cf-column\">\n",
       "<h2 data-translate=\"what_happened\">What happened?</h2>\n",
       "<p>The owner of this website (www.malaysiakini.com) has banned your IP address (128.199.71.7).</p>\n",
       "</div>\n",
       "</div>\n",
       "</div><!-- /.section -->\n",
       "<div class=\"cf-error-footer cf-wrapper\">\n",
       "<p>\n",
       "<span class=\"cf-footer-item\">Cloudflare Ray ID: <strong>57fd76d599e2ddc3</strong></span>\n",
       "<span class=\"cf-footer-separator\">•</span>\n",
       "<span class=\"cf-footer-item\"><span>Your IP</span>: 128.199.71.7</span>\n",
       "<span class=\"cf-footer-separator\">•</span>\n",
       "<span class=\"cf-footer-item\"><span>Performance &amp; security by</span> <a href=\"https://www.cloudflare.com/5xx-error-landing?utm_source=error_footer\" id=\"brand_link\" target=\"_blank\">Cloudflare</a></span>\n",
       "</p>\n",
       "</div><!-- /.error-footer -->\n",
       "</div><!-- /#cf-error-details -->\n",
       "</div><!-- /#cf-wrapper -->\n",
       "<script type=\"text/javascript\">\n",
       "  window._cf_translation = {};\n",
       "  \n",
       "  \n",
       "</script>\n",
       "</body>\n",
       "</html>"
      ]
     },
     "execution_count": 22,
     "metadata": {},
     "output_type": "execute_result"
    }
   ],
   "source": [
    "soup"
   ]
  },
  {
   "cell_type": "code",
   "execution_count": null,
   "metadata": {},
   "outputs": [],
   "source": []
  }
 ],
 "metadata": {
  "kernelspec": {
   "display_name": "Python 3",
   "language": "python",
   "name": "python3"
  },
  "language_info": {
   "codemirror_mode": {
    "name": "ipython",
    "version": 3
   },
   "file_extension": ".py",
   "mimetype": "text/x-python",
   "name": "python",
   "nbconvert_exporter": "python",
   "pygments_lexer": "ipython3",
   "version": "3.7.7"
  }
 },
 "nbformat": 4,
 "nbformat_minor": 4
}
