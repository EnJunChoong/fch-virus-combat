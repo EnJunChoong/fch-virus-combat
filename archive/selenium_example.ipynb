{
 "cells": [
  {
   "cell_type": "code",
   "execution_count": 29,
   "metadata": {},
   "outputs": [],
   "source": [
    "import scrapy\n",
    "from bs4 import BeautifulSoup\n",
    "from pymongo import TEXT\n",
    "from selenium import webdriver\n",
    "from selenium.webdriver.chrome.options import Options\n",
    "from selenium.webdriver.common.keys import Keys"
   ]
  },
  {
   "cell_type": "code",
   "execution_count": 31,
   "metadata": {},
   "outputs": [],
   "source": [
    "from flask import Flask, render_template\n",
    "\n",
    "app = Flask(__name__)"
   ]
  },
  {
   "cell_type": "code",
   "execution_count": null,
   "metadata": {},
   "outputs": [],
   "source": [
    "app.run()"
   ]
  },
  {
   "cell_type": "code",
   "execution_count": 30,
   "metadata": {},
   "outputs": [
    {
     "name": "stderr",
     "output_type": "stream",
     "text": [
      "/home/ubuntu/anaconda3/envs/covid/lib/python3.7/site-packages/ipykernel_launcher.py:7: DeprecationWarning: use options instead of chrome_options\n",
      "  import sys\n"
     ]
    }
   ],
   "source": [
    "x = \"36.89.10.51:34115\"\n",
    "url = \"https://www.thestar.com.my/tag/covid-19+watch\"\n",
    "url = \"https://www.malaysiakini.com/stories/covid19\"\n",
    "chrome_options = Options()\n",
    "chrome_options.add_argument('--headless')\n",
    "chrome_options.add_argument('--no-sandbox')\n",
    "driver = webdriver.Chrome('/home/ubuntu/chromedriver',chrome_options=chrome_options)\n",
    "driver.get(url)\n",
    "\n",
    "## Click load more\n",
    "python_button = driver.find_elements_by_xpath('//*[@id=\"loadMorestories\"]')[0]\n",
    "python_button.click()\n",
    "\n",
    "## parse\n",
    "soup = BeautifulSoup(driver.page_source, 'html.parser')\n",
    "driver.close()\n"
   ]
  },
  {
   "cell_type": "code",
   "execution_count": 28,
   "metadata": {},
   "outputs": [
    {
     "ename": "InvalidSessionIdException",
     "evalue": "Message: invalid session id\n",
     "output_type": "error",
     "traceback": [
      "\u001b[0;31m---------------------------------------------------------------------------\u001b[0m",
      "\u001b[0;31mInvalidSessionIdException\u001b[0m                 Traceback (most recent call last)",
      "\u001b[0;32m<ipython-input-28-7b1fd3841aad>\u001b[0m in \u001b[0;36m<module>\u001b[0;34m\u001b[0m\n\u001b[0;32m----> 1\u001b[0;31m \u001b[0mdriver\u001b[0m\u001b[0;34m.\u001b[0m\u001b[0mpage_source\u001b[0m\u001b[0;34m\u001b[0m\u001b[0;34m\u001b[0m\u001b[0m\n\u001b[0m",
      "\u001b[0;32m~/anaconda3/envs/covid/lib/python3.7/site-packages/selenium/webdriver/remote/webdriver.py\u001b[0m in \u001b[0;36mpage_source\u001b[0;34m(self)\u001b[0m\n\u001b[1;32m    677\u001b[0m             \u001b[0mdriver\u001b[0m\u001b[0;34m.\u001b[0m\u001b[0mpage_source\u001b[0m\u001b[0;34m\u001b[0m\u001b[0;34m\u001b[0m\u001b[0m\n\u001b[1;32m    678\u001b[0m         \"\"\"\n\u001b[0;32m--> 679\u001b[0;31m         \u001b[0;32mreturn\u001b[0m \u001b[0mself\u001b[0m\u001b[0;34m.\u001b[0m\u001b[0mexecute\u001b[0m\u001b[0;34m(\u001b[0m\u001b[0mCommand\u001b[0m\u001b[0;34m.\u001b[0m\u001b[0mGET_PAGE_SOURCE\u001b[0m\u001b[0;34m)\u001b[0m\u001b[0;34m[\u001b[0m\u001b[0;34m'value'\u001b[0m\u001b[0;34m]\u001b[0m\u001b[0;34m\u001b[0m\u001b[0;34m\u001b[0m\u001b[0m\n\u001b[0m\u001b[1;32m    680\u001b[0m \u001b[0;34m\u001b[0m\u001b[0m\n\u001b[1;32m    681\u001b[0m     \u001b[0;32mdef\u001b[0m \u001b[0mclose\u001b[0m\u001b[0;34m(\u001b[0m\u001b[0mself\u001b[0m\u001b[0;34m)\u001b[0m\u001b[0;34m:\u001b[0m\u001b[0;34m\u001b[0m\u001b[0;34m\u001b[0m\u001b[0m\n",
      "\u001b[0;32m~/anaconda3/envs/covid/lib/python3.7/site-packages/selenium/webdriver/remote/webdriver.py\u001b[0m in \u001b[0;36mexecute\u001b[0;34m(self, driver_command, params)\u001b[0m\n\u001b[1;32m    319\u001b[0m         \u001b[0mresponse\u001b[0m \u001b[0;34m=\u001b[0m \u001b[0mself\u001b[0m\u001b[0;34m.\u001b[0m\u001b[0mcommand_executor\u001b[0m\u001b[0;34m.\u001b[0m\u001b[0mexecute\u001b[0m\u001b[0;34m(\u001b[0m\u001b[0mdriver_command\u001b[0m\u001b[0;34m,\u001b[0m \u001b[0mparams\u001b[0m\u001b[0;34m)\u001b[0m\u001b[0;34m\u001b[0m\u001b[0;34m\u001b[0m\u001b[0m\n\u001b[1;32m    320\u001b[0m         \u001b[0;32mif\u001b[0m \u001b[0mresponse\u001b[0m\u001b[0;34m:\u001b[0m\u001b[0;34m\u001b[0m\u001b[0;34m\u001b[0m\u001b[0m\n\u001b[0;32m--> 321\u001b[0;31m             \u001b[0mself\u001b[0m\u001b[0;34m.\u001b[0m\u001b[0merror_handler\u001b[0m\u001b[0;34m.\u001b[0m\u001b[0mcheck_response\u001b[0m\u001b[0;34m(\u001b[0m\u001b[0mresponse\u001b[0m\u001b[0;34m)\u001b[0m\u001b[0;34m\u001b[0m\u001b[0;34m\u001b[0m\u001b[0m\n\u001b[0m\u001b[1;32m    322\u001b[0m             response['value'] = self._unwrap_value(\n\u001b[1;32m    323\u001b[0m                 response.get('value', None))\n",
      "\u001b[0;32m~/anaconda3/envs/covid/lib/python3.7/site-packages/selenium/webdriver/remote/errorhandler.py\u001b[0m in \u001b[0;36mcheck_response\u001b[0;34m(self, response)\u001b[0m\n\u001b[1;32m    240\u001b[0m                 \u001b[0malert_text\u001b[0m \u001b[0;34m=\u001b[0m \u001b[0mvalue\u001b[0m\u001b[0;34m[\u001b[0m\u001b[0;34m'alert'\u001b[0m\u001b[0;34m]\u001b[0m\u001b[0;34m.\u001b[0m\u001b[0mget\u001b[0m\u001b[0;34m(\u001b[0m\u001b[0;34m'text'\u001b[0m\u001b[0;34m)\u001b[0m\u001b[0;34m\u001b[0m\u001b[0;34m\u001b[0m\u001b[0m\n\u001b[1;32m    241\u001b[0m             \u001b[0;32mraise\u001b[0m \u001b[0mexception_class\u001b[0m\u001b[0;34m(\u001b[0m\u001b[0mmessage\u001b[0m\u001b[0;34m,\u001b[0m \u001b[0mscreen\u001b[0m\u001b[0;34m,\u001b[0m \u001b[0mstacktrace\u001b[0m\u001b[0;34m,\u001b[0m \u001b[0malert_text\u001b[0m\u001b[0;34m)\u001b[0m\u001b[0;34m\u001b[0m\u001b[0;34m\u001b[0m\u001b[0m\n\u001b[0;32m--> 242\u001b[0;31m         \u001b[0;32mraise\u001b[0m \u001b[0mexception_class\u001b[0m\u001b[0;34m(\u001b[0m\u001b[0mmessage\u001b[0m\u001b[0;34m,\u001b[0m \u001b[0mscreen\u001b[0m\u001b[0;34m,\u001b[0m \u001b[0mstacktrace\u001b[0m\u001b[0;34m)\u001b[0m\u001b[0;34m\u001b[0m\u001b[0;34m\u001b[0m\u001b[0m\n\u001b[0m\u001b[1;32m    243\u001b[0m \u001b[0;34m\u001b[0m\u001b[0m\n\u001b[1;32m    244\u001b[0m     \u001b[0;32mdef\u001b[0m \u001b[0m_value_or_default\u001b[0m\u001b[0;34m(\u001b[0m\u001b[0mself\u001b[0m\u001b[0;34m,\u001b[0m \u001b[0mobj\u001b[0m\u001b[0;34m,\u001b[0m \u001b[0mkey\u001b[0m\u001b[0;34m,\u001b[0m \u001b[0mdefault\u001b[0m\u001b[0;34m)\u001b[0m\u001b[0;34m:\u001b[0m\u001b[0;34m\u001b[0m\u001b[0;34m\u001b[0m\u001b[0m\n",
      "\u001b[0;31mInvalidSessionIdException\u001b[0m: Message: invalid session id\n"
     ]
    }
   ],
   "source": [
    "driver.page_source"
   ]
  },
  {
   "cell_type": "code",
   "execution_count": 24,
   "metadata": {},
   "outputs": [
    {
     "name": "stdout",
     "output_type": "stream",
     "text": [
      "20\n"
     ]
    }
   ],
   "source": [
    "# soup\n",
    "loaded_news = soup.find(\"section\", attrs = {\"class\":\"latest-news\"}).find_all(\"h2\", attrs = {\"class\": \"f18\"})\n",
    "print(len(loaded_news)) # loaded news titles\n",
    "\n",
    "title_list = []\n",
    "href_list = []\n",
    "for j in loaded_news:\n",
    "    title = j.find(\"a\").get(\"data-content-title\")\n",
    "    href = j.find(\"a\").get(\"href\")\n",
    "    title_list.append(title)\n",
    "    href_list.append(href)\n",
    "    \n"
   ]
  },
  {
   "cell_type": "code",
   "execution_count": 25,
   "metadata": {},
   "outputs": [
    {
     "name": "stdout",
     "output_type": "stream",
     "text": [
      "['First shipment of 28 ICU beds from China arrives in Malaysia', 'FT Ministry to install cubicles for homeless at temporary shelters', 'A sterner MCO is the best policy', 'For now, Malaysians in Singapore not allowed to return, says Ismail Sabri', 'Muhyiddin unveils RM10bil stimulus package for SMEs (updated)', 'MCO: Lawyer for duo caught fishing files appeal at High Court', 'Astro closes Bukit Jalil centre for two days after employee tests positive for Covid-19', 'MCO violation arrests up by 51% on Sunday (April 5)', 'Covid-19: Residents snitch on businesses, neighbours amid shutdowns', 'PM to announce extra incentives for SMEs on Monday (April 6) afternoon', 'MCO violation arrests up by 51% on Sunday (April 5)', 'Spreading red zones hints at longer way ahead', 'MCO: Govt makes U-turn, revokes permit for Heineken and Carlsberg', 'Covid-19: Residents snitch on businesses, neighbours amid shutdowns', 'PM to announce extra incentives for SMEs on Monday (April 6) afternoon', \"Royal Malaysian Army's Second Infantry Brigade creates 'virus buster' machine\", 'Covid-19: Singapore couple arrested for leaking school closure info on WhatsApp, ST says', 'Hidden suffering of coronavirus: Stigma, blaming, shaming', \"Sabah govt clears air on quarantine centres, dismisses viral video of 'poor conditions'\", 'New Zealand embraces teddies to help make lockdown bear-able']\n"
     ]
    }
   ],
   "source": [
    "print(title_list)"
   ]
  },
  {
   "cell_type": "code",
   "execution_count": 26,
   "metadata": {},
   "outputs": [
    {
     "name": "stdout",
     "output_type": "stream",
     "text": [
      "['/news/nation/2020/04/06/first-shipment-of-28-icu-beds-from-china-arrives-in-malaysia', '/metro/metro-news/2020/04/06/ft-ministry-to-install-cubicles-for-homeless-at-temporary-shelters', '/opinion/letters/2020/04/06/a-sterner-mco-is-the-best-policy', '/news/nation/2020/04/06/for-now-malaysians-in-singapore-not-allowed-to-return-says-ismail-sabri', '/news/nation/2020/04/06/muhyiddin-unveils-rm10bil-special-stimulus-package', '/news/nation/2020/04/06/mco-lawyer-for-duo-caught-fishing-files-appeal-at-high-court', '/news/nation/2020/04/06/astro-shuts-down-bukit-jalil-centre-for-two-days-after-employee-tests-positive-for-covid-19', '/news/nation/2020/04/06/mco-violation-arrests-up-by-51-on-sunday-april-5', '/tech/tech-news/2020/04/06/covid-19-residents-snitch-on-businesses-neighbours-amid-shutdowns', '/news/nation/2020/04/06/pm-to-announce-extra-incentives-for-smes-on-monday-april-6-afternoon', '/news/nation/2020/04/06/mco-violation-arrests-up-by-51-on-sunday-april-5', '/news/nation/2020/04/06/spreading-red-zones-hints-at-longer-way-ahead', '/news/nation/2020/04/06/mco-govt-makes-u-turn-revokes-permit-for-heineken-and-carlsberg', '/tech/tech-news/2020/04/06/covid-19-residents-snitch-on-businesses-neighbours-amid-shutdowns', '/news/nation/2020/04/06/pm-to-announce-extra-incentives-for-smes-on-monday-april-6-afternoon', '/news/nation/2020/04/06/royal-malaysian-army039s-second-infantry-brigade-creates-039virus-buster039-machine', '/tech/tech-news/2020/04/06/covid-19-singapore-couple-arrested-on-school-closure-info-leak-st-says', '/tech/tech-news/2020/04/06/hidden-suffering-of-coronavirus-stigma-blaming-shaming', '/news/nation/2020/04/06/sabah-govt-clears-air-on-quarantine-centres-dismisses-viral-video-of-039poor-conditions039', '/tech/tech-news/2020/04/06/new-zealand-embraces-teddies-to-help-make-lockdown-bear-able']\n"
     ]
    }
   ],
   "source": [
    "print(href_list)"
   ]
  },
  {
   "cell_type": "code",
   "execution_count": 27,
   "metadata": {},
   "outputs": [
    {
     "data": {
      "text/plain": [
       "['https://www.thestar.com.my/news/nation/2020/04/06/first-shipment-of-28-icu-beds-from-china-arrives-in-malaysia',\n",
       " 'https://www.thestar.com.my/metro/metro-news/2020/04/06/ft-ministry-to-install-cubicles-for-homeless-at-temporary-shelters',\n",
       " 'https://www.thestar.com.my/opinion/letters/2020/04/06/a-sterner-mco-is-the-best-policy',\n",
       " 'https://www.thestar.com.my/news/nation/2020/04/06/for-now-malaysians-in-singapore-not-allowed-to-return-says-ismail-sabri',\n",
       " 'https://www.thestar.com.my/news/nation/2020/04/06/muhyiddin-unveils-rm10bil-special-stimulus-package',\n",
       " 'https://www.thestar.com.my/news/nation/2020/04/06/mco-lawyer-for-duo-caught-fishing-files-appeal-at-high-court',\n",
       " 'https://www.thestar.com.my/news/nation/2020/04/06/astro-shuts-down-bukit-jalil-centre-for-two-days-after-employee-tests-positive-for-covid-19',\n",
       " 'https://www.thestar.com.my/news/nation/2020/04/06/mco-violation-arrests-up-by-51-on-sunday-april-5',\n",
       " 'https://www.thestar.com.my/tech/tech-news/2020/04/06/covid-19-residents-snitch-on-businesses-neighbours-amid-shutdowns',\n",
       " 'https://www.thestar.com.my/news/nation/2020/04/06/pm-to-announce-extra-incentives-for-smes-on-monday-april-6-afternoon',\n",
       " 'https://www.thestar.com.my/news/nation/2020/04/06/mco-violation-arrests-up-by-51-on-sunday-april-5',\n",
       " 'https://www.thestar.com.my/news/nation/2020/04/06/spreading-red-zones-hints-at-longer-way-ahead',\n",
       " 'https://www.thestar.com.my/news/nation/2020/04/06/mco-govt-makes-u-turn-revokes-permit-for-heineken-and-carlsberg',\n",
       " 'https://www.thestar.com.my/tech/tech-news/2020/04/06/covid-19-residents-snitch-on-businesses-neighbours-amid-shutdowns',\n",
       " 'https://www.thestar.com.my/news/nation/2020/04/06/pm-to-announce-extra-incentives-for-smes-on-monday-april-6-afternoon',\n",
       " 'https://www.thestar.com.my/news/nation/2020/04/06/royal-malaysian-army039s-second-infantry-brigade-creates-039virus-buster039-machine',\n",
       " 'https://www.thestar.com.my/tech/tech-news/2020/04/06/covid-19-singapore-couple-arrested-on-school-closure-info-leak-st-says',\n",
       " 'https://www.thestar.com.my/tech/tech-news/2020/04/06/hidden-suffering-of-coronavirus-stigma-blaming-shaming',\n",
       " 'https://www.thestar.com.my/news/nation/2020/04/06/sabah-govt-clears-air-on-quarantine-centres-dismisses-viral-video-of-039poor-conditions039',\n",
       " 'https://www.thestar.com.my/tech/tech-news/2020/04/06/new-zealand-embraces-teddies-to-help-make-lockdown-bear-able']"
      ]
     },
     "execution_count": 27,
     "metadata": {},
     "output_type": "execute_result"
    }
   ],
   "source": [
    "[j if j.find(\"https://www.thestar.com.my/\") >= 0 else \"https://www.thestar.com.my\" + j for j in href_list]"
   ]
  },
  {
   "cell_type": "code",
   "execution_count": null,
   "metadata": {},
   "outputs": [],
   "source": []
  }
 ],
 "metadata": {
  "kernelspec": {
   "display_name": "Python 3",
   "language": "python",
   "name": "python3"
  },
  "language_info": {
   "codemirror_mode": {
    "name": "ipython",
    "version": 3
   },
   "file_extension": ".py",
   "mimetype": "text/x-python",
   "name": "python",
   "nbconvert_exporter": "python",
   "pygments_lexer": "ipython3",
   "version": "3.7.7"
  }
 },
 "nbformat": 4,
 "nbformat_minor": 4
}
