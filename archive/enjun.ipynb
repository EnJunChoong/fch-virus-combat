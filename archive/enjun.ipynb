{
 "cells": [
  {
   "cell_type": "code",
   "execution_count": 270,
   "metadata": {},
   "outputs": [],
   "source": [
    "import re\n",
    "import json\n",
    "import pandas as pd\n",
    "import numpy as np\n",
    "import requests\n",
    "from bs4 import BeautifulSoup\n",
    "import collections"
   ]
  },
  {
   "cell_type": "code",
   "execution_count": 472,
   "metadata": {},
   "outputs": [
    {
     "name": "stdout",
     "output_type": "stream",
     "text": [
      "['malaysiakini_v1_test1', 'hmetro_v1_covid', 'thestar_v1', 'thestar_pro', 'sebenarnya_pro', 'hmetro_raw', 'thestar_v1_covid', 'sebenarnya_v2_proccessed2', 'sebenarnya_v2_proccessed1', 'bharian_raw', 'hmetro_pro', 'Standardize1', 'sebenarnya_raw', 'thestar_raw', 'sebenarnya_v2_test1', 'sebenarnya_v1_test2']\n"
     ]
    }
   ],
   "source": [
    "import pymongo\n",
    "import json\n",
    "# from Processing.Processing import Processing\n",
    "\n",
    "client = pymongo.MongoClient()\n",
    "db = client[\"news\"]\n",
    "print(client['news'].list_collection_names())\n",
    "coll_raw = db['bharian_raw']\n",
    "coll_processed = db['thestar_pro']"
   ]
  },
  {
   "cell_type": "code",
   "execution_count": 512,
   "metadata": {},
   "outputs": [
    {
     "data": {
      "text/plain": [
       "127"
      ]
     },
     "execution_count": 512,
     "metadata": {},
     "output_type": "execute_result"
    }
   ],
   "source": [
    "# coll_raw.delete_many({})\n",
    "len(list(coll_raw.find()))"
   ]
  },
  {
   "cell_type": "code",
   "execution_count": null,
   "metadata": {},
   "outputs": [],
   "source": [
    "y = coll_raw.find_one()\n",
    "y"
   ]
  },
  {
   "cell_type": "code",
   "execution_count": 471,
   "metadata": {},
   "outputs": [
    {
     "data": {
      "text/plain": [
       "[]"
      ]
     },
     "execution_count": 471,
     "metadata": {},
     "output_type": "execute_result"
    }
   ],
   "source": [
    "list(x)"
   ]
  },
  {
   "cell_type": "code",
   "execution_count": 469,
   "metadata": {},
   "outputs": [],
   "source": [
    "x = coll_raw.aggregate( \n",
    "    [\n",
    "        {\"$group\":  { \"_id\": \"$url\", \"count\": { \"$sum\": 1 } } },\n",
    "        {\"$match\": {\"count\": { \"$gte\": 2 }}}\n",
    "    ]\n",
    ")"
   ]
  },
  {
   "cell_type": "code",
   "execution_count": 510,
   "metadata": {},
   "outputs": [],
   "source": [
    "x = coll_raw.update_many(\n",
    "    {},\n",
    "    {\"$unset\": { \"processed_date\": \"\" }}\n",
    ")"
   ]
  },
  {
   "cell_type": "code",
   "execution_count": 275,
   "metadata": {},
   "outputs": [
    {
     "data": {
      "text/plain": [
       "0"
      ]
     },
     "execution_count": 275,
     "metadata": {},
     "output_type": "execute_result"
    }
   ],
   "source": [
    "urls = [y['_id'] for y in list(x)]\n",
    "len(urls)"
   ]
  },
  {
   "cell_type": "code",
   "execution_count": null,
   "metadata": {},
   "outputs": [],
   "source": [
    "# for url in urls:\n",
    "#     x = coll_raw.delete_one({'url':url})\n",
    "#     print(x.deleted_count)"
   ]
  },
  {
   "cell_type": "code",
   "execution_count": 124,
   "metadata": {},
   "outputs": [],
   "source": [
    "from datetime import datetime, timedelta\n",
    "x= datetime.now() - timedelta(days=2)\n",
    "\n",
    "#         news_date = datetime.datetime.strptime(date_1, \"%d %B %Y @ %I:%M %p\")"
   ]
  },
  {
   "cell_type": "code",
   "execution_count": null,
   "metadata": {},
   "outputs": [],
   "source": [
    "len(list(coll_processed.find()))"
   ]
  },
  {
   "cell_type": "code",
   "execution_count": null,
   "metadata": {},
   "outputs": [],
   "source": [
    "list(coll_processed.find({'news_date':{'$gte':x}}))"
   ]
  },
  {
   "cell_type": "code",
   "execution_count": null,
   "metadata": {},
   "outputs": [],
   "source": []
  },
  {
   "cell_type": "code",
   "execution_count": 95,
   "metadata": {},
   "outputs": [
    {
     "data": {
      "text/plain": [
       "{'error': {'root_cause': [{'type': 'parse_exception',\n",
       "    'reason': 'unknown key [mapping] for create index'}],\n",
       "  'type': 'parse_exception',\n",
       "  'reason': 'unknown key [mapping] for create index'},\n",
       " 'status': 400}"
      ]
     },
     "execution_count": 95,
     "metadata": {},
     "output_type": "execute_result"
    }
   ],
   "source": [
    "# ec_conn.indices.delete(index='news2')\n",
    "# ec_conn.indices.create(index='news2', ignore=400, body=mapping)"
   ]
  },
  {
   "cell_type": "code",
   "execution_count": 283,
   "metadata": {},
   "outputs": [
    {
     "data": {
      "text/plain": [
       "dict_keys(['scrape_date', 'news_date', 'title', 'category', 'topic', 'content_text', 'images', 'audio', 'fact_src', 'label', 'confidence', 'url', 'news_vendor', 'image', 'processed_date'])"
      ]
     },
     "execution_count": 283,
     "metadata": {},
     "output_type": "execute_result"
    }
   ],
   "source": [
    "from datetime import datetime\n",
    "from elasticsearch import Elasticsearch\n",
    "\n",
    "INDEX_NAME = 'all_news'\n",
    "ec_conn= Elasticsearch('http://127.0.0.1:9200')\n",
    "ec_conn\n",
    "\n",
    "ec_conn.search(index='all_news', body = {'from':0, 'size':1})['hits']['hits'][0]['_source'].keys()"
   ]
  },
  {
   "cell_type": "code",
   "execution_count": 68,
   "metadata": {},
   "outputs": [
    {
     "data": {
      "text/plain": [
       "{'acknowledged': True}"
      ]
     },
     "execution_count": 68,
     "metadata": {},
     "output_type": "execute_result"
    }
   ],
   "source": [
    "\n",
    "# ec.indices.create(index='test-index', ignore=400)\n",
    "# ec_conn.indices.delete(index='news2')"
   ]
  },
  {
   "cell_type": "code",
   "execution_count": null,
   "metadata": {},
   "outputs": [],
   "source": [
    "ec_conn.search(index='news', body = {'from':0, 'size':30})"
   ]
  },
  {
   "cell_type": "code",
   "execution_count": null,
   "metadata": {},
   "outputs": [],
   "source": [
    "import docker\n",
    "client = docker.from_env()\n",
    "for container in client.containers.list():\n",
    "    print(container.id)\n",
    "#     container.stop()"
   ]
  },
  {
   "cell_type": "code",
   "execution_count": null,
   "metadata": {},
   "outputs": [],
   "source": [
    "ec_conn.search(\n",
    "    index=\"all_news\", \n",
    "    body={\n",
    "        'size':1,\n",
    "        \"query\": {\n",
    "             \"multi_match\": {\"fields\": [\"title\",\"content_text\"], \"query\": 'covid malaysia kematian'}\n",
    "        }\n",
    "    }\n",
    ")"
   ]
  },
  {
   "cell_type": "code",
   "execution_count": null,
   "metadata": {},
   "outputs": [],
   "source": [
    "ec_conn.search(\n",
    "    index=\"all_news\", \n",
    "    body={\n",
    "        'size':1,\n",
    "        \"query\": {\n",
    "            \"range\": {\n",
    "                \"news_date\": {\n",
    "                    \"lt\": datetime.now()\n",
    "                }\n",
    "            }\n",
    "        }\n",
    "    }\n",
    ")"
   ]
  },
  {
   "cell_type": "code",
   "execution_count": null,
   "metadata": {},
   "outputs": [],
   "source": [
    "datequery=[\n",
    "    {\"index\":\"all_news\"},\n",
    "    {\n",
    "        \"body\":{\n",
    "            \"query\": {\n",
    "                \"range\": {\n",
    "                    \"news_date\": {\n",
    "                        \"lt\": datetime.now()\n",
    "                    }\n",
    "                }\n",
    "            }\n",
    "        }\n",
    "    }\n",
    "]\n",
    "\n",
    "textquery=[\n",
    "    {\"index\":\"all_news\"},\n",
    "    {\n",
    "        \"body\":{\n",
    "            'size':1,\n",
    "            \"query\": {\n",
    "                 \"multi_match\": {\"fields\": [\"title\",\"content_text\"], \"query\": 'covid malaysia kematian'}\n",
    "            }\n",
    "        }\n",
    "    }\n",
    "]\n",
    "ec_conn.msearch([datequery,textquery])\n"
   ]
  },
  {
   "cell_type": "code",
   "execution_count": null,
   "metadata": {},
   "outputs": [],
   "source": [
    "query = {\n",
    "    \"bool\":{  \n",
    "         \"filter\":[  \n",
    "             {\n",
    "                \"multi_match\": {\"fields\": [\"title\",\"content_text\"], \"query\": 'sabar'}\n",
    "             },\n",
    "            {  \n",
    "               \"terms\":{  \n",
    "                  \"category\":[  \n",
    "                     \"News\",\n",
    "                  ]\n",
    "               }\n",
    "            },\n",
    "            {  \n",
    "               \"terms\":{  \n",
    "                  \"topic\":[  \n",
    "                     \"COVID-19\",\n",
    "                  ]\n",
    "               }\n",
    "            },\n",
    "            {\n",
    "                \"range\": {\n",
    "                    \"news_date\": {\"gte\": datetime.datetime(2020,4,10), \"lte\": datetime.datetime(2020,4,12)},\n",
    "                },\n",
    "            }\n",
    "         ]\n",
    "    }\n",
    "}"
   ]
  },
  {
   "cell_type": "code",
   "execution_count": null,
   "metadata": {},
   "outputs": [],
   "source": [
    "parser.parse(date)"
   ]
  },
  {
   "cell_type": "code",
   "execution_count": 386,
   "metadata": {},
   "outputs": [
    {
     "data": {
      "text/plain": [
       "datetime.datetime(2020, 4, 12, 15, 15)"
      ]
     },
     "execution_count": 386,
     "metadata": {},
     "output_type": "execute_result"
    }
   ],
   "source": [
    "import dateutil.parser as parser\n",
    "parser.parse(r[0].replace('|',''))"
   ]
  },
  {
   "cell_type": "code",
   "execution_count": 513,
   "metadata": {},
   "outputs": [],
   "source": [
    "response = requests.get('https://www.bharian.com.my/search?s=covid')\n",
    "soup = BeautifulSoup(response.text, 'lxml')"
   ]
  },
  {
   "cell_type": "code",
   "execution_count": 518,
   "metadata": {},
   "outputs": [
    {
     "data": {
      "text/plain": [
       "['/berita/nasional/2020/04/676417/covid-19-rakyat-dikuarantin-puji-pengurusan-malaysia',\n",
       " '/berita/kes/2020/04/676415/henti-jual-barang-berlogo-pasukan-keselamatan-pdrm',\n",
       " '/berita/wilayah/2020/04/676413/covid-19-penumpang-kl-tawau-mh2664-tampil-beri-kerjasama',\n",
       " '/berita/nasional/2020/04/676411/makmal-husm-bantu-kkm-buat-ujian-sampel-covid-19',\n",
       " '/berita/wilayah/2020/04/676409/padu-mohon-dana-rm290000',\n",
       " '/bisnes/korporat/2020/04/676405/batal-tiket-80-peratus-pelanggan-terima-sistem-kredit-airasia',\n",
       " '/berita/nasional/2020/04/676398/covid-19-penghuni-flet-pkns-kampung-baru-jalani-saringan',\n",
       " '/sukan/litar/2020/04/676395/legenda-f1-meninggal-dunia',\n",
       " '/dunia/eropah/2020/04/676393/covid-19-pm-britain-dibenarkan-keluar-hospital-downing-street',\n",
       " '/berita/nasional/2020/04/676376/covid-19-penduduk-pekerja-sekitar-masjid-india-jalani-saringan',\n",
       " '/berita/nasional/2020/04/676374/perlu-bincang-dengan-mkn',\n",
       " '/berita/nasional/2020/04/676372/covid-19-penyelidikan-vaksin-mungkin-ambil-masa-setahun',\n",
       " '/berita/wilayah/2020/04/676370/covid-19-upsi-sambut-baik-dana-penyelidikan-khas',\n",
       " '/berita/nasional/2020/04/676368/pekebun-kecil-getah-digesa-manfaat-ipg',\n",
       " '/berita/nasional/2020/04/676366/covid-19-bekas-pesakit-berisiko-rendah-dijangkiti-semula']"
      ]
     },
     "execution_count": 518,
     "metadata": {},
     "output_type": "execute_result"
    }
   ],
   "source": [
    "[x.find('a').get('href') for x in (soup.find('div', class_='region-content').find_all('div', class_='block-content')[0].find_all('div', class_='views-field-title'))]"
   ]
  },
  {
   "cell_type": "code",
   "execution_count": 383,
   "metadata": {},
   "outputs": [
    {
     "data": {
      "text/plain": [
       "'12 April 2020 '"
      ]
     },
     "execution_count": 383,
     "metadata": {},
     "output_type": "execute_result"
    }
   ],
   "source": [
    "import re\n",
    "r= re.search('\\d.*', date)\n",
    "r[0].replace('|','')"
   ]
  },
  {
   "cell_type": "code",
   "execution_count": 463,
   "metadata": {},
   "outputs": [],
   "source": [
    "bahasa_months_dict = {\n",
    "    \"Januari\": \"January\",\n",
    "    \"Februari\": \"February\",\n",
    "    \"Mac\": \"March\",\n",
    "    \"Mei\": \"May\",\n",
    "    \"Julai\": \"July\",\n",
    "    \"Ogos\": \"August\",\n",
    "    \"Oktober\": \"October\",\n",
    "    \"Disember\": \"December\"\n",
    "}\n",
    "mon =[key for key in bahasa_months_dict.keys() if date.find(key) !=-1]\n",
    "date = date.replace(mon[0], bahasa_months_dict[mon[0]]) if (len(mon) > 0) else date"
   ]
  },
  {
   "cell_type": "code",
   "execution_count": 450,
   "metadata": {},
   "outputs": [],
   "source": [
    "cond = len([tar.find(key) for key in bahasa_months_dict.keys() if tar.find(key) !=-1])>0"
   ]
  },
  {
   "cell_type": "code",
   "execution_count": 464,
   "metadata": {},
   "outputs": [
    {
     "data": {
      "text/plain": [
       "['Mac']"
      ]
     },
     "execution_count": 464,
     "metadata": {},
     "output_type": "execute_result"
    }
   ],
   "source": [
    "mon"
   ]
  },
  {
   "cell_type": "code",
   "execution_count": 441,
   "metadata": {},
   "outputs": [
    {
     "data": {
      "text/plain": [
       "datetime.datetime(2020, 4, 12, 0, 0)"
      ]
     },
     "execution_count": 441,
     "metadata": {},
     "output_type": "execute_result"
    }
   ],
   "source": [
    "datetime.strptime('12 Apr 2020', \"%d %b %Y\")"
   ]
  },
  {
   "cell_type": "code",
   "execution_count": 443,
   "metadata": {},
   "outputs": [],
   "source": [
    "tar = r[0].replace('|','')"
   ]
  },
  {
   "cell_type": "code",
   "execution_count": 432,
   "metadata": {},
   "outputs": [
    {
     "ename": "AttributeError",
     "evalue": "'NoneType' object has no attribute 'text'",
     "output_type": "error",
     "traceback": [
      "\u001b[0;31m---------------------------------------------------------------------------\u001b[0m",
      "\u001b[0;31mAttributeError\u001b[0m                            Traceback (most recent call last)",
      "\u001b[0;32m<ipython-input-432-dc5a2b9e582c>\u001b[0m in \u001b[0;36m<module>\u001b[0;34m\u001b[0m\n\u001b[0;32m----> 1\u001b[0;31m \u001b[0mdate\u001b[0m \u001b[0;34m=\u001b[0m \u001b[0msoup\u001b[0m\u001b[0;34m.\u001b[0m\u001b[0mfind\u001b[0m\u001b[0;34m(\u001b[0m\u001b[0;34m'div'\u001b[0m\u001b[0;34m,\u001b[0m \u001b[0mclass_\u001b[0m\u001b[0;34m=\u001b[0m\u001b[0;34m'node-meta'\u001b[0m\u001b[0;34m)\u001b[0m\u001b[0;34m.\u001b[0m\u001b[0mtext\u001b[0m\u001b[0;34m\u001b[0m\u001b[0;34m\u001b[0m\u001b[0m\n\u001b[0m\u001b[1;32m      2\u001b[0m \u001b[0mdate\u001b[0m\u001b[0;34m\u001b[0m\u001b[0;34m\u001b[0m\u001b[0m\n",
      "\u001b[0;31mAttributeError\u001b[0m: 'NoneType' object has no attribute 'text'"
     ]
    }
   ],
   "source": [
    "date = soup.find('div', class_='node-meta').text\n",
    "date"
   ]
  },
  {
   "cell_type": "code",
   "execution_count": 499,
   "metadata": {},
   "outputs": [],
   "source": [
    "soup = BeautifulSoup(y['content_html'], 'html.parser')"
   ]
  },
  {
   "cell_type": "code",
   "execution_count": 405,
   "metadata": {},
   "outputs": [
    {
     "data": {
      "text/plain": [
       "9307"
      ]
     },
     "execution_count": 405,
     "metadata": {},
     "output_type": "execute_result"
    }
   ],
   "source": [
    "x.find('div class=\"region region-content-bottom\">')"
   ]
  },
  {
   "cell_type": "code",
   "execution_count": 501,
   "metadata": {},
   "outputs": [
    {
     "data": {
      "text/plain": [
       "'Petugas daripada pelbagai agensi termasuk Kementerian Kesihatan Malaysia dan PDRM yang lengkap berpakaian peralatan perlindungan diri (PPE) mengumpulkan penghuni dan pekerja di sekitar kawasan Masjid India untuk menjalani saringan Covid-19. - Foto Asyraf Hamzah '"
      ]
     },
     "execution_count": 501,
     "metadata": {},
     "output_type": "execute_result"
    }
   ],
   "source": [
    "soup.find('img').get('alt')"
   ]
  },
  {
   "cell_type": "code",
   "execution_count": 506,
   "metadata": {},
   "outputs": [
    {
     "name": "stdout",
     "output_type": "stream",
     "text": [
      "asda\n"
     ]
    }
   ],
   "source": [
    "if soup.find('img') is not None:\n",
    "    print('asda')"
   ]
  },
  {
   "cell_type": "code",
   "execution_count": 507,
   "metadata": {},
   "outputs": [
    {
     "data": {
      "text/plain": [
       "'https://assets.bharian.com.my/images/articles/SELANGOR_MANSION_1586695360.jpg'"
      ]
     },
     "execution_count": 507,
     "metadata": {},
     "output_type": "execute_result"
    }
   ],
   "source": [
    "soup.find(\"img\").get(\"data-src\")"
   ]
  },
  {
   "cell_type": "code",
   "execution_count": null,
   "metadata": {},
   "outputs": [],
   "source": []
  }
 ],
 "metadata": {
  "kernelspec": {
   "display_name": "Python 3",
   "language": "python",
   "name": "python3"
  },
  "language_info": {
   "codemirror_mode": {
    "name": "ipython",
    "version": 3
   },
   "file_extension": ".py",
   "mimetype": "text/x-python",
   "name": "python",
   "nbconvert_exporter": "python",
   "pygments_lexer": "ipython3",
   "version": "3.7.7"
  }
 },
 "nbformat": 4,
 "nbformat_minor": 4
}
