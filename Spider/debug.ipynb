{
 "cells": [
  {
   "cell_type": "code",
   "execution_count": 102,
   "metadata": {},
   "outputs": [],
   "source": [
    "import scrapy\n",
    "import random\n",
    "import pymongo\n",
    "import pandas as pd\n",
    "from bs4 import BeautifulSoup\n",
    "from pymongo import TEXT\n",
    "import pandas as pd\n",
    "import datetime\n",
    "import sys\n",
    "sys.path.append(\".\")\n",
    "sys.path.append(\"/home/ubuntu/fch-virus-combat/Spider\")"
   ]
  },
  {
   "cell_type": "code",
   "execution_count": 103,
   "metadata": {},
   "outputs": [
    {
     "data": {
      "text/html": [
       "<div>\n",
       "<style scoped>\n",
       "    .dataframe tbody tr th:only-of-type {\n",
       "        vertical-align: middle;\n",
       "    }\n",
       "\n",
       "    .dataframe tbody tr th {\n",
       "        vertical-align: top;\n",
       "    }\n",
       "\n",
       "    .dataframe thead th {\n",
       "        text-align: right;\n",
       "    }\n",
       "</style>\n",
       "<table border=\"1\" class=\"dataframe\">\n",
       "  <thead>\n",
       "    <tr style=\"text-align: right;\">\n",
       "      <th></th>\n",
       "      <th>n</th>\n",
       "      <th>coll</th>\n",
       "    </tr>\n",
       "  </thead>\n",
       "  <tbody>\n",
       "    <tr>\n",
       "      <th>0</th>\n",
       "      <td>70</td>\n",
       "      <td>malaysiakini_v1_test1</td>\n",
       "    </tr>\n",
       "    <tr>\n",
       "      <th>1</th>\n",
       "      <td>363</td>\n",
       "      <td>hmetro_v1_covid</td>\n",
       "    </tr>\n",
       "    <tr>\n",
       "      <th>2</th>\n",
       "      <td>67</td>\n",
       "      <td>thestar_v1</td>\n",
       "    </tr>\n",
       "    <tr>\n",
       "      <th>3</th>\n",
       "      <td>300</td>\n",
       "      <td>thestar_pro</td>\n",
       "    </tr>\n",
       "    <tr>\n",
       "      <th>4</th>\n",
       "      <td>254</td>\n",
       "      <td>sebenarnya_pro</td>\n",
       "    </tr>\n",
       "    <tr>\n",
       "      <th>5</th>\n",
       "      <td>358</td>\n",
       "      <td>hmetro_raw</td>\n",
       "    </tr>\n",
       "    <tr>\n",
       "      <th>6</th>\n",
       "      <td>300</td>\n",
       "      <td>thestar_v1_covid</td>\n",
       "    </tr>\n",
       "    <tr>\n",
       "      <th>7</th>\n",
       "      <td>228</td>\n",
       "      <td>sebenarnya_v2_proccessed2</td>\n",
       "    </tr>\n",
       "    <tr>\n",
       "      <th>8</th>\n",
       "      <td>228</td>\n",
       "      <td>sebenarnya_v2_proccessed1</td>\n",
       "    </tr>\n",
       "    <tr>\n",
       "      <th>9</th>\n",
       "      <td>332</td>\n",
       "      <td>hmetro_pro</td>\n",
       "    </tr>\n",
       "    <tr>\n",
       "      <th>10</th>\n",
       "      <td>249</td>\n",
       "      <td>Standardize1</td>\n",
       "    </tr>\n",
       "    <tr>\n",
       "      <th>11</th>\n",
       "      <td>259</td>\n",
       "      <td>sebenarnya_raw</td>\n",
       "    </tr>\n",
       "    <tr>\n",
       "      <th>12</th>\n",
       "      <td>1080</td>\n",
       "      <td>thestar_raw</td>\n",
       "    </tr>\n",
       "    <tr>\n",
       "      <th>13</th>\n",
       "      <td>254</td>\n",
       "      <td>sebenarnya_v2_test1</td>\n",
       "    </tr>\n",
       "    <tr>\n",
       "      <th>14</th>\n",
       "      <td>107</td>\n",
       "      <td>sebenarnya_v1_test2</td>\n",
       "    </tr>\n",
       "  </tbody>\n",
       "</table>\n",
       "</div>"
      ],
      "text/plain": [
       "       n                       coll\n",
       "0     70      malaysiakini_v1_test1\n",
       "1    363            hmetro_v1_covid\n",
       "2     67                 thestar_v1\n",
       "3    300                thestar_pro\n",
       "4    254             sebenarnya_pro\n",
       "5    358                 hmetro_raw\n",
       "6    300           thestar_v1_covid\n",
       "7    228  sebenarnya_v2_proccessed2\n",
       "8    228  sebenarnya_v2_proccessed1\n",
       "9    332                 hmetro_pro\n",
       "10   249               Standardize1\n",
       "11   259             sebenarnya_raw\n",
       "12  1080                thestar_raw\n",
       "13   254        sebenarnya_v2_test1\n",
       "14   107        sebenarnya_v1_test2"
      ]
     },
     "execution_count": 103,
     "metadata": {},
     "output_type": "execute_result"
    }
   ],
   "source": [
    "import requests\n",
    "from settings import Settings\n",
    "from helper import quick_list_collection\n",
    "from processing_harianmetro import Processing_HarianMetro\n",
    "from processing_thestar import Processing_TheStar\n",
    "MONGO_URI = \"localhost:27017\"\n",
    "MONGO_DB = \"news\"\n",
    "RAW_COLLECTION = Settings.METRO_RAW_MONGO_COLLECTION\n",
    "# RAW_COLLECTION = Settings.THESTAR_RAW_MONGO_COLLECTION\n",
    "# RAW_COLLECTION = Settings.SEBENARNYA_RAW_MONGO_COLLECTION\n",
    "PRO_COLLECTION = \"sebenarnya_pro\"\n",
    "# PRO_COLLECTION = \"hmetro_pro\"\n",
    "# PRO_COLLECTION = \"thestar_pro\"\n",
    "client = pymongo.MongoClient(MONGO_URI)\n",
    "db = client[MONGO_DB]\n",
    "raw_coll = db[RAW_COLLECTION]\n",
    "pro_coll = db[PRO_COLLECTION]\n",
    "quick_list_collection()"
   ]
  },
  {
   "cell_type": "code",
   "execution_count": null,
   "metadata": {},
   "outputs": [],
   "source": []
  },
  {
   "cell_type": "code",
   "execution_count": null,
   "metadata": {},
   "outputs": [],
   "source": []
  },
  {
   "cell_type": "code",
   "execution_count": 109,
   "metadata": {},
   "outputs": [
    {
     "data": {
      "text/plain": [
       "1"
      ]
     },
     "execution_count": 109,
     "metadata": {},
     "output_type": "execute_result"
    }
   ],
   "source": [
    "keyword = \"test\"\n",
    "r = search(keyword)\n",
    "ddf_fna, n_fna, mscore_fna = get_top_news(r, category = \"FakeNewsAlert\")\n",
    "ddf_news, n_news, mscore_news = get_top_news(r, category = \"News\")\n",
    "predict(n_fna, n_news, mscore_fna, mscore_news)"
   ]
  },
  {
   "cell_type": "code",
   "execution_count": 110,
   "metadata": {},
   "outputs": [
    {
     "data": {
      "text/plain": [
       "{}"
      ]
     },
     "execution_count": 110,
     "metadata": {},
     "output_type": "execute_result"
    }
   ],
   "source": [
    "ddf_fna"
   ]
  },
  {
   "cell_type": "code",
   "execution_count": 111,
   "metadata": {},
   "outputs": [
    {
     "data": {
      "text/plain": [
       "{'TheStar':                                                title  \\\n",
       " 9        Data of those who took Covid-19 test leaked   \n",
       " 8               Hospitals to join in WHO drug trials   \n",
       " 5  Hua Zong urges Putrajaya to ensure enough supp...   \n",
       " \n",
       "                                                  url category   source  \\\n",
       " 9  https://www.thestar.com.my/news/nation/2020/04...     News  TheStar   \n",
       " 8  https://www.thestar.com.my/news/nation/2020/04...     News  TheStar   \n",
       " 5  https://www.thestar.com.my/news/nation/2020/04...     News  TheStar   \n",
       " \n",
       "       score  \n",
       " 9  4.622537  \n",
       " 8  4.662876  \n",
       " 5  4.959969  }"
      ]
     },
     "execution_count": 111,
     "metadata": {},
     "output_type": "execute_result"
    }
   ],
   "source": [
    "ddf_news"
   ]
  },
  {
   "cell_type": "code",
   "execution_count": 43,
   "metadata": {},
   "outputs": [],
   "source": [
    "r = search(\"stok beras 2.5\")\n",
    "df = pd.DataFrame(r)"
   ]
  },
  {
   "cell_type": "code",
   "execution_count": 46,
   "metadata": {},
   "outputs": [
    {
     "ename": "AttributeError",
     "evalue": "'DataFrame' object has no attribute 'unique'",
     "output_type": "error",
     "traceback": [
      "\u001b[0;31m---------------------------------------------------------------------------\u001b[0m",
      "\u001b[0;31mAttributeError\u001b[0m                            Traceback (most recent call last)",
      "\u001b[0;32m<ipython-input-46-6de07c4b7880>\u001b[0m in \u001b[0;36m<module>\u001b[0;34m\u001b[0m\n\u001b[0;32m----> 1\u001b[0;31m \u001b[0mdf\u001b[0m\u001b[0;34m[\u001b[0m\u001b[0;34m[\u001b[0m\u001b[0;34m\"source\"\u001b[0m\u001b[0;34m,\u001b[0m \u001b[0;34m\"category\"\u001b[0m\u001b[0;34m]\u001b[0m\u001b[0;34m]\u001b[0m\u001b[0;34m.\u001b[0m\u001b[0munique\u001b[0m\u001b[0;34m(\u001b[0m\u001b[0;34m)\u001b[0m\u001b[0;34m\u001b[0m\u001b[0;34m\u001b[0m\u001b[0m\n\u001b[0m",
      "\u001b[0;32m~/anaconda3/envs/covid/lib/python3.7/site-packages/pandas/core/generic.py\u001b[0m in \u001b[0;36m__getattr__\u001b[0;34m(self, name)\u001b[0m\n\u001b[1;32m   5272\u001b[0m             \u001b[0;32mif\u001b[0m \u001b[0mself\u001b[0m\u001b[0;34m.\u001b[0m\u001b[0m_info_axis\u001b[0m\u001b[0;34m.\u001b[0m\u001b[0m_can_hold_identifiers_and_holds_name\u001b[0m\u001b[0;34m(\u001b[0m\u001b[0mname\u001b[0m\u001b[0;34m)\u001b[0m\u001b[0;34m:\u001b[0m\u001b[0;34m\u001b[0m\u001b[0;34m\u001b[0m\u001b[0m\n\u001b[1;32m   5273\u001b[0m                 \u001b[0;32mreturn\u001b[0m \u001b[0mself\u001b[0m\u001b[0;34m[\u001b[0m\u001b[0mname\u001b[0m\u001b[0;34m]\u001b[0m\u001b[0;34m\u001b[0m\u001b[0;34m\u001b[0m\u001b[0m\n\u001b[0;32m-> 5274\u001b[0;31m             \u001b[0;32mreturn\u001b[0m \u001b[0mobject\u001b[0m\u001b[0;34m.\u001b[0m\u001b[0m__getattribute__\u001b[0m\u001b[0;34m(\u001b[0m\u001b[0mself\u001b[0m\u001b[0;34m,\u001b[0m \u001b[0mname\u001b[0m\u001b[0;34m)\u001b[0m\u001b[0;34m\u001b[0m\u001b[0;34m\u001b[0m\u001b[0m\n\u001b[0m\u001b[1;32m   5275\u001b[0m \u001b[0;34m\u001b[0m\u001b[0m\n\u001b[1;32m   5276\u001b[0m     \u001b[0;32mdef\u001b[0m \u001b[0m__setattr__\u001b[0m\u001b[0;34m(\u001b[0m\u001b[0mself\u001b[0m\u001b[0;34m,\u001b[0m \u001b[0mname\u001b[0m\u001b[0;34m:\u001b[0m \u001b[0mstr\u001b[0m\u001b[0;34m,\u001b[0m \u001b[0mvalue\u001b[0m\u001b[0;34m)\u001b[0m \u001b[0;34m->\u001b[0m \u001b[0;32mNone\u001b[0m\u001b[0;34m:\u001b[0m\u001b[0;34m\u001b[0m\u001b[0;34m\u001b[0m\u001b[0m\n",
      "\u001b[0;31mAttributeError\u001b[0m: 'DataFrame' object has no attribute 'unique'"
     ]
    }
   ],
   "source": [
    "df[[\"source\", \"category\"]].unique()"
   ]
  },
  {
   "cell_type": "code",
   "execution_count": 44,
   "metadata": {},
   "outputs": [
    {
     "data": {
      "text/html": [
       "<div>\n",
       "<style scoped>\n",
       "    .dataframe tbody tr th:only-of-type {\n",
       "        vertical-align: middle;\n",
       "    }\n",
       "\n",
       "    .dataframe tbody tr th {\n",
       "        vertical-align: top;\n",
       "    }\n",
       "\n",
       "    .dataframe thead th {\n",
       "        text-align: right;\n",
       "    }\n",
       "</style>\n",
       "<table border=\"1\" class=\"dataframe\">\n",
       "  <thead>\n",
       "    <tr style=\"text-align: right;\">\n",
       "      <th></th>\n",
       "      <th>title</th>\n",
       "      <th>url</th>\n",
       "      <th>category</th>\n",
       "      <th>source</th>\n",
       "      <th>score</th>\n",
       "    </tr>\n",
       "  </thead>\n",
       "  <tbody>\n",
       "    <tr>\n",
       "      <th>0</th>\n",
       "      <td>Stok Beras Negara Hanya Mampu Bertahan Selama ...</td>\n",
       "      <td>https://sebenarnya.my/stok-beras-negara-hanya-...</td>\n",
       "      <td>FakeNewsAlert</td>\n",
       "      <td>sebenarnya</td>\n",
       "      <td>27.278168</td>\n",
       "    </tr>\n",
       "    <tr>\n",
       "      <th>1</th>\n",
       "      <td>Penduduk keluar secara berkala</td>\n",
       "      <td>https://www.hmetro.com.my/mutakhir/2020/04/564...</td>\n",
       "      <td>News</td>\n",
       "      <td>HarianMetro</td>\n",
       "      <td>10.438990</td>\n",
       "    </tr>\n",
       "    <tr>\n",
       "      <th>2</th>\n",
       "      <td>'Tak guna bertekak, baik tolong orang' - Hattan</td>\n",
       "      <td>https://www.hmetro.com.my/rap/2020/04/563691/t...</td>\n",
       "      <td>News</td>\n",
       "      <td>HarianMetro</td>\n",
       "      <td>10.438990</td>\n",
       "    </tr>\n",
       "    <tr>\n",
       "      <th>3</th>\n",
       "      <td>Hospital Pontian, Johor Kekurangan Stok Topeng...</td>\n",
       "      <td>https://sebenarnya.my/hospital-pontian-johor-k...</td>\n",
       "      <td>FakeNewsAlert</td>\n",
       "      <td>sebenarnya</td>\n",
       "      <td>9.621781</td>\n",
       "    </tr>\n",
       "    <tr>\n",
       "      <th>4</th>\n",
       "      <td>Kedah tetap 4 kadar zakat fitrah</td>\n",
       "      <td>https://www.hmetro.com.my/mutakhir/2020/04/564...</td>\n",
       "      <td>News</td>\n",
       "      <td>HarianMetro</td>\n",
       "      <td>8.118494</td>\n",
       "    </tr>\n",
       "    <tr>\n",
       "      <th>5</th>\n",
       "      <td>Peniaga kuih hanya mampu pasrah</td>\n",
       "      <td>https://www.hmetro.com.my/mutakhir/2020/04/562...</td>\n",
       "      <td>News</td>\n",
       "      <td>HarianMetro</td>\n",
       "      <td>7.275163</td>\n",
       "    </tr>\n",
       "    <tr>\n",
       "      <th>6</th>\n",
       "      <td>No decision on Hajj pilgrimage from Saudi yet,...</td>\n",
       "      <td>https://www.thestar.com.my/news/nation/2020/04...</td>\n",
       "      <td>News</td>\n",
       "      <td>TheStar</td>\n",
       "      <td>6.300395</td>\n",
       "    </tr>\n",
       "    <tr>\n",
       "      <th>7</th>\n",
       "      <td>No decision on Hajj pilgrimage from Saudi yet,...</td>\n",
       "      <td>https://www.thestar.com.my/news/nation/2020/04...</td>\n",
       "      <td>News</td>\n",
       "      <td>TheStar</td>\n",
       "      <td>6.300395</td>\n",
       "    </tr>\n",
       "    <tr>\n",
       "      <th>8</th>\n",
       "      <td>AIM sumbang pek makanan asas</td>\n",
       "      <td>https://www.hmetro.com.my/mutakhir/2020/04/562...</td>\n",
       "      <td>News</td>\n",
       "      <td>HarianMetro</td>\n",
       "      <td>5.683450</td>\n",
       "    </tr>\n",
       "    <tr>\n",
       "      <th>9</th>\n",
       "      <td>USM edar kit barangan keperluan asas</td>\n",
       "      <td>https://www.hmetro.com.my/mutakhir/2020/04/562...</td>\n",
       "      <td>News</td>\n",
       "      <td>HarianMetro</td>\n",
       "      <td>5.416268</td>\n",
       "    </tr>\n",
       "  </tbody>\n",
       "</table>\n",
       "</div>"
      ],
      "text/plain": [
       "                                               title  \\\n",
       "0  Stok Beras Negara Hanya Mampu Bertahan Selama ...   \n",
       "1                     Penduduk keluar secara berkala   \n",
       "2    'Tak guna bertekak, baik tolong orang' - Hattan   \n",
       "3  Hospital Pontian, Johor Kekurangan Stok Topeng...   \n",
       "4                   Kedah tetap 4 kadar zakat fitrah   \n",
       "5                    Peniaga kuih hanya mampu pasrah   \n",
       "6  No decision on Hajj pilgrimage from Saudi yet,...   \n",
       "7  No decision on Hajj pilgrimage from Saudi yet,...   \n",
       "8                       AIM sumbang pek makanan asas   \n",
       "9               USM edar kit barangan keperluan asas   \n",
       "\n",
       "                                                 url       category  \\\n",
       "0  https://sebenarnya.my/stok-beras-negara-hanya-...  FakeNewsAlert   \n",
       "1  https://www.hmetro.com.my/mutakhir/2020/04/564...           News   \n",
       "2  https://www.hmetro.com.my/rap/2020/04/563691/t...           News   \n",
       "3  https://sebenarnya.my/hospital-pontian-johor-k...  FakeNewsAlert   \n",
       "4  https://www.hmetro.com.my/mutakhir/2020/04/564...           News   \n",
       "5  https://www.hmetro.com.my/mutakhir/2020/04/562...           News   \n",
       "6  https://www.thestar.com.my/news/nation/2020/04...           News   \n",
       "7  https://www.thestar.com.my/news/nation/2020/04...           News   \n",
       "8  https://www.hmetro.com.my/mutakhir/2020/04/562...           News   \n",
       "9  https://www.hmetro.com.my/mutakhir/2020/04/562...           News   \n",
       "\n",
       "        source      score  \n",
       "0   sebenarnya  27.278168  \n",
       "1  HarianMetro  10.438990  \n",
       "2  HarianMetro  10.438990  \n",
       "3   sebenarnya   9.621781  \n",
       "4  HarianMetro   8.118494  \n",
       "5  HarianMetro   7.275163  \n",
       "6      TheStar   6.300395  \n",
       "7      TheStar   6.300395  \n",
       "8  HarianMetro   5.683450  \n",
       "9  HarianMetro   5.416268  "
      ]
     },
     "execution_count": 44,
     "metadata": {},
     "output_type": "execute_result"
    }
   ],
   "source": [
    "df"
   ]
  },
  {
   "cell_type": "code",
   "execution_count": 34,
   "metadata": {},
   "outputs": [
    {
     "data": {
      "text/plain": [
       "['FakeNewsAlert', 'FakeNewsAlert', 'FakeNewsAlert']"
      ]
     },
     "execution_count": 34,
     "metadata": {},
     "output_type": "execute_result"
    }
   ],
   "source": [
    "categories"
   ]
  },
  {
   "cell_type": "code",
   "execution_count": 26,
   "metadata": {},
   "outputs": [
    {
     "data": {
      "text/plain": [
       "['sebenarnya', 'sebenarnya', 'sebenarnya', 'sebenarnya', 'sebenarnya']"
      ]
     },
     "execution_count": 26,
     "metadata": {},
     "output_type": "execute_result"
    }
   ],
   "source": []
  },
  {
   "cell_type": "code",
   "execution_count": null,
   "metadata": {},
   "outputs": [],
   "source": [
    "# from elasticsearch import Elasticsearch\n",
    "# from datetime import datetime\n",
    "# INDEX_NAME = 'news'\n",
    "# ec_conn= Elasticsearch('http://127.0.0.1:9200')\n",
    "# ec_conn\n",
    "\n",
    "# ec_conn.search(index='news', body = {'query':{\"match\": {\"title\":\"artikel\", \"content_text\": \"artikel\"}}})\n"
   ]
  },
  {
   "cell_type": "code",
   "execution_count": null,
   "metadata": {},
   "outputs": [],
   "source": [
    "d = raw_coll.find_one({\"url\":\"https://www.hmetro.com.my/arena/2020/04/564665/penyambungan-segera-liga-m-samar\"})\n",
    "d = pro_coll.find_one()\n",
    "# Processing_HarianMetro(d).pro\n",
    "d"
   ]
  },
  {
   "cell_type": "code",
   "execution_count": null,
   "metadata": {},
   "outputs": [],
   "source": [
    "x = list(pro_coll.find({}, {\"news_date\": 1}))\n",
    "df = pd.DataFrame(x)\n",
    "df[\"news_date\"].min(), df[\"news_date\"].max()"
   ]
  },
  {
   "cell_type": "code",
   "execution_count": 16,
   "metadata": {},
   "outputs": [
    {
     "name": "stdout",
     "output_type": "stream",
     "text": [
      "Done: Reset processed_date...\n"
     ]
    }
   ],
   "source": [
    "def reset_raw_collection():\n",
    "    MONGO_URI = Settings.MONGO_URI\n",
    "    MONGO_DB = Settings.MONGO_DB\n",
    "    RAW_COLLECTION_LIST = [Settings.METRO_RAW_MONGO_COLLECTION, Settings.THESTAR_RAW_MONGO_COLLECTION, Settings.SEBENARNYA_RAW_MONGO_COLLECTION]\n",
    "    client = pymongo.MongoClient(MONGO_URI)\n",
    "    db = client[MONGO_DB]\n",
    "    for RAW_COLLECTION in RAW_COLLECTION_LIST:\n",
    "        raw_coll = db[RAW_COLLECTION]\n",
    "        update = { \"$unset\": { \"processed_date\": None } }\n",
    "        raw_coll.update_many({}, update)\n",
    "    print(\"Done: Reset processed_date...\")\n",
    "        \n",
    "reset_raw_collection()\n"
   ]
  },
  {
   "cell_type": "code",
   "execution_count": null,
   "metadata": {},
   "outputs": [],
   "source": []
  },
  {
   "cell_type": "code",
   "execution_count": null,
   "metadata": {},
   "outputs": [],
   "source": [
    "x = list(raw_coll.find({}, {\"news_date\": 1}))"
   ]
  },
  {
   "cell_type": "code",
   "execution_count": null,
   "metadata": {},
   "outputs": [],
   "source": [
    "pd.DataFrame(x)[\"news_date\"].min(), pd.DataFrame(x)[\"news_date\"].max()"
   ]
  },
  {
   "cell_type": "code",
   "execution_count": null,
   "metadata": {},
   "outputs": [],
   "source": [
    "# d = raw_coll.find_one({\"url\":\"https://www.thestar.com.my/sport/badminton/2020/04/08/could-thomas-uber-cup-face-same-fate-as-olympics\"})\n",
    "# url = \"https://www.thestar.com.my/news/nation/2020/04/07/khaled-nordin-post-mco-039exit-strategy039-needed-for-malaysia\"\n",
    "# d = raw_coll.find_one({\"url\":url})"
   ]
  },
  {
   "cell_type": "code",
   "execution_count": null,
   "metadata": {},
   "outputs": [],
   "source": [
    "update = { \"$unset\": { \"processed_date\": None } }\n",
    "raw_coll.update_many({}, update)"
   ]
  },
  {
   "cell_type": "code",
   "execution_count": null,
   "metadata": {},
   "outputs": [],
   "source": []
  }
 ],
 "metadata": {
  "kernelspec": {
   "display_name": "Python 3",
   "language": "python",
   "name": "python3"
  },
  "language_info": {
   "codemirror_mode": {
    "name": "ipython",
    "version": 3
   },
   "file_extension": ".py",
   "mimetype": "text/x-python",
   "name": "python",
   "nbconvert_exporter": "python",
   "pygments_lexer": "ipython3",
   "version": "3.7.7"
  }
 },
 "nbformat": 4,
 "nbformat_minor": 4
}
