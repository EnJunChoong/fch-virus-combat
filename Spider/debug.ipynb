{
 "cells": [
  {
   "cell_type": "code",
   "execution_count": 19,
   "metadata": {},
   "outputs": [],
   "source": [
    "import scrapy\n",
    "import random\n",
    "import pymongo\n",
    "import pandas as pd\n",
    "from bs4 import BeautifulSoup\n",
    "from pymongo import TEXT\n",
    "import pandas as pd\n",
    "import datetime"
   ]
  },
  {
   "cell_type": "code",
   "execution_count": 20,
   "metadata": {},
   "outputs": [],
   "source": [
    "import sys\n",
    "sys.path.append(\".\")\n",
    "sys.path.append(\"/home/ubuntu/fch-virus-combat/Spider\")"
   ]
  },
  {
   "cell_type": "code",
   "execution_count": 149,
   "metadata": {},
   "outputs": [],
   "source": [
    "from settings import Settings\n",
    "from helper import quick_list_collection\n",
    "from processing_harianmetro import Processing_HarianMetro\n",
    "from processing_thestar import Processing_TheStar\n",
    "MONGO_URI = \"localhost:27017\"\n",
    "MONGO_DB = \"news\"\n",
    "RAW_COLLECTION = Settings.METRO_RAW_MONGO_COLLECTION\n",
    "PRO_COLLECTION = Settings.METRO_PRO_MONGO_COLLECTION\n",
    "RAW_COLLECTION = Settings.THESTAR_RAW_MONGO_COLLECTION\n",
    "PRO_COLLECTION = Settings.THESTAR_PRO_MONGO_COLLECTION\n",
    "client = pymongo.MongoClient(MONGO_URI)\n",
    "db = client[MONGO_DB]\n",
    "raw_coll = db[RAW_COLLECTION]\n",
    "pro_coll = db[PRO_COLLECTION]\n"
   ]
  },
  {
   "cell_type": "code",
   "execution_count": 158,
   "metadata": {},
   "outputs": [],
   "source": [
    "d = raw_coll.find_one({\"url\":\"https://www.thestar.com.my/sport/badminton/2020/04/08/could-thomas-uber-cup-face-same-fate-as-olympics\"})\n",
    "url = \"https://www.thestar.com.my/news/nation/2020/04/07/khaled-nordin-post-mco-039exit-strategy039-needed-for-malaysia\"\n",
    "d = raw_coll.find_one({\"url\":url})"
   ]
  },
  {
   "cell_type": "code",
   "execution_count": 162,
   "metadata": {},
   "outputs": [
    {
     "data": {
      "text/plain": [
       "<pymongo.results.UpdateResult at 0x7f2738450aa0>"
      ]
     },
     "execution_count": 162,
     "metadata": {},
     "output_type": "execute_result"
    }
   ],
   "source": [
    "update = { \"$unset\": { \"processed_date\": None } }\n",
    "raw_coll.update_many({}, update)"
   ]
  },
  {
   "cell_type": "code",
   "execution_count": null,
   "metadata": {},
   "outputs": [],
   "source": []
  }
 ],
 "metadata": {
  "kernelspec": {
   "display_name": "Python 3",
   "language": "python",
   "name": "python3"
  },
  "language_info": {
   "codemirror_mode": {
    "name": "ipython",
    "version": 3
   },
   "file_extension": ".py",
   "mimetype": "text/x-python",
   "name": "python",
   "nbconvert_exporter": "python",
   "pygments_lexer": "ipython3",
   "version": "3.7.7"
  }
 },
 "nbformat": 4,
 "nbformat_minor": 4
}
