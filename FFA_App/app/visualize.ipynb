{
 "cells": [
  {
   "cell_type": "code",
   "execution_count": 1,
   "metadata": {},
   "outputs": [],
   "source": [
    "from helper_news import *\n",
    "import pandas as pd"
   ]
  },
  {
   "cell_type": "code",
   "execution_count": 2,
   "metadata": {},
   "outputs": [],
   "source": [
    "r = search(\"individu\", index = \"all_news\")\n",
    "ddf, n, msc = get_top_news(r, category = \"News\")\n",
    "# ddf, n, msc = get_top_news(r, category = \"FakeNewsAlert\")"
   ]
  },
  {
   "cell_type": "code",
   "execution_count": null,
   "metadata": {},
   "outputs": [],
   "source": [
    "import datetime \n",
    "from elasticsearch import Elasticsearch\n",
    "\n",
    "INDEX_NAME = 'all_news'\n",
    "ec_conn= Elasticsearch('http://localhost:9200')\n",
    "ec_conn\n",
    "\n",
    "query = {\n",
    "    \"bool\":{  \n",
    "         \"filter\":[  \n",
    "            {\n",
    "               \"terms\":{  \n",
    "                  \"news_vendor\":[  \n",
    "                     \"sebenarnya\",\n",
    "                  ]\n",
    "               }\n",
    "            },\n",
    "\n",
    "         ]\n",
    "    }\n",
    "}\n",
    "\n",
    "x = ec_conn.search(index='all_news', body = {\"query\": query, \"size\" : 3000})['hits']['hits'] #[0]['_source'].keys()"
   ]
  },
  {
   "cell_type": "code",
   "execution_count": null,
   "metadata": {},
   "outputs": [],
   "source": [
    "\n"
   ]
  },
  {
   "cell_type": "code",
   "execution_count": 4,
   "metadata": {},
   "outputs": [],
   "source": [
    "# x[0]"
   ]
  },
  {
   "cell_type": "code",
   "execution_count": 5,
   "metadata": {},
   "outputs": [],
   "source": [
    "news_date = [j.get(\"_source\").get(\"news_date\") for j in x]"
   ]
  },
  {
   "cell_type": "code",
   "execution_count": 6,
   "metadata": {},
   "outputs": [],
   "source": [
    "df = pd.DataFrame({\"news_date\": news_date}) #.groupby(\"news_date\").count()\n",
    "df[\"news_date\"] = pd.to_datetime(df[\"news_date\"])\n",
    "df[\"news_date_2\"] = df[\"news_date\"] + pd.Timedelta('8 hours')\n",
    "df[\"news_date\"] = df[\"news_date_2\"].dt.date"
   ]
  },
  {
   "cell_type": "code",
   "execution_count": 7,
   "metadata": {},
   "outputs": [],
   "source": [
    "df = df.groupby([\"news_date\"]).count()\n",
    "df.columns = [\"news_count\"]\n",
    "df = df.reset_index()"
   ]
  },
  {
   "cell_type": "code",
   "execution_count": 11,
   "metadata": {},
   "outputs": [],
   "source": [
    "import plotly.express as px\n",
    "from plotly.offline import plot"
   ]
  },
  {
   "cell_type": "code",
   "execution_count": 9,
   "metadata": {},
   "outputs": [],
   "source": [
    "# !conda install psutil -y"
   ]
  },
  {
   "cell_type": "code",
   "execution_count": 13,
   "metadata": {},
   "outputs": [
    {
     "data": {
      "text/plain": [
       "'temp-plot.html'"
      ]
     },
     "execution_count": 13,
     "metadata": {},
     "output_type": "execute_result"
    }
   ],
   "source": [
    "fig = px.line(df, x=\"news_date\", y=\"news_count\", title='SEBENARNYA.MY news count over time')\n",
    "# fig.write_image(\"fig1.png\")\n",
    "plot(fig)"
   ]
  },
  {
   "cell_type": "code",
   "execution_count": null,
   "metadata": {},
   "outputs": [],
   "source": []
  }
 ],
 "metadata": {
  "kernelspec": {
   "display_name": "Python 3",
   "language": "python",
   "name": "python3"
  },
  "language_info": {
   "codemirror_mode": {
    "name": "ipython",
    "version": 3
   },
   "file_extension": ".py",
   "mimetype": "text/x-python",
   "name": "python",
   "nbconvert_exporter": "python",
   "pygments_lexer": "ipython3",
   "version": "3.7.7"
  }
 },
 "nbformat": 4,
 "nbformat_minor": 4
}
