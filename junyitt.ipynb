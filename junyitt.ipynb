{
 "cells": [
  {
   "cell_type": "code",
   "execution_count": 28,
   "metadata": {},
   "outputs": [],
   "source": [
    "import scrapy\n",
    "from bs4 import BeautifulSoup"
   ]
  },
  {
   "cell_type": "code",
   "execution_count": 22,
   "metadata": {},
   "outputs": [],
   "source": [
    "# 'img_src': response.css('div.td-post-content img::attr(src)').getall(),\n",
    "import pymongo\n",
    "\n",
    "client = pymongo.MongoClient()\n",
    "db = client[\"news\"]\n",
    "coll = db[\"sebenarnya_test3\"]\n",
    "\n"
   ]
  },
  {
   "cell_type": "code",
   "execution_count": null,
   "metadata": {},
   "outputs": [],
   "source": [
    "coll.find_one()"
   ]
  },
  {
   "cell_type": "code",
   "execution_count": 41,
   "metadata": {},
   "outputs": [
    {
     "data": {
      "text/plain": [
       "['SEBENARNYA:',\n",
       " 'Pihak Hospital Segamat ingin merujuk kepada mesej berangkai yang tular di aplikasi WhatsApp berkaitan hebahan maklumat Kes Positif COVID-19 Daerah Segamat yang dikeluarkan oleh Hospital Segamat.',\n",
       " 'Untuk makluman, Hospital Segamat tidak membuat sebarang hebahan berkaitan Kes Positif COVID-19 di setiap kawasan di Daerah Segamat. Pihak Hospital Segamat juga ingin menafikan bahawa sebarang hebahan maklumat berkaitan kes COVID-19 di daerah Segamat yang dikatakan sumbernya diperolehi daripada Hospital Segamat adalah tidak benar.',\n",
       " 'SUMBER:',\n",
       " 'Facebook Rasmi Jabatan Kesihatan Negeri Johor',\n",
       " 'MAINKAN PERANAN ANDA!',\n",
       " 'Sekiranya anda mempunyai maklumat mengenai berita tidak ditentusah yang melibatkan kepentingan awam mahupun negara,',\n",
       " 'Salurkan Kepada Kami',\n",
       " 'TIDAK PASTI JANGAN KONGSI']"
      ]
     },
     "execution_count": 41,
     "metadata": {},
     "output_type": "execute_result"
    }
   ],
   "source": [
    "content = coll.find_one()['content_html']\n",
    "soup = BeautifulSoup(content[0], 'html.parser')\n",
    "[line.strip() for line in soup.text.split('\\n') if line.strip() != '']"
   ]
  },
  {
   "cell_type": "code",
   "execution_count": 25,
   "metadata": {},
   "outputs": [
    {
     "data": {
      "text/plain": [
       "30"
      ]
     },
     "execution_count": 25,
     "metadata": {},
     "output_type": "execute_result"
    }
   ],
   "source": [
    "len(list(coll.find()))"
   ]
  },
  {
   "cell_type": "code",
   "execution_count": 17,
   "metadata": {},
   "outputs": [],
   "source": [
    "# coll.drop()"
   ]
  },
  {
   "cell_type": "code",
   "execution_count": 45,
   "metadata": {},
   "outputs": [
    {
     "data": {
      "text/plain": [
       "{'_id': ObjectId('5e86081fde9d87570b10b145')}"
      ]
     },
     "execution_count": 45,
     "metadata": {},
     "output_type": "execute_result"
    }
   ],
   "source": []
  },
  {
   "cell_type": "code",
   "execution_count": null,
   "metadata": {},
   "outputs": [],
   "source": []
  }
 ],
 "metadata": {
  "kernelspec": {
   "display_name": "Python 3",
   "language": "python",
   "name": "python3"
  },
  "language_info": {
   "codemirror_mode": {
    "name": "ipython",
    "version": 3
   },
   "file_extension": ".py",
   "mimetype": "text/x-python",
   "name": "python",
   "nbconvert_exporter": "python",
   "pygments_lexer": "ipython3",
   "version": "3.7.7"
  }
 },
 "nbformat": 4,
 "nbformat_minor": 4
}
