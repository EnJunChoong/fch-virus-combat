{
 "cells": [
  {
   "cell_type": "code",
   "execution_count": 1,
   "metadata": {},
   "outputs": [],
   "source": [
    "import scrapy\n",
    "import random\n",
    "import pymongo\n",
    "import pandas as pd\n",
    "from bs4 import BeautifulSoup\n",
    "from pymongo import TEXT\n",
    "from selenium import webdriver\n",
    "from selenium.webdriver.chrome.options import Options\n",
    "from selenium.webdriver.common.keys import Keys\n"
   ]
  },
  {
   "cell_type": "code",
   "execution_count": 6,
   "metadata": {},
   "outputs": [],
   "source": [
    "def browse(url, proxy = None):\n",
    "    #     url = 'https://httpbin.org/ip'\n",
    "    chrome_options = Options()\n",
    "    chrome_options.add_argument('--headless')\n",
    "    if proxy is not None:\n",
    "        chrome_options.add_argument('--proxy-server=%s' % proxy)\n",
    "    chrome_options.add_argument('--no-sandbox')\n",
    "    driver = webdriver.Chrome('/home/ubuntu/chromedriver',chrome_options=chrome_options)\n",
    "    driver.get(url)\n",
    "    driver.implicitly_wait(3) # seconds\n",
    "    page_source = driver.page_source\n",
    "    soup = BeautifulSoup(driver.page_source, 'html.parser')\n",
    "    driver.close()\n",
    "    return page_source, soup\n",
    "    \n",
    "class CrawlMKListing():\n",
    "    MONGO_URI = \"localhost:27017\"\n",
    "    MONGO_DB = \"news\"\n",
    "    MONGO_COLLECTION = \"malaysiakini_v1_test1\"\n",
    "    DOMAIN = \"https://www.malaysiakini.com\"\n",
    "    NEWS_LISTING_DOMAIN = \"https://www.malaysiakini.com/stories/covid19\"\n",
    "    PROXY_LIST = [\"socks4://120.50.56.137:40553\",\"socks4://121.122.50.157:4145\", \n",
    "                  \"socks4://1.9.167.36:60489\",\"socks4://1.9.111.145:4145\",\n",
    "                  \"socks4://45.117.228.153:4145\",\"socks4://45.117.228.97:4145\",\n",
    "                  \"socks4://103.220.6.254:4145\"\n",
    "                 ]\n",
    "    START_URL = NEWS_LISTING_DOMAIN\n",
    "    \n",
    "    def __init__(self):\n",
    "        pass\n",
    "    \n",
    "    def crawl(self):\n",
    "        CURRENT_PAGE_URL = self.START_URL\n",
    "        self.init_mongo()\n",
    "        proxy = random.sample(self.PROXY_LIST,1)[0]\n",
    "        print(\"Using proxy:\", proxy)\n",
    "        page_source, soup = browse(url = CURRENT_PAGE_URL, proxy = proxy)\n",
    "        _check = self.check(soup)\n",
    "        # if _check is not True, retry the whole crawl for this page\n",
    "        if _check: \n",
    "            to_insert, next_page = self.parse(soup)\n",
    "            to_insert_2 = self.prevent_duplicate(to_insert)\n",
    "            if len(to_insert_2) > 0:\n",
    "                self.coll.insert_many(to_insert_2)\n",
    "        else:\n",
    "            print(\"False check.\")\n",
    "            \n",
    "    def init_mongo(self):\n",
    "        client = pymongo.MongoClient(self.MONGO_URI)\n",
    "        self.coll = client[self.MONGO_DB][self.MONGO_COLLECTION]\n",
    "\n",
    "    def check(self, soup):\n",
    "        try:\n",
    "            x = soup.find(\"title\").get_text()\n",
    "        except:\n",
    "            return False\n",
    "        if x is None:\n",
    "            return False\n",
    "        if x.find(\"Access denied\") >= 0:\n",
    "            return False\n",
    "        return True\n",
    "\n",
    "    def parse(self, soup):\n",
    "        DOMAIN = self.DOMAIN\n",
    "        NEWS_LISTING_DOMAIN = self.NEWS_LISTING_DOMAIN\n",
    "        \n",
    "        x = soup.find(\"div\", \"news\").find_all(\"a\")[:-1]\n",
    "        titles = [j.find(\"h3\").getText() for j in x]\n",
    "        urls = [j.get(\"href\") for j in x]\n",
    "        urls = [DOMAIN + url.replace(DOMAIN, \"\") for url in urls]\n",
    "        df = pd.DataFrame(dict(title = titles, url = urls)) #.sample(30)\n",
    "        if df.shape[0] == 0:\n",
    "            raise Exception(\"shape 0\")\n",
    "        to_insert = df.to_dict(orient=\"records\")\n",
    "        next_page = NEWS_LISTING_DOMAIN + soup.find(\"div\", \"news\").find_all(\"a\")[-1].get(\"href\")\n",
    "        return to_insert, next_page\n",
    "    \n",
    "    def prevent_duplicate(self, to_insert):\n",
    "        url_list = [j.get(\"url\") for j in to_insert]\n",
    "        exist_url_list = [j.get(\"url\") for j in list(self.coll.find({\"url\": {\"$in\": url_list}}, {\"url\":1}))]\n",
    "        to_insert_2 = [j for j in to_insert if j.get(\"url\") not in exist_url_list]\n",
    "        return to_insert_2"
   ]
  },
  {
   "cell_type": "code",
   "execution_count": 8,
   "metadata": {},
   "outputs": [
    {
     "name": "stdout",
     "output_type": "stream",
     "text": [
      "Using proxy: socks4://120.50.56.137:40553\n"
     ]
    },
    {
     "name": "stderr",
     "output_type": "stream",
     "text": [
      "/home/ubuntu/anaconda3/envs/covid/lib/python3.7/site-packages/ipykernel_launcher.py:8: DeprecationWarning: use options instead of chrome_options\n",
      "  \n"
     ]
    },
    {
     "name": "stdout",
     "output_type": "stream",
     "text": [
      "[{'title': 'Experts urge smokers and tobacco firms to quit for Covid-19', 'url': 'https://www.malaysiakini.com/news/519173'}, {'title': 'MCO: Courts impose non-custodial sentences in wake of Covid-19 fears', 'url': 'https://www.malaysiakini.com/news/519171'}, {'title': 'Police increase 100pct deployment of officers monitoring borders, waters', 'url': 'https://www.malaysiakini.com/news/519163'}, {'title': 'Maintain good hygiene, Health DG tells pet owners', 'url': 'https://www.malaysiakini.com/news/519156'}, {'title': \"'Be responsible, be honest' - Aida's message after losing five family members to Covid-19\", 'url': 'https://www.malaysiakini.com/news/519146'}, {'title': 'Indonesia makes wearing of face masks compulsory when away from home', 'url': 'https://www.malaysiakini.com/news/519125'}, {'title': \"Factbox: Who is Dominic Raab, Britain's standby leader?\", 'url': 'https://www.malaysiakini.com/news/519119'}, {'title': \"Accused of 'piracy', US denies diverting masks bound for Germany\", 'url': 'https://www.malaysiakini.com/news/519118'}, {'title': 'Dutch Lady contributes packs of milk to nourish Covid-19 Frontline Heroes', 'url': 'https://www.malaysiakini.com/announcement/519136'}, {'title': 'Covid-19: 131 new infections, 236 recoveries', 'url': 'https://www.malaysiakini.com/news/519107'}, {'title': \"LETTER | Gov't support and financial packages to save local airlines\", 'url': 'https://www.malaysiakini.com/letters/519104'}, {'title': \"COMMENT | The 'forgotten' frontliner and third line of defence\", 'url': 'https://www.malaysiakini.com/news/519101'}, {'title': 'Wage subsidy expanded, up to RM1,200', 'url': 'https://www.malaysiakini.com/news/519093'}, {'title': \"Running out of beds, Tokyo health staff say 'state of emergency' already here\", 'url': 'https://www.malaysiakini.com/news/519090'}, {'title': 'LETTER | Economic opportunities from Covid-19?', 'url': 'https://www.malaysiakini.com/letters/519086'}, {'title': 'Police to document actions taken in fight against Covid-19 - IGP', 'url': 'https://www.malaysiakini.com/news/519074'}, {'title': 'China sees rise in asymptomatic coronavirus cases', 'url': 'https://www.malaysiakini.com/news/519065'}, {'title': \"US faces 'really bad' week as coronavirus deaths spike\", 'url': 'https://www.malaysiakini.com/news/519049'}, {'title': \"LETTER | Covid-19: The Pope's call to all faiths, every nation\", 'url': 'https://www.malaysiakini.com/letters/519046'}, {'title': \"Homeless in S'wak given due attention during MCO, says minister\", 'url': 'https://www.malaysiakini.com/news/519042'}, {'title': 'British PM Johnson still in hospital with persistent coronavirus symptoms', 'url': 'https://www.malaysiakini.com/news/519038'}, {'title': 'Need FDI policy reforms to ride out Covid-19 impact - Don', 'url': 'https://www.malaysiakini.com/news/519021'}, {'title': \"'We're not hungry, we need masks' - Aussie doctor on Covid-19 frontline\", 'url': 'https://www.malaysiakini.com/news/519015'}, {'title': 'UN chief urges countries to protect women against domestic abuse amid Covid-19 pandemic', 'url': 'https://www.malaysiakini.com/news/519013'}, {'title': \"Covid-19: S'pore identifies one more foreign workers' dorm as new cluster\", 'url': 'https://www.malaysiakini.com/news/519006'}, {'title': 'Elton John launches fund for HIV/AIDS work amid coronavirus', 'url': 'https://www.malaysiakini.com/news/518999'}, {'title': \"Covid-19: 'Tiktok' family recovers\", 'url': 'https://www.malaysiakini.com/news/518996'}, {'title': 'MCO: Stop blaming the police for roadblocks - IGP', 'url': 'https://www.malaysiakini.com/news/518995'}, {'title': 'British postman delivers fancy dress joy to isolating residents', 'url': 'https://www.malaysiakini.com/news/518992'}, {'title': \"Ireland's PM returns to medical practice to help in coronavirus crisis\", 'url': 'https://www.malaysiakini.com/news/518989'}]\n",
      "[]\n"
     ]
    },
    {
     "ename": "TypeError",
     "evalue": "documents must be a non-empty list",
     "output_type": "error",
     "traceback": [
      "\u001b[0;31m---------------------------------------------------------------------------\u001b[0m",
      "\u001b[0;31mTypeError\u001b[0m                                 Traceback (most recent call last)",
      "\u001b[0;32m<timed exec>\u001b[0m in \u001b[0;36m<module>\u001b[0;34m\u001b[0m\n",
      "\u001b[0;32m<ipython-input-6-3418fd060041>\u001b[0m in \u001b[0;36mcrawl\u001b[0;34m(self)\u001b[0m\n\u001b[1;32m     43\u001b[0m             \u001b[0mprint\u001b[0m\u001b[0;34m(\u001b[0m\u001b[0mto_insert\u001b[0m\u001b[0;34m)\u001b[0m\u001b[0;34m\u001b[0m\u001b[0;34m\u001b[0m\u001b[0m\n\u001b[1;32m     44\u001b[0m             \u001b[0mprint\u001b[0m\u001b[0;34m(\u001b[0m\u001b[0mto_insert_2\u001b[0m\u001b[0;34m)\u001b[0m\u001b[0;34m\u001b[0m\u001b[0;34m\u001b[0m\u001b[0m\n\u001b[0;32m---> 45\u001b[0;31m             \u001b[0mself\u001b[0m\u001b[0;34m.\u001b[0m\u001b[0mcoll\u001b[0m\u001b[0;34m.\u001b[0m\u001b[0minsert_many\u001b[0m\u001b[0;34m(\u001b[0m\u001b[0mto_insert_2\u001b[0m\u001b[0;34m)\u001b[0m\u001b[0;34m\u001b[0m\u001b[0;34m\u001b[0m\u001b[0m\n\u001b[0m\u001b[1;32m     46\u001b[0m         \u001b[0;32melse\u001b[0m\u001b[0;34m:\u001b[0m\u001b[0;34m\u001b[0m\u001b[0;34m\u001b[0m\u001b[0m\n\u001b[1;32m     47\u001b[0m             \u001b[0mprint\u001b[0m\u001b[0;34m(\u001b[0m\u001b[0;34m\"False check.\"\u001b[0m\u001b[0;34m)\u001b[0m\u001b[0;34m\u001b[0m\u001b[0;34m\u001b[0m\u001b[0m\n",
      "\u001b[0;32m~/anaconda3/envs/covid/lib/python3.7/site-packages/pymongo/collection.py\u001b[0m in \u001b[0;36minsert_many\u001b[0;34m(self, documents, ordered, bypass_document_validation, session)\u001b[0m\n\u001b[1;32m    741\u001b[0m         \"\"\"\n\u001b[1;32m    742\u001b[0m         \u001b[0;32mif\u001b[0m \u001b[0;32mnot\u001b[0m \u001b[0misinstance\u001b[0m\u001b[0;34m(\u001b[0m\u001b[0mdocuments\u001b[0m\u001b[0;34m,\u001b[0m \u001b[0mabc\u001b[0m\u001b[0;34m.\u001b[0m\u001b[0mIterable\u001b[0m\u001b[0;34m)\u001b[0m \u001b[0;32mor\u001b[0m \u001b[0;32mnot\u001b[0m \u001b[0mdocuments\u001b[0m\u001b[0;34m:\u001b[0m\u001b[0;34m\u001b[0m\u001b[0;34m\u001b[0m\u001b[0m\n\u001b[0;32m--> 743\u001b[0;31m             \u001b[0;32mraise\u001b[0m \u001b[0mTypeError\u001b[0m\u001b[0;34m(\u001b[0m\u001b[0;34m\"documents must be a non-empty list\"\u001b[0m\u001b[0;34m)\u001b[0m\u001b[0;34m\u001b[0m\u001b[0;34m\u001b[0m\u001b[0m\n\u001b[0m\u001b[1;32m    744\u001b[0m         \u001b[0minserted_ids\u001b[0m \u001b[0;34m=\u001b[0m \u001b[0;34m[\u001b[0m\u001b[0;34m]\u001b[0m\u001b[0;34m\u001b[0m\u001b[0;34m\u001b[0m\u001b[0m\n\u001b[1;32m    745\u001b[0m         \u001b[0;32mdef\u001b[0m \u001b[0mgen\u001b[0m\u001b[0;34m(\u001b[0m\u001b[0;34m)\u001b[0m\u001b[0;34m:\u001b[0m\u001b[0;34m\u001b[0m\u001b[0;34m\u001b[0m\u001b[0m\n",
      "\u001b[0;31mTypeError\u001b[0m: documents must be a non-empty list"
     ]
    }
   ],
   "source": [
    "%%time\n",
    "C = CrawlMKListing()\n",
    "C.crawl()"
   ]
  },
  {
   "cell_type": "code",
   "execution_count": 84,
   "metadata": {},
   "outputs": [],
   "source": [
    "%%time\n",
    "url = \"https://www.malaysiakini.com/stories/covid19?page=0\"\n",
    "proxy = PROXY_LIST[2]\n",
    "coll = init_mongo()\n",
    "page_source, soup = browse(url, proxy)\n",
    "_check = check(soup)\n",
    "first_parse_list = parse(soup)\n",
    "coll.insert_many(first_parse_list)"
   ]
  },
  {
   "cell_type": "code",
   "execution_count": 28,
   "metadata": {},
   "outputs": [
    {
     "data": {
      "text/plain": [
       "array([[[0.653419  , 0.47827985, 0.65871204],\n",
       "        [0.23944157, 0.97640932, 0.82097919]]])"
      ]
     },
     "execution_count": 28,
     "metadata": {},
     "output_type": "execute_result"
    }
   ],
   "source": [
    "import numpy as np\n",
    "np.random.([1,2,3])"
   ]
  },
  {
   "cell_type": "code",
   "execution_count": 39,
   "metadata": {},
   "outputs": [
    {
     "data": {
      "text/plain": [
       "['/news/519093',\n",
       " '/news/518995',\n",
       " '/news/519065',\n",
       " '/news/519021',\n",
       " '/news/519107',\n",
       " '/news/519038',\n",
       " '/news/518999',\n",
       " '/news/518989',\n",
       " '/news/519074',\n",
       " '/news/519042',\n",
       " '/news/519171',\n",
       " '/news/519013',\n",
       " '/news/518992',\n",
       " '/news/519173',\n",
       " '/announcement/519136',\n",
       " '/news/519101',\n",
       " '/news/519090',\n",
       " '/news/519163',\n",
       " '/news/519049',\n",
       " '/news/519118',\n",
       " '/news/518996',\n",
       " '/news/519125',\n",
       " '/news/519156',\n",
       " '/letters/519046',\n",
       " '/news/519006',\n",
       " '/letters/519086',\n",
       " '/news/519015',\n",
       " '/news/519119',\n",
       " '/news/519146',\n",
       " '/letters/519104']"
      ]
     },
     "execution_count": 39,
     "metadata": {},
     "output_type": "execute_result"
    }
   ],
   "source": [
    "import random\n",
    "random.sample([j.get(\"href\") for j in x], len(x))"
   ]
  },
  {
   "cell_type": "code",
   "execution_count": null,
   "metadata": {},
   "outputs": [],
   "source": []
  },
  {
   "cell_type": "code",
   "execution_count": null,
   "metadata": {},
   "outputs": [],
   "source": [
    "x = \"36.89.10.51:34115\"\n",
    "\n",
    "# url = \"https://www.thestar.com.my/tag/covid-19+watch\"\n",
    "url = \"https://www.malaysiakini.com/stories/covid19\"\n",
    "chrome_options = Options()\n",
    "chrome_options.add_argument('--headless')\n",
    "chrome_options.add_argument('--no-sandbox')\n",
    "driver = webdriver.Chrome('/home/ubuntu/chromedriver',chrome_options=chrome_options)\n",
    "driver.get(url)\n",
    "\n",
    "## Click load more\n",
    "# python_button = driver.find_elements_by_xpath('//*[@id=\"loadMorestories\"]')[0]\n",
    "# python_button.click()\n",
    "\n",
    "## parse\n",
    "source = driver.page_source\n",
    "soup = BeautifulSoup(driver.page_source, 'html.parser')\n",
    "\n",
    "driver.close()\n"
   ]
  },
  {
   "cell_type": "code",
   "execution_count": null,
   "metadata": {},
   "outputs": [],
   "source": [
    "x = \"36.89.10.51:34115\"\n",
    "proxies = {\n",
    "  'http': 'http://128.199.217.244:47503',\n",
    "  'https': 'https://128.199.217.244:47503',\n",
    "#   'https': 'http://10.10.1.10:1080',\n",
    "}\n",
    "PROXY = x #\"128.199.217.244:47503\""
   ]
  },
  {
   "cell_type": "code",
   "execution_count": null,
   "metadata": {},
   "outputs": [],
   "source": []
  },
  {
   "cell_type": "code",
   "execution_count": null,
   "metadata": {},
   "outputs": [],
   "source": [
    "z=soup.find(\"div\", \"news\")\n",
    "news_list = z.find_all(\"a\")\n",
    "len(news_list)"
   ]
  },
  {
   "cell_type": "code",
   "execution_count": null,
   "metadata": {},
   "outputs": [],
   "source": [
    "news_list[0].get(\"href\")"
   ]
  },
  {
   "cell_type": "code",
   "execution_count": null,
   "metadata": {},
   "outputs": [],
   "source": [
    "import requests\n",
    "proxies = {\n",
    "  'http': 'http://128.199.217.244:47503',\n",
    "  'https': 'https://128.199.217.244:47503',\n",
    "#   'https': 'http://10.10.1.10:1080',\n",
    "}\n",
    "\n",
    "x = requests.get('http://example.org', proxies=proxies)"
   ]
  },
  {
   "cell_type": "code",
   "execution_count": null,
   "metadata": {},
   "outputs": [],
   "source": []
  },
  {
   "cell_type": "code",
   "execution_count": null,
   "metadata": {},
   "outputs": [],
   "source": [
    "soup"
   ]
  },
  {
   "cell_type": "code",
   "execution_count": null,
   "metadata": {},
   "outputs": [],
   "source": [
    "url = \"https://www.thestar.com.my/tag/covid-19+watch\"\n",
    "\n",
    "chrome_options = Options()\n",
    "chrome_options.add_argument('--headless')\n",
    "chrome_options.add_argument('--no-sandbox')\n",
    "# chrome_options.add_argument('--disable-dev-shm-usage')\n",
    "driver = webdriver.Chrome('/home/ubuntu/chromedriver',chrome_options=chrome_options)\n",
    "driver.get(url)\n",
    "# driver.implicitly_wait(3) # seconds\n",
    "python_button = driver.find_elements_by_xpath('//*[@id=\"loadMorestories\"]')[0]\n",
    "python_button.click()\n",
    "soup = BeautifulSoup(driver.page_source, 'html.parser')\n",
    "driver.close()\n",
    "# # click radio button"
   ]
  },
  {
   "cell_type": "code",
   "execution_count": null,
   "metadata": {},
   "outputs": [],
   "source": [
    "# soup\n",
    "x = soup.find_all(\"h2\", attrs = {\"class\": \"f18\"})\n",
    "len(x)"
   ]
  },
  {
   "cell_type": "code",
   "execution_count": null,
   "metadata": {},
   "outputs": [],
   "source": [
    "x[1].find(\"\")"
   ]
  },
  {
   "cell_type": "code",
   "execution_count": null,
   "metadata": {},
   "outputs": [],
   "source": [
    "title = x[0].find(\"a\").get(\"data-content-title\")\n",
    "href = x[0].find(\"a\").get(\"href\")\n"
   ]
  },
  {
   "cell_type": "code",
   "execution_count": null,
   "metadata": {},
   "outputs": [],
   "source": [
    "import requests\n",
    "import os\n",
    "API_KEY = os.environ.get('GOOGLE_NEWS_API_KEY')\n",
    "TOPIC = \"coronavirus\"\n",
    "COUNTRY = \"my\""
   ]
  },
  {
   "cell_type": "code",
   "execution_count": null,
   "metadata": {},
   "outputs": [],
   "source": [
    "# x = requests.get(f\"https://newsapi.org/v2/top-headlines?q={TOPIC}&country={COUNTRY}&apiKey={API_KEY}\")\n",
    "x2 = requests.get(f\"https://newsapi.org/v2/top-headlines?q={TOPIC}&country={COUNTRY}&apiKey={API_KEY}\")"
   ]
  },
  {
   "cell_type": "code",
   "execution_count": null,
   "metadata": {},
   "outputs": [],
   "source": [
    "# q = x.json()\n",
    "# len(q[\"articles\"])\n",
    "q2 = x2.json()\n",
    "q2[\"articles\"]"
   ]
  },
  {
   "cell_type": "code",
   "execution_count": null,
   "metadata": {},
   "outputs": [],
   "source": [
    "\n",
    "\n",
    "from newsapi import NewsApiClient\n",
    "\n",
    "# Init\n",
    "newsapi = NewsApiClient(api_key='API_KEY')\n",
    "\n",
    "# /v2/top-headlines\n",
    "top_headlines = newsapi.get_top_headlines(q='bitcoin',\n",
    "                                          sources='bbc-news,the-verge',\n",
    "                                          category='business',\n",
    "                                          language='en',\n",
    "                                          country='us')\n",
    "\n",
    "# /v2/everything\n",
    "all_articles = newsapi.get_everything(q='bitcoin',\n",
    "                                      sources='bbc-news,the-verge',\n",
    "                                      domains='bbc.co.uk,techcrunch.com',\n",
    "                                      from_param='2017-12-01',\n",
    "                                      to='2017-12-12',\n",
    "                                      language='en',\n",
    "                                      sort_by='relevancy',\n",
    "                                      page=2)\n",
    "\n",
    "# /v2/sources\n",
    "sources = newsapi.get_sources()\n",
    "\n"
   ]
  },
  {
   "cell_type": "code",
   "execution_count": null,
   "metadata": {},
   "outputs": [],
   "source": [
    "# 'img_src': response.css('div.td-post-content img::attr(src)').getall(),\n",
    "import pymongo\n",
    "\n",
    "client = pymongo.MongoClient()\n",
    "db = client[\"news\"]\n",
    "coll = db[\"sebenarnya_v2_test1\"]\n",
    "# coll = db[\"sebenarnya_v2_proccessed1\"]\n",
    "\n",
    "q = {'category': 'COVID-19'}"
   ]
  },
  {
   "cell_type": "code",
   "execution_count": null,
   "metadata": {},
   "outputs": [],
   "source": [
    "len(list(coll.find()))"
   ]
  },
  {
   "cell_type": "code",
   "execution_count": null,
   "metadata": {},
   "outputs": [],
   "source": [
    "x = [j[\"date\"] for j in list(coll.find())]\n",
    "x"
   ]
  },
  {
   "cell_type": "code",
   "execution_count": null,
   "metadata": {},
   "outputs": [],
   "source": [
    "coll.find_one()[\"content_text\"]"
   ]
  },
  {
   "cell_type": "code",
   "execution_count": null,
   "metadata": {},
   "outputs": [],
   "source": [
    "# list(coll.find(q))"
   ]
  },
  {
   "cell_type": "code",
   "execution_count": null,
   "metadata": {},
   "outputs": [],
   "source": [
    "x = coll.find_one()\n",
    "x.keys()"
   ]
  },
  {
   "cell_type": "code",
   "execution_count": null,
   "metadata": {},
   "outputs": [],
   "source": [
    "x[\"date\"]"
   ]
  },
  {
   "cell_type": "code",
   "execution_count": null,
   "metadata": {},
   "outputs": [],
   "source": [
    "q = coll.list_indexes()\n",
    "list(q)"
   ]
  },
  {
   "cell_type": "code",
   "execution_count": null,
   "metadata": {},
   "outputs": [],
   "source": [
    "coll.drop_indexes()"
   ]
  },
  {
   "cell_type": "code",
   "execution_count": null,
   "metadata": {},
   "outputs": [],
   "source": [
    "coll.create_index([('search_text', TEXT), ('title', TEXT)])"
   ]
  },
  {
   "cell_type": "code",
   "execution_count": null,
   "metadata": {},
   "outputs": [],
   "source": [
    "x = coll.find({\"$text\":{\"$search\": \"\\\"Waspada Mesej Penipuan\\\"\"}})\n",
    "# x = coll.find()\n",
    "z = list(x)\n",
    "len(z)"
   ]
  },
  {
   "cell_type": "code",
   "execution_count": null,
   "metadata": {},
   "outputs": [],
   "source": [
    "# z[]"
   ]
  },
  {
   "cell_type": "code",
   "execution_count": null,
   "metadata": {},
   "outputs": [],
   "source": [
    "%%time\n",
    "x = coll.find_one()\n",
    "list(x.keys())"
   ]
  },
  {
   "cell_type": "code",
   "execution_count": null,
   "metadata": {},
   "outputs": [],
   "source": [
    "x[\"content_text\"]"
   ]
  },
  {
   "cell_type": "code",
   "execution_count": null,
   "metadata": {},
   "outputs": [],
   "source": [
    "list(coll.find_one().keys())\n",
    "\n"
   ]
  },
  {
   "cell_type": "code",
   "execution_count": null,
   "metadata": {},
   "outputs": [],
   "source": [
    "import datetime\n",
    "dt = datetime.datetime(2020, 4,1)\n",
    "category = \"placeholder\"\n",
    "enabled_projection = [\"url\", \"title\", \"category\"]\n",
    "proj = {key:1 for key in enabled_projection}\n",
    "filter_query = {\"$text\": {\"$search\":\"Palsu\"}, \"category\": category}\n",
    "x = list(coll.find(filter_query, proj).limit(2))"
   ]
  },
  {
   "cell_type": "code",
   "execution_count": null,
   "metadata": {},
   "outputs": [],
   "source": [
    "len(x)"
   ]
  },
  {
   "cell_type": "code",
   "execution_count": null,
   "metadata": {},
   "outputs": [],
   "source": [
    "content = coll.find_one()['content_html']\n",
    "soup = BeautifulSoup(content[0], 'html.parser')\n",
    "[line.strip() for line in soup.text.split('\\n') if line.strip() != '']"
   ]
  },
  {
   "cell_type": "code",
   "execution_count": null,
   "metadata": {},
   "outputs": [],
   "source": [
    "len(list(coll.find()))"
   ]
  },
  {
   "cell_type": "code",
   "execution_count": null,
   "metadata": {},
   "outputs": [],
   "source": [
    "# coll.drop()"
   ]
  },
  {
   "cell_type": "code",
   "execution_count": null,
   "metadata": {},
   "outputs": [],
   "source": []
  },
  {
   "cell_type": "code",
   "execution_count": null,
   "metadata": {},
   "outputs": [],
   "source": []
  }
 ],
 "metadata": {
  "kernelspec": {
   "display_name": "Python 3",
   "language": "python",
   "name": "python3"
  },
  "language_info": {
   "codemirror_mode": {
    "name": "ipython",
    "version": 3
   },
   "file_extension": ".py",
   "mimetype": "text/x-python",
   "name": "python",
   "nbconvert_exporter": "python",
   "pygments_lexer": "ipython3",
   "version": "3.7.7"
  }
 },
 "nbformat": 4,
 "nbformat_minor": 4
}
