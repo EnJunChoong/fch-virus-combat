{
 "cells": [
  {
   "cell_type": "code",
   "execution_count": 104,
   "metadata": {},
   "outputs": [],
   "source": [
    "import scrapy\n",
    "from bs4 import BeautifulSoup\n",
    "from pymongo import TEXT"
   ]
  },
  {
   "cell_type": "code",
   "execution_count": 158,
   "metadata": {},
   "outputs": [],
   "source": [
    "# 'img_src': response.css('div.td-post-content img::attr(src)').getall(),\n",
    "import pymongo\n",
    "\n",
    "client = pymongo.MongoClient()\n",
    "db = client[\"news\"]\n",
    "# coll = db[\"sebenarnya_v2_test1\"]\n",
    "coll = db[\"sebenarnya_v2_proccessed1\"]\n",
    "\n",
    "q = {'category': 'COVID-19'}"
   ]
  },
  {
   "cell_type": "code",
   "execution_count": 162,
   "metadata": {},
   "outputs": [
    {
     "data": {
      "text/plain": [
       "[{'header': 'SEBENARNYA',\n",
       "  'text': 'Jabatan Kebajikan Masyarakat (JKM) menafikan nombor talian telefon bimbit tular di media WhatsApp adalah nombor talian hotline JKM.\\nSebarang urusan berhubung Bantuan COVID-19 dan sumbangan NGO, sila hubungi Bilik Gerakan JKM atau Talian Kasih yang beroperasi 24 jam.'}]"
      ]
     },
     "execution_count": 162,
     "metadata": {},
     "output_type": "execute_result"
    }
   ],
   "source": [
    "coll.find_one()[\"content_text\"]"
   ]
  },
  {
   "cell_type": "code",
   "execution_count": 163,
   "metadata": {},
   "outputs": [],
   "source": [
    "# list(coll.find(q))"
   ]
  },
  {
   "cell_type": "code",
   "execution_count": 139,
   "metadata": {},
   "outputs": [
    {
     "data": {
      "text/plain": [
       "dict_keys(['_id', 'date', 'category', 'url', 'title', 'content_text', 'images', 'audios', 'fact_src', 'label', 'confidence', 'search_text', 'content_html'])"
      ]
     },
     "execution_count": 139,
     "metadata": {},
     "output_type": "execute_result"
    }
   ],
   "source": [
    "x = coll.find_one()\n",
    "x.keys()"
   ]
  },
  {
   "cell_type": "code",
   "execution_count": 147,
   "metadata": {},
   "outputs": [
    {
     "data": {
      "text/plain": [
       "datetime.datetime(2020, 4, 3, 0, 28)"
      ]
     },
     "execution_count": 147,
     "metadata": {},
     "output_type": "execute_result"
    }
   ],
   "source": [
    "x[\"date\"]"
   ]
  },
  {
   "cell_type": "code",
   "execution_count": 128,
   "metadata": {},
   "outputs": [
    {
     "data": {
      "text/plain": [
       "[SON([('v', 2), ('key', SON([('_id', 1)])), ('name', '_id_'), ('ns', 'news.sebenarnya_v2_proccessed1')]),\n",
       " SON([('v', 2), ('key', SON([('_fts', 'text'), ('_ftsx', 1)])), ('name', 'content_text_text_title_text'), ('ns', 'news.sebenarnya_v2_proccessed1'), ('weights', SON([('content_text', 1), ('title', 1)])), ('default_language', 'english'), ('language_override', 'language'), ('textIndexVersion', 3)])]"
      ]
     },
     "execution_count": 128,
     "metadata": {},
     "output_type": "execute_result"
    }
   ],
   "source": [
    "q = coll.list_indexes()\n",
    "list(q)"
   ]
  },
  {
   "cell_type": "code",
   "execution_count": 130,
   "metadata": {},
   "outputs": [],
   "source": [
    "coll.drop_indexes()"
   ]
  },
  {
   "cell_type": "code",
   "execution_count": 131,
   "metadata": {},
   "outputs": [
    {
     "data": {
      "text/plain": [
       "'search_text_text_title_text'"
      ]
     },
     "execution_count": 131,
     "metadata": {},
     "output_type": "execute_result"
    }
   ],
   "source": [
    "coll.create_index([('search_text', TEXT), ('title', TEXT)])"
   ]
  },
  {
   "cell_type": "code",
   "execution_count": 167,
   "metadata": {},
   "outputs": [
    {
     "data": {
      "text/plain": [
       "1"
      ]
     },
     "execution_count": 167,
     "metadata": {},
     "output_type": "execute_result"
    }
   ],
   "source": [
    "x = coll.find({\"$text\":{\"$search\": \"\\\"Waspada Mesej Penipuan\\\"\"}})\n",
    "# x = coll.find()\n",
    "z = list(x)\n",
    "len(z)"
   ]
  },
  {
   "cell_type": "code",
   "execution_count": 169,
   "metadata": {},
   "outputs": [],
   "source": [
    "# z[]"
   ]
  },
  {
   "cell_type": "code",
   "execution_count": 97,
   "metadata": {},
   "outputs": [
    {
     "name": "stdout",
     "output_type": "stream",
     "text": [
      "CPU times: user 2 ms, sys: 0 ns, total: 2 ms\n",
      "Wall time: 2.4 ms\n"
     ]
    },
    {
     "data": {
      "text/plain": [
       "['_id',\n",
       " 'date',\n",
       " 'category',\n",
       " 'url',\n",
       " 'title',\n",
       " 'content_text',\n",
       " 'images',\n",
       " 'audios',\n",
       " 'fact_src',\n",
       " 'label',\n",
       " 'confidence',\n",
       " 'content_html']"
      ]
     },
     "execution_count": 97,
     "metadata": {},
     "output_type": "execute_result"
    }
   ],
   "source": [
    "%%time\n",
    "x = coll.find_one()\n",
    "list(x.keys())"
   ]
  },
  {
   "cell_type": "code",
   "execution_count": 78,
   "metadata": {},
   "outputs": [
    {
     "data": {
      "text/plain": [
       "{'SEBENARNYA:': 'Jabatan Kebajikan Masyarakat (JKM) menafikan nombor talian telefon bimbit tular di media WhatsApp adalah nombor talian hotline JKM.\\nSebarang urusan berhubung Bantuan COVID-19 dan sumbangan NGO, sila hubungi Bilik Gerakan JKM atau Talian Kasih yang beroperasi 24 jam.'}"
      ]
     },
     "execution_count": 78,
     "metadata": {},
     "output_type": "execute_result"
    }
   ],
   "source": [
    "x[\"content_text\"]"
   ]
  },
  {
   "cell_type": "code",
   "execution_count": 39,
   "metadata": {},
   "outputs": [
    {
     "data": {
      "text/plain": [
       "['_id',\n",
       " 'date',\n",
       " 'title',\n",
       " 'content_html',\n",
       " 'url',\n",
       " 'label',\n",
       " 'confidence',\n",
       " 'category',\n",
       " 'meta_full_html',\n",
       " 'dep_content_text',\n",
       " 'dep_img_src']"
      ]
     },
     "execution_count": 39,
     "metadata": {},
     "output_type": "execute_result"
    }
   ],
   "source": [
    "list(coll.find_one().keys())\n",
    "\n"
   ]
  },
  {
   "cell_type": "code",
   "execution_count": 59,
   "metadata": {},
   "outputs": [],
   "source": [
    "import datetime\n",
    "dt = datetime.datetime(2020, 4,1)\n",
    "category = \"placeholder\"\n",
    "enabled_projection = [\"url\", \"title\", \"category\"]\n",
    "proj = {key:1 for key in enabled_projection}\n",
    "filter_query = {\"$text\": {\"$search\":\"Palsu\"}, \"category\": category}\n",
    "x = list(coll.find(filter_query, proj).limit(2))"
   ]
  },
  {
   "cell_type": "code",
   "execution_count": 60,
   "metadata": {},
   "outputs": [
    {
     "data": {
      "text/plain": [
       "2"
      ]
     },
     "execution_count": 60,
     "metadata": {},
     "output_type": "execute_result"
    }
   ],
   "source": [
    "len(x)"
   ]
  },
  {
   "cell_type": "code",
   "execution_count": 27,
   "metadata": {},
   "outputs": [
    {
     "data": {
      "text/plain": [
       "['SEBENARNYA:',\n",
       " 'Jabatan Kesihatan Negeri Johor (JKNJ) ingin merujuk kepada mesej berangkai yang tular di aplikasi WhatsApp berkaitan hebahan maklumat Kes Positif COVID-19 di Jalan Budiman, Kampung Melayu Majidee, Johor Bahru, Johor adalah tidak benar.',\n",
       " 'Untuk makluman, JKN Johor ingin menafikan maklumat berkaitan dan masyarakat diminta untuk tidak menularkan sebarang berita yang tidak sahih agar tidak mencetuskan kebimbangan atau kekeliruan dikalangan masyarakat.',\n",
       " 'SUMBER:',\n",
       " 'Facebook Rasmi JKNJ',\n",
       " 'MAINKAN PERANAN ANDA!',\n",
       " 'Sekiranya anda mempunyai maklumat mengenai berita tidak ditentusah yang melibatkan kepentingan awam mahupun negara,',\n",
       " 'Salurkan Kepada Kami',\n",
       " 'TIDAK PASTI JANGAN KONGSI']"
      ]
     },
     "execution_count": 27,
     "metadata": {},
     "output_type": "execute_result"
    }
   ],
   "source": [
    "content = coll.find_one()['content_html']\n",
    "soup = BeautifulSoup(content[0], 'html.parser')\n",
    "[line.strip() for line in soup.text.split('\\n') if line.strip() != '']"
   ]
  },
  {
   "cell_type": "code",
   "execution_count": 25,
   "metadata": {},
   "outputs": [
    {
     "data": {
      "text/plain": [
       "30"
      ]
     },
     "execution_count": 25,
     "metadata": {},
     "output_type": "execute_result"
    }
   ],
   "source": [
    "len(list(coll.find()))"
   ]
  },
  {
   "cell_type": "code",
   "execution_count": 17,
   "metadata": {},
   "outputs": [],
   "source": [
    "# coll.drop()"
   ]
  },
  {
   "cell_type": "code",
   "execution_count": 45,
   "metadata": {},
   "outputs": [
    {
     "data": {
      "text/plain": [
       "{'_id': ObjectId('5e86081fde9d87570b10b145')}"
      ]
     },
     "execution_count": 45,
     "metadata": {},
     "output_type": "execute_result"
    }
   ],
   "source": []
  },
  {
   "cell_type": "code",
   "execution_count": null,
   "metadata": {},
   "outputs": [],
   "source": []
  }
 ],
 "metadata": {
  "kernelspec": {
   "display_name": "Python 3",
   "language": "python",
   "name": "python3"
  },
  "language_info": {
   "codemirror_mode": {
    "name": "ipython",
    "version": 3
   },
   "file_extension": ".py",
   "mimetype": "text/x-python",
   "name": "python",
   "nbconvert_exporter": "python",
   "pygments_lexer": "ipython3",
   "version": "3.7.7"
  }
 },
 "nbformat": 4,
 "nbformat_minor": 4
}
